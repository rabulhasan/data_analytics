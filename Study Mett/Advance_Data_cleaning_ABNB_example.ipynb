{
  "nbformat": 4,
  "nbformat_minor": 0,
  "metadata": {
    "colab": {
      "name": "Advance Data cleaning ABNB example",
      "provenance": [],
      "collapsed_sections": [
        "SvMs1y6gucs6",
        "VnxYYabO0Bdt",
        "vIhIK0Cd_hGs"
      ],
      "include_colab_link": true
    },
    "kernelspec": {
      "name": "python3",
      "display_name": "Python 3"
    }
  },
  "cells": [
    {
      "cell_type": "markdown",
      "metadata": {
        "id": "view-in-github",
        "colab_type": "text"
      },
      "source": [
        "<a href=\"https://colab.research.google.com/github/rabulhasan/data_analytics_2/blob/main/Study%20Mett/Advance_Data_cleaning_ABNB_example.ipynb\" target=\"_parent\"><img src=\"https://colab.research.google.com/assets/colab-badge.svg\" alt=\"Open In Colab\"/></a>"
      ]
    },
    {
      "cell_type": "markdown",
      "metadata": {
        "id": "6Ijg5wUCTQYG"
      },
      "source": [
        "<p align=\"center\"><h1 align=\"center\"> Microcredentioal data analytics</h1>\n",
        "<p align=\"center\">\n",
        "<br><br>\n",
        "\n",
        "<img src=\"http://www1.nyc.gov/assets/opportunity/pdf/cuny-name-logo.jpg \">\n",
        "</p><h6>The material taken from https://colab.research.google.com/github/adelnehme/cleaning-data-in-python-live-training/blob/master/Cleaning_Data_in_Python_live_session.ipynb and edited.</h6>\n",
        "<br><br>\n",
        "\n",
        "## **Advance Data Cleaning in Python **\n",
        "\n",
        "\n",
        " In this session, we will be covering how transform our raw data into accurate insights. In this notebook, you will learn:\n",
        "\n",
        "* Import data into `pandas`, and use simple functions to diagnose problems in our data.\n",
        "* Visualize missing and out of range data using `missingno` and `seaborn`.\n",
        "* Apply a range of data cleaning tasks that will ensure the delivery of accurate insights.\n",
        "\n",
        "## **The Dataset**\n",
        "\n",
        "The dataset to be used in this webinar is a CSV file named `airbnb.csv`, which contains data on airbnb listings in the state of New York. It contains the following columns:\n",
        "\n",
        "- `listing_id`: The unique identifier for a listing\n",
        "- `description`: The description used on the listing\n",
        "- `host_id`: Unique identifier for a host\n",
        "- `host_name`: Name of host\n",
        "- `neighbourhood_full`: Name of boroughs and neighbourhoods\n",
        "- `coordinates`: Coordinates of listing _(latitude, longitude)_\n",
        "- `Listing added`: Date of added listing\n",
        "- `room_type`: Type of room \n",
        "- `rating`: Rating from 0 to 5.\n",
        "- `price`: Price per night for listing\n",
        "- `number_of_reviews`: Amount of reviews received \n",
        "- `last_review`: Date of last review\n",
        "- `reviews_per_month`: Number of reviews per month\n",
        "- `availability_365`: Number of days available per year\n",
        "- `Number of stays`: Total number of stays thus far\n"
      ]
    },
    {
      "cell_type": "code",
      "metadata": {
        "id": "yuiuDh1ui4Th"
      },
      "source": [
        ""
      ],
      "execution_count": null,
      "outputs": []
    },
    {
      "cell_type": "code",
      "metadata": {
        "id": "L--03abwir79"
      },
      "source": [
        ""
      ],
      "execution_count": null,
      "outputs": []
    },
    {
      "cell_type": "code",
      "metadata": {
        "id": "u2NV2pkbiivW"
      },
      "source": [
        ""
      ],
      "execution_count": null,
      "outputs": []
    },
    {
      "cell_type": "code",
      "metadata": {
        "id": "N8c7QRH2ikI6"
      },
      "source": [
        ""
      ],
      "execution_count": null,
      "outputs": []
    },
    {
      "cell_type": "code",
      "metadata": {
        "id": "YSSq_VoViQ6F"
      },
      "source": [
        ""
      ],
      "execution_count": null,
      "outputs": []
    },
    {
      "cell_type": "code",
      "metadata": {
        "id": "Qznm9TREiFXq"
      },
      "source": [
        ""
      ],
      "execution_count": null,
      "outputs": []
    },
    {
      "cell_type": "code",
      "metadata": {
        "id": "XAfqP9G7hz_7"
      },
      "source": [
        ""
      ],
      "execution_count": null,
      "outputs": []
    },
    {
      "cell_type": "code",
      "metadata": {
        "id": "JC_J1trEhERU"
      },
      "source": [
        ""
      ],
      "execution_count": null,
      "outputs": []
    },
    {
      "cell_type": "markdown",
      "metadata": {
        "id": "BMYfcKeDY85K"
      },
      "source": [
        "## **Getting started**"
      ]
    },
    {
      "cell_type": "code",
      "metadata": {
        "id": "EMQfyC7GUNhT"
      },
      "source": [
        "# Import libraries\n",
        "import pandas as pd\n",
        "import matplotlib.pyplot as plt\n",
        "import numpy as np\n",
        "import seaborn as sns\n",
        "import missingno as msno\n",
        "import datetime as dt"
      ],
      "execution_count": null,
      "outputs": []
    },
    {
      "cell_type": "code",
      "metadata": {
        "id": "l8t_EwRNZPLB"
      },
      "source": [
        "# Read in the dataset\n",
        "airbnb = pd.read_csv('https://github.com/adelnehme/python-for-spreadsheet-users-webinar/blob/master/datasets/airbnb.csv?raw=true', index_col = 'Unnamed: 0')"
      ],
      "execution_count": null,
      "outputs": []
    },
    {
      "cell_type": "markdown",
      "metadata": {
        "id": "1ui1uvtyZwfQ"
      },
      "source": [
        "## **Diagnosing data cleaning problems using simple `pandas` and visualizations** "
      ]
    },
    {
      "cell_type": "markdown",
      "metadata": {
        "id": "t3fgtos4Z6Xa"
      },
      "source": [
        "Some important and common methods needed to get a better understanding of DataFrames and diagnose potential data problems are the following: \n",
        "\n",
        "- `.head()` prints the header of a DataFrame\n",
        "- `.dtypes` prints datatypes of all columns in a DataFrame\n",
        "- `.info()` provides a bird's eye view of column data types and missing values in a DataFrame\n",
        "- `.describe()` returns a distribution of numeric columns in your DataFrame\n",
        "- `.isna().sum()` allows us to break down the number of missing values per column in our DataFrame\n",
        "- `.unique()` finds the number of unique values in a DataFrame column\n",
        "\n",
        "<br>\n",
        "\n",
        "- `sns.displot()` plots the distribution of one column in your DataFrame."
      ]
    },
    {
      "cell_type": "code",
      "metadata": {
        "id": "x3w1WbkFZ-ig",
        "colab": {
          "base_uri": "https://localhost:8080/",
          "height": 499
        },
        "outputId": "ab47504e-eb91-451f-edbb-6490173b0d32"
      },
      "source": [
        "# Print the header of the DataFrame\n",
        "airbnb.head()"
      ],
      "execution_count": null,
      "outputs": [
        {
          "output_type": "execute_result",
          "data": {
            "text/html": [
              "<div>\n",
              "<style scoped>\n",
              "    .dataframe tbody tr th:only-of-type {\n",
              "        vertical-align: middle;\n",
              "    }\n",
              "\n",
              "    .dataframe tbody tr th {\n",
              "        vertical-align: top;\n",
              "    }\n",
              "\n",
              "    .dataframe thead th {\n",
              "        text-align: right;\n",
              "    }\n",
              "</style>\n",
              "<table border=\"1\" class=\"dataframe\">\n",
              "  <thead>\n",
              "    <tr style=\"text-align: right;\">\n",
              "      <th></th>\n",
              "      <th>listing_id</th>\n",
              "      <th>name</th>\n",
              "      <th>host_id</th>\n",
              "      <th>host_name</th>\n",
              "      <th>neighbourhood_full</th>\n",
              "      <th>coordinates</th>\n",
              "      <th>room_type</th>\n",
              "      <th>price</th>\n",
              "      <th>number_of_reviews</th>\n",
              "      <th>last_review</th>\n",
              "      <th>reviews_per_month</th>\n",
              "      <th>availability_365</th>\n",
              "      <th>rating</th>\n",
              "      <th>number_of_stays</th>\n",
              "      <th>5_stars</th>\n",
              "      <th>listing_added</th>\n",
              "    </tr>\n",
              "  </thead>\n",
              "  <tbody>\n",
              "    <tr>\n",
              "      <th>0</th>\n",
              "      <td>13740704</td>\n",
              "      <td>Cozy,budget friendly, cable inc, private entra...</td>\n",
              "      <td>20583125</td>\n",
              "      <td>Michel</td>\n",
              "      <td>Brooklyn, Flatlands</td>\n",
              "      <td>(40.63222, -73.93398)</td>\n",
              "      <td>Private room</td>\n",
              "      <td>45$</td>\n",
              "      <td>10</td>\n",
              "      <td>2018-12-12</td>\n",
              "      <td>0.70</td>\n",
              "      <td>85</td>\n",
              "      <td>4.100954</td>\n",
              "      <td>12.0</td>\n",
              "      <td>0.609432</td>\n",
              "      <td>2018-06-08</td>\n",
              "    </tr>\n",
              "    <tr>\n",
              "      <th>1</th>\n",
              "      <td>22005115</td>\n",
              "      <td>Two floor apartment near Central Park</td>\n",
              "      <td>82746113</td>\n",
              "      <td>Cecilia</td>\n",
              "      <td>Manhattan, Upper West Side</td>\n",
              "      <td>(40.78761, -73.96862)</td>\n",
              "      <td>Entire home/apt</td>\n",
              "      <td>135$</td>\n",
              "      <td>1</td>\n",
              "      <td>2019-06-30</td>\n",
              "      <td>1.00</td>\n",
              "      <td>145</td>\n",
              "      <td>3.367600</td>\n",
              "      <td>1.2</td>\n",
              "      <td>0.746135</td>\n",
              "      <td>2018-12-25</td>\n",
              "    </tr>\n",
              "    <tr>\n",
              "      <th>2</th>\n",
              "      <td>21667615</td>\n",
              "      <td>Beautiful 1BR in Brooklyn Heights</td>\n",
              "      <td>78251</td>\n",
              "      <td>Leslie</td>\n",
              "      <td>Brooklyn, Brooklyn Heights</td>\n",
              "      <td>(40.7007, -73.99517)</td>\n",
              "      <td>Entire home/apt</td>\n",
              "      <td>150$</td>\n",
              "      <td>0</td>\n",
              "      <td>NaN</td>\n",
              "      <td>NaN</td>\n",
              "      <td>65</td>\n",
              "      <td>NaN</td>\n",
              "      <td>NaN</td>\n",
              "      <td>NaN</td>\n",
              "      <td>2018-08-15</td>\n",
              "    </tr>\n",
              "    <tr>\n",
              "      <th>3</th>\n",
              "      <td>6425850</td>\n",
              "      <td>Spacious, charming studio</td>\n",
              "      <td>32715865</td>\n",
              "      <td>Yelena</td>\n",
              "      <td>Manhattan, Upper West Side</td>\n",
              "      <td>(40.79169, -73.97498)</td>\n",
              "      <td>Entire home/apt</td>\n",
              "      <td>86$</td>\n",
              "      <td>5</td>\n",
              "      <td>2017-09-23</td>\n",
              "      <td>0.13</td>\n",
              "      <td>0</td>\n",
              "      <td>4.763203</td>\n",
              "      <td>6.0</td>\n",
              "      <td>0.769947</td>\n",
              "      <td>2017-03-20</td>\n",
              "    </tr>\n",
              "    <tr>\n",
              "      <th>4</th>\n",
              "      <td>22986519</td>\n",
              "      <td>Bedroom on the lively Lower East Side</td>\n",
              "      <td>154262349</td>\n",
              "      <td>Brooke</td>\n",
              "      <td>Manhattan, Lower East Side</td>\n",
              "      <td>(40.71884, -73.98354)</td>\n",
              "      <td>Private room</td>\n",
              "      <td>160$</td>\n",
              "      <td>23</td>\n",
              "      <td>2019-06-12</td>\n",
              "      <td>2.29</td>\n",
              "      <td>102</td>\n",
              "      <td>3.822591</td>\n",
              "      <td>27.6</td>\n",
              "      <td>0.649383</td>\n",
              "      <td>2020-10-23</td>\n",
              "    </tr>\n",
              "  </tbody>\n",
              "</table>\n",
              "</div>"
            ],
            "text/plain": [
              "   listing_id  ... listing_added\n",
              "0    13740704  ...    2018-06-08\n",
              "1    22005115  ...    2018-12-25\n",
              "2    21667615  ...    2018-08-15\n",
              "3     6425850  ...    2017-03-20\n",
              "4    22986519  ...    2020-10-23\n",
              "\n",
              "[5 rows x 16 columns]"
            ]
          },
          "metadata": {
            "tags": []
          },
          "execution_count": 9
        }
      ]
    },
    {
      "cell_type": "markdown",
      "metadata": {
        "id": "kdp2jmQDal5L"
      },
      "source": [
        "By merely looking at the data, we can already diagnose a range of potential problems down the line such as:\n",
        "\n",
        "<br>\n",
        "\n",
        "_Data type problems:_\n",
        "\n",
        "- **Problem 1**: We can see that the `coordinates` column is probably a string (`str`) - most mapping functions require a latitude input, and longitude input, so it's best to split this column into two and convert the values to `float`.\n",
        "- **Problem 2**: Similar to `coordinates` - the `price` column also is a string with `$` attached to each price point, we need to convert that to `float` if we want a good understanding of the dataset. \n",
        "- **Problem 3**: We need to make sure date columns (`last_review` and `listing_added`) are in `datetime` to allow easier manipulation of data data.\n",
        "\n",
        "<br>\n",
        "\n",
        "_Missing data problems:_\n",
        "\n",
        "- **Problem 4**: We can see that there are missing data in some columns, we'll get a better bird's eye view of that down the line.\n",
        "\n",
        "<br>\n",
        "\n",
        "_Text/categorical data problems:_\n",
        "\n",
        "\n",
        "- **Problem 5**: To be able to visualize number of listings by boroughs - we need to separate neighborhoud name from borough name in `neighbourhood_full` column.\n",
        "- **Problem 6**: Looking at `room_type`, let's replace those values to make them `'Shared Room'`, `'Private Home/Apartment'`, `'Private Room'` and `'Hotel Room'`."
      ]
    },
    {
      "cell_type": "code",
      "metadata": {
        "id": "SiWS3EiPakp2",
        "colab": {
          "base_uri": "https://localhost:8080/"
        },
        "outputId": "74b70c09-5cbf-4745-f8c8-73687a7a1d8e"
      },
      "source": [
        "# Print data types of DataFrame\n",
        "airbnb.dtypes"
      ],
      "execution_count": null,
      "outputs": [
        {
          "output_type": "execute_result",
          "data": {
            "text/plain": [
              "listing_id              int64\n",
              "name                   object\n",
              "host_id                 int64\n",
              "host_name              object\n",
              "neighbourhood_full     object\n",
              "coordinates            object\n",
              "room_type              object\n",
              "price                  object\n",
              "number_of_reviews       int64\n",
              "last_review            object\n",
              "reviews_per_month     float64\n",
              "availability_365        int64\n",
              "rating                float64\n",
              "number_of_stays       float64\n",
              "5_stars               float64\n",
              "listing_added          object\n",
              "dtype: object"
            ]
          },
          "metadata": {
            "tags": []
          },
          "execution_count": 10
        }
      ]
    },
    {
      "cell_type": "markdown",
      "metadata": {
        "id": "Sjn8XH8IiO5q"
      },
      "source": [
        "Printing the data types confirms that `coordinates` and `price` need to be converted to `float`, and date columns need to be converted to `datetime` _(**problems 1,2 3)**_"
      ]
    },
    {
      "cell_type": "code",
      "metadata": {
        "id": "KoT5LMdSiW1H",
        "colab": {
          "base_uri": "https://localhost:8080/"
        },
        "outputId": "b5ceb033-9e54-4474-b5cf-5bfa47116ecf"
      },
      "source": [
        "# Print info of DataFrame\n",
        "airbnb.info()"
      ],
      "execution_count": null,
      "outputs": [
        {
          "output_type": "stream",
          "text": [
            "<class 'pandas.core.frame.DataFrame'>\n",
            "Int64Index: 10019 entries, 0 to 10018\n",
            "Data columns (total 16 columns):\n",
            " #   Column              Non-Null Count  Dtype  \n",
            "---  ------              --------------  -----  \n",
            " 0   listing_id          10019 non-null  int64  \n",
            " 1   name                10014 non-null  object \n",
            " 2   host_id             10019 non-null  int64  \n",
            " 3   host_name           10017 non-null  object \n",
            " 4   neighbourhood_full  10019 non-null  object \n",
            " 5   coordinates         10019 non-null  object \n",
            " 6   room_type           10019 non-null  object \n",
            " 7   price               9781 non-null   object \n",
            " 8   number_of_reviews   10019 non-null  int64  \n",
            " 9   last_review         7944 non-null   object \n",
            " 10  reviews_per_month   7944 non-null   float64\n",
            " 11  availability_365    10019 non-null  int64  \n",
            " 12  rating              7944 non-null   float64\n",
            " 13  number_of_stays     7944 non-null   float64\n",
            " 14  5_stars             7944 non-null   float64\n",
            " 15  listing_added       10019 non-null  object \n",
            "dtypes: float64(4), int64(4), object(8)\n",
            "memory usage: 1.3+ MB\n"
          ],
          "name": "stdout"
        }
      ]
    },
    {
      "cell_type": "markdown",
      "metadata": {
        "id": "HjJ3UoLJey41"
      },
      "source": [
        "Printing the info confirms our hunch about the following:\n",
        "\n",
        "- There is missing data in the `price`, `last_review`, `reviews_per_month`, `rating`, `number_of_stays`, `5_stars` columns. It also seems that the missingness of `last_review`, `reviews_per_month`, `rating`, `number_of_stays`, `5_stars` are related since they have the same amount of missing data. We will confirm later with `missingno` _(**problem 4**)_."
      ]
    },
    {
      "cell_type": "code",
      "metadata": {
        "id": "dvsinK9zexdv",
        "colab": {
          "base_uri": "https://localhost:8080/"
        },
        "outputId": "63883887-e186-4d82-f404-5cab8c54ca13"
      },
      "source": [
        "# Print number of missing values\n",
        "airbnb.isna().sum()"
      ],
      "execution_count": null,
      "outputs": [
        {
          "output_type": "execute_result",
          "data": {
            "text/plain": [
              "listing_id               0\n",
              "name                     5\n",
              "host_id                  0\n",
              "host_name                2\n",
              "neighbourhood_full       0\n",
              "coordinates              0\n",
              "room_type                0\n",
              "price                  238\n",
              "number_of_reviews        0\n",
              "last_review           2075\n",
              "reviews_per_month     2075\n",
              "availability_365         0\n",
              "rating                2075\n",
              "number_of_stays       2075\n",
              "5_stars               2075\n",
              "listing_added            0\n",
              "dtype: int64"
            ]
          },
          "metadata": {
            "tags": []
          },
          "execution_count": 12
        }
      ]
    },
    {
      "cell_type": "markdown",
      "metadata": {
        "id": "BLtjk34CgDdF"
      },
      "source": [
        "There are a variety of ways of dealing with missing data that is dependent on type of missingness, as well as the business assumptions behind our data - our options could be:\n",
        "\n",
        "- Dropping missing data (if the data dropped does not impact or skew our data)\n",
        "- Setting to missing and impute with statistical measures (median, mean, mode ...)\n",
        "- Imputing with more complex algorithmic/machine learning based approaches\n",
        "- Impute based on business assumptions of our data"
      ]
    },
    {
      "cell_type": "code",
      "metadata": {
        "colab": {
          "base_uri": "https://localhost:8080/"
        },
        "id": "p-EWr3oCmg7w",
        "outputId": "9d2af907-5233-41c4-8fce-1e4d7ec08c5b"
      },
      "source": [
        "airbnb.shape"
      ],
      "execution_count": null,
      "outputs": [
        {
          "output_type": "execute_result",
          "data": {
            "text/plain": [
              "(10019, 16)"
            ]
          },
          "metadata": {
            "tags": []
          },
          "execution_count": 13
        }
      ]
    },
    {
      "cell_type": "code",
      "metadata": {
        "id": "ydyKeLnKgAHq",
        "colab": {
          "base_uri": "https://localhost:8080/",
          "height": 297
        },
        "outputId": "b5211fb0-1ce2-4cde-a9f5-7e3cb6e07911"
      },
      "source": [
        "# Print description of DataFrame\n",
        "airbnb.describe()"
      ],
      "execution_count": null,
      "outputs": [
        {
          "output_type": "execute_result",
          "data": {
            "text/html": [
              "<div>\n",
              "<style scoped>\n",
              "    .dataframe tbody tr th:only-of-type {\n",
              "        vertical-align: middle;\n",
              "    }\n",
              "\n",
              "    .dataframe tbody tr th {\n",
              "        vertical-align: top;\n",
              "    }\n",
              "\n",
              "    .dataframe thead th {\n",
              "        text-align: right;\n",
              "    }\n",
              "</style>\n",
              "<table border=\"1\" class=\"dataframe\">\n",
              "  <thead>\n",
              "    <tr style=\"text-align: right;\">\n",
              "      <th></th>\n",
              "      <th>listing_id</th>\n",
              "      <th>host_id</th>\n",
              "      <th>number_of_reviews</th>\n",
              "      <th>reviews_per_month</th>\n",
              "      <th>availability_365</th>\n",
              "      <th>rating</th>\n",
              "      <th>number_of_stays</th>\n",
              "      <th>5_stars</th>\n",
              "    </tr>\n",
              "  </thead>\n",
              "  <tbody>\n",
              "    <tr>\n",
              "      <th>count</th>\n",
              "      <td>1.001900e+04</td>\n",
              "      <td>1.001900e+04</td>\n",
              "      <td>10019.000000</td>\n",
              "      <td>7944.000000</td>\n",
              "      <td>10019.000000</td>\n",
              "      <td>7944.000000</td>\n",
              "      <td>7944.000000</td>\n",
              "      <td>7944.000000</td>\n",
              "    </tr>\n",
              "    <tr>\n",
              "      <th>mean</th>\n",
              "      <td>1.927634e+07</td>\n",
              "      <td>6.795923e+07</td>\n",
              "      <td>22.459727</td>\n",
              "      <td>1.353894</td>\n",
              "      <td>112.284260</td>\n",
              "      <td>4.014458</td>\n",
              "      <td>33.991541</td>\n",
              "      <td>0.718599</td>\n",
              "    </tr>\n",
              "    <tr>\n",
              "      <th>std</th>\n",
              "      <td>1.095056e+07</td>\n",
              "      <td>7.863106e+07</td>\n",
              "      <td>43.173896</td>\n",
              "      <td>1.615380</td>\n",
              "      <td>131.636043</td>\n",
              "      <td>0.575064</td>\n",
              "      <td>56.089279</td>\n",
              "      <td>0.079978</td>\n",
              "    </tr>\n",
              "    <tr>\n",
              "      <th>min</th>\n",
              "      <td>3.831000e+03</td>\n",
              "      <td>2.787000e+03</td>\n",
              "      <td>0.000000</td>\n",
              "      <td>0.010000</td>\n",
              "      <td>0.000000</td>\n",
              "      <td>3.000633</td>\n",
              "      <td>1.200000</td>\n",
              "      <td>0.600026</td>\n",
              "    </tr>\n",
              "    <tr>\n",
              "      <th>25%</th>\n",
              "      <td>9.674772e+06</td>\n",
              "      <td>7.910880e+06</td>\n",
              "      <td>1.000000</td>\n",
              "      <td>0.200000</td>\n",
              "      <td>0.000000</td>\n",
              "      <td>3.520443</td>\n",
              "      <td>3.600000</td>\n",
              "      <td>0.655576</td>\n",
              "    </tr>\n",
              "    <tr>\n",
              "      <th>50%</th>\n",
              "      <td>2.007030e+07</td>\n",
              "      <td>3.165167e+07</td>\n",
              "      <td>5.000000</td>\n",
              "      <td>0.710000</td>\n",
              "      <td>44.000000</td>\n",
              "      <td>4.027965</td>\n",
              "      <td>10.800000</td>\n",
              "      <td>0.709768</td>\n",
              "    </tr>\n",
              "    <tr>\n",
              "      <th>75%</th>\n",
              "      <td>2.933864e+07</td>\n",
              "      <td>1.074344e+08</td>\n",
              "      <td>22.000000</td>\n",
              "      <td>2.000000</td>\n",
              "      <td>226.000000</td>\n",
              "      <td>4.516378</td>\n",
              "      <td>38.400000</td>\n",
              "      <td>0.763978</td>\n",
              "    </tr>\n",
              "    <tr>\n",
              "      <th>max</th>\n",
              "      <td>3.648724e+07</td>\n",
              "      <td>2.741034e+08</td>\n",
              "      <td>510.000000</td>\n",
              "      <td>16.220000</td>\n",
              "      <td>365.000000</td>\n",
              "      <td>5.181114</td>\n",
              "      <td>612.000000</td>\n",
              "      <td>0.950339</td>\n",
              "    </tr>\n",
              "  </tbody>\n",
              "</table>\n",
              "</div>"
            ],
            "text/plain": [
              "         listing_id       host_id  ...  number_of_stays      5_stars\n",
              "count  1.001900e+04  1.001900e+04  ...      7944.000000  7944.000000\n",
              "mean   1.927634e+07  6.795923e+07  ...        33.991541     0.718599\n",
              "std    1.095056e+07  7.863106e+07  ...        56.089279     0.079978\n",
              "min    3.831000e+03  2.787000e+03  ...         1.200000     0.600026\n",
              "25%    9.674772e+06  7.910880e+06  ...         3.600000     0.655576\n",
              "50%    2.007030e+07  3.165167e+07  ...        10.800000     0.709768\n",
              "75%    2.933864e+07  1.074344e+08  ...        38.400000     0.763978\n",
              "max    3.648724e+07  2.741034e+08  ...       612.000000     0.950339\n",
              "\n",
              "[8 rows x 8 columns]"
            ]
          },
          "metadata": {
            "tags": []
          },
          "execution_count": 10
        }
      ]
    },
    {
      "cell_type": "markdown",
      "metadata": {
        "id": "1aPYQW_7glnK"
      },
      "source": [
        "\n",
        "\n",
        "- **Problem 7:** Looking at the maximum of the `rating` column - we see that it is out of range of `5` which is the maximum rating possible. We need to make sure we fix the range this column.\n",
        "\n",
        "It's worth noting that `.describe()` does not offer a bird's eye view of all the out of range data we have, for example, what if we have date data in the future? Or given our dataset, `listing_added` dates that are in the future of `last_review` dates? "
      ]
    },
    {
      "cell_type": "code",
      "metadata": {
        "id": "VVJat5xZjJLX",
        "colab": {
          "base_uri": "https://localhost:8080/",
          "height": 295
        },
        "outputId": "7685d388-00bf-44aa-c928-c12c0d8ea53c"
      },
      "source": [
        "# Visualize the distribution of the rating column\n",
        "sns.distplot(airbnb['rating'], bins = 20)\n",
        "plt.title('Distribution of listing ratings')\n",
        "plt.show()"
      ],
      "execution_count": null,
      "outputs": [
        {
          "output_type": "display_data",
          "data": {
            "image/png": "[encoded data removed]",
            "text/plain": [
              "<Figure size 432x288 with 1 Axes>"
            ]
          },
          "metadata": {
            "tags": []
          }
        }
      ]
    },
    {
      "cell_type": "code",
      "metadata": {
        "id": "mvJGrqxRjihF",
        "colab": {
          "base_uri": "https://localhost:8080/",
          "height": 51
        },
        "outputId": "32d8a75f-4b2d-4a3f-fae2-e1ed7e1eac8f"
      },
      "source": [
        "# Find number of unique values in room_type column\n",
        "airbnb['room_type'].unique()"
      ],
      "execution_count": null,
      "outputs": [
        {
          "output_type": "execute_result",
          "data": {
            "text/plain": [
              "array(['Private room', 'Entire home/apt', 'Private', 'Shared room',\n",
              "       'PRIVATE ROOM', 'home', '   Shared room      '], dtype=object)"
            ]
          },
          "metadata": {
            "tags": []
          },
          "execution_count": 12
        }
      ]
    },
    {
      "cell_type": "markdown",
      "metadata": {
        "id": "Zo61ZW9Vk9CC"
      },
      "source": [
        "- **Problem 8**: There are trailing spaces and capitalization issues with `room_type`, we need to fix this problem."
      ]
    },
    {
      "cell_type": "code",
      "metadata": {
        "id": "tZ0SBerlm2hS",
        "colab": {
          "base_uri": "https://localhost:8080/",
          "height": 153
        },
        "outputId": "ff9af494-19c6-4628-8800-501312af9e4b"
      },
      "source": [
        "# How many values of different room_types do we have?\n",
        "airbnb['room_type'].value_counts()"
      ],
      "execution_count": null,
      "outputs": [
        {
          "output_type": "execute_result",
          "data": {
            "text/plain": [
              "Entire home/apt         5120\n",
              "Private room            4487\n",
              "Shared room              155\n",
              "Private                   89\n",
              "   Shared room            71\n",
              "home                      66\n",
              "PRIVATE ROOM              31\n",
              "Name: room_type, dtype: int64"
            ]
          },
          "metadata": {
            "tags": []
          },
          "execution_count": 13
        }
      ]
    },
    {
      "cell_type": "markdown",
      "metadata": {
        "id": "WqwmfLp9lKjU"
      },
      "source": [
        "## **Our to do list:**\n",
        "\n",
        "_Data type problems:_\n",
        "\n",
        "- **Task 1**: Split `coordinates` into 2 columns and convert them to `float`\n",
        "- **Task 2**: Remove `$` from `price` and convert it to `float`\n",
        "- **Task 3**: Convert `listing_added` and `last_review` to `datetime`\n",
        "\n",
        "<br>\n",
        "\n",
        "_Text/categorical data problems:_\n",
        "\n",
        "- **Task 4**: We need to collapse `room_type` into correct categories\n",
        "- **Task 5**: Divide `neighbourhood_full` into 2 columns and making sure they are clean\n",
        "\n",
        "<br>\n",
        "\n",
        "_Data range problems:_\n",
        "\n",
        "- **Task 6**: Make sure we set the correct maximum for `rating` column out of range values\n",
        "\n",
        "<br>\n",
        "\n",
        "_Dealing with missing data:_\n",
        "\n",
        "- **Task 7**: Understand the type of missingness, and deal with the missing data in most of the remaining columns. \n",
        "\n",
        "<br>\n",
        "\n",
        "_Is that all though?_\n",
        "\n",
        "- We need to investigate if we duplicates in our data\n",
        "- We need to make sure that data makes sense by applying some sanity checks on our DataFrame "
      ]
    },
    {
      "cell_type": "markdown",
      "metadata": {
        "id": "afc64I2H0SO6"
      },
      "source": [
        "## **Q&A**"
      ]
    },
    {
      "cell_type": "markdown",
      "metadata": {
        "id": "8jp5m7QmnCsM"
      },
      "source": [
        "## **Cleaning data** "
      ]
    },
    {
      "cell_type": "markdown",
      "metadata": {
        "id": "7rrd0kYCnIYE"
      },
      "source": [
        "### Data type problems"
      ]
    },
    {
      "cell_type": "code",
      "metadata": {
        "id": "NawK3x5Tk7HF",
        "colab": {
          "base_uri": "https://localhost:8080/",
          "height": 479
        },
        "outputId": "4b67b78e-a47d-4832-fb17-09eb64596281"
      },
      "source": [
        "# Reminder of the DataFrame\n",
        "airbnb.head()"
      ],
      "execution_count": null,
      "outputs": [
        {
          "output_type": "execute_result",
          "data": {
            "text/html": [
              "<div>\n",
              "<style scoped>\n",
              "    .dataframe tbody tr th:only-of-type {\n",
              "        vertical-align: middle;\n",
              "    }\n",
              "\n",
              "    .dataframe tbody tr th {\n",
              "        vertical-align: top;\n",
              "    }\n",
              "\n",
              "    .dataframe thead th {\n",
              "        text-align: right;\n",
              "    }\n",
              "</style>\n",
              "<table border=\"1\" class=\"dataframe\">\n",
              "  <thead>\n",
              "    <tr style=\"text-align: right;\">\n",
              "      <th></th>\n",
              "      <th>listing_id</th>\n",
              "      <th>name</th>\n",
              "      <th>host_id</th>\n",
              "      <th>host_name</th>\n",
              "      <th>neighbourhood_full</th>\n",
              "      <th>coordinates</th>\n",
              "      <th>room_type</th>\n",
              "      <th>price</th>\n",
              "      <th>number_of_reviews</th>\n",
              "      <th>last_review</th>\n",
              "      <th>reviews_per_month</th>\n",
              "      <th>availability_365</th>\n",
              "      <th>rating</th>\n",
              "      <th>number_of_stays</th>\n",
              "      <th>5_stars</th>\n",
              "      <th>listing_added</th>\n",
              "    </tr>\n",
              "  </thead>\n",
              "  <tbody>\n",
              "    <tr>\n",
              "      <th>0</th>\n",
              "      <td>13740704</td>\n",
              "      <td>Cozy,budget friendly, cable inc, private entra...</td>\n",
              "      <td>20583125</td>\n",
              "      <td>Michel</td>\n",
              "      <td>Brooklyn, Flatlands</td>\n",
              "      <td>(40.63222, -73.93398)</td>\n",
              "      <td>Private room</td>\n",
              "      <td>45$</td>\n",
              "      <td>10</td>\n",
              "      <td>2018-12-12</td>\n",
              "      <td>0.70</td>\n",
              "      <td>85</td>\n",
              "      <td>4.100954</td>\n",
              "      <td>12.0</td>\n",
              "      <td>0.609432</td>\n",
              "      <td>2018-06-08</td>\n",
              "    </tr>\n",
              "    <tr>\n",
              "      <th>1</th>\n",
              "      <td>22005115</td>\n",
              "      <td>Two floor apartment near Central Park</td>\n",
              "      <td>82746113</td>\n",
              "      <td>Cecilia</td>\n",
              "      <td>Manhattan, Upper West Side</td>\n",
              "      <td>(40.78761, -73.96862)</td>\n",
              "      <td>Entire home/apt</td>\n",
              "      <td>135$</td>\n",
              "      <td>1</td>\n",
              "      <td>2019-06-30</td>\n",
              "      <td>1.00</td>\n",
              "      <td>145</td>\n",
              "      <td>3.367600</td>\n",
              "      <td>1.2</td>\n",
              "      <td>0.746135</td>\n",
              "      <td>2018-12-25</td>\n",
              "    </tr>\n",
              "    <tr>\n",
              "      <th>2</th>\n",
              "      <td>21667615</td>\n",
              "      <td>Beautiful 1BR in Brooklyn Heights</td>\n",
              "      <td>78251</td>\n",
              "      <td>Leslie</td>\n",
              "      <td>Brooklyn, Brooklyn Heights</td>\n",
              "      <td>(40.7007, -73.99517)</td>\n",
              "      <td>Entire home/apt</td>\n",
              "      <td>150$</td>\n",
              "      <td>0</td>\n",
              "      <td>NaN</td>\n",
              "      <td>NaN</td>\n",
              "      <td>65</td>\n",
              "      <td>NaN</td>\n",
              "      <td>NaN</td>\n",
              "      <td>NaN</td>\n",
              "      <td>2018-08-15</td>\n",
              "    </tr>\n",
              "    <tr>\n",
              "      <th>3</th>\n",
              "      <td>6425850</td>\n",
              "      <td>Spacious, charming studio</td>\n",
              "      <td>32715865</td>\n",
              "      <td>Yelena</td>\n",
              "      <td>Manhattan, Upper West Side</td>\n",
              "      <td>(40.79169, -73.97498)</td>\n",
              "      <td>Entire home/apt</td>\n",
              "      <td>86$</td>\n",
              "      <td>5</td>\n",
              "      <td>2017-09-23</td>\n",
              "      <td>0.13</td>\n",
              "      <td>0</td>\n",
              "      <td>4.763203</td>\n",
              "      <td>6.0</td>\n",
              "      <td>0.769947</td>\n",
              "      <td>2017-03-20</td>\n",
              "    </tr>\n",
              "    <tr>\n",
              "      <th>4</th>\n",
              "      <td>22986519</td>\n",
              "      <td>Bedroom on the lively Lower East Side</td>\n",
              "      <td>154262349</td>\n",
              "      <td>Brooke</td>\n",
              "      <td>Manhattan, Lower East Side</td>\n",
              "      <td>(40.71884, -73.98354)</td>\n",
              "      <td>Private room</td>\n",
              "      <td>160$</td>\n",
              "      <td>23</td>\n",
              "      <td>2019-06-12</td>\n",
              "      <td>2.29</td>\n",
              "      <td>102</td>\n",
              "      <td>3.822591</td>\n",
              "      <td>27.6</td>\n",
              "      <td>0.649383</td>\n",
              "      <td>2020-10-23</td>\n",
              "    </tr>\n",
              "  </tbody>\n",
              "</table>\n",
              "</div>"
            ],
            "text/plain": [
              "   listing_id  ... listing_added\n",
              "0    13740704  ...    2018-06-08\n",
              "1    22005115  ...    2018-12-25\n",
              "2    21667615  ...    2018-08-15\n",
              "3     6425850  ...    2017-03-20\n",
              "4    22986519  ...    2020-10-23\n",
              "\n",
              "[5 rows x 16 columns]"
            ]
          },
          "metadata": {
            "tags": []
          },
          "execution_count": 19
        }
      ]
    },
    {
      "cell_type": "markdown",
      "metadata": {
        "id": "3Ev1mCwXniDv"
      },
      "source": [
        "##### **Task 1:** Replace `coordinates` with `latitude` and `longitude` columns"
      ]
    },
    {
      "cell_type": "markdown",
      "metadata": {
        "id": "ijAlYOgglvzt"
      },
      "source": [
        "To perform this task, we will use the following methods:\n",
        "\n",
        "- `.str.replace(\"\",\"\")` replaces one string in each row of a column with another\n",
        "- `.str.split(\"\")` takes in a string and lets you split a column into two based on that string\n",
        "- `.astype()` lets you convert a column from one type to another"
      ]
    },
    {
      "cell_type": "code",
      "metadata": {
        "id": "UpIxvD_onOgt",
        "colab": {
          "base_uri": "https://localhost:8080/",
          "height": 119
        },
        "outputId": "bf3af853-768e-4358-e179-c0c334bdec5f"
      },
      "source": [
        "# Remove \"(\" and \")\" from coordinates\n",
        "airbnb['coordinates'] = airbnb['coordinates'].str.replace(\"(\",\"\")\n",
        "airbnb['coordinates'] = airbnb['coordinates'].str.replace(\")\",\"\")\n",
        "# Print the header of the column\n",
        "airbnb['coordinates'].head()"
      ],
      "execution_count": null,
      "outputs": [
        {
          "output_type": "execute_result",
          "data": {
            "text/plain": [
              "0    40.63222, -73.93398\n",
              "1    40.78761, -73.96862\n",
              "2     40.7007, -73.99517\n",
              "3    40.79169, -73.97498\n",
              "4    40.71884, -73.98354\n",
              "Name: coordinates, dtype: object"
            ]
          },
          "metadata": {
            "tags": []
          },
          "execution_count": 14
        }
      ]
    },
    {
      "cell_type": "code",
      "metadata": {
        "id": "nvEKmdRun2Md",
        "colab": {
          "base_uri": "https://localhost:8080/",
          "height": 204
        },
        "outputId": "19d527b7-17d8-42eb-e8c1-c597ae1c29b9"
      },
      "source": [
        "# Split column into two\n",
        "lat_long = airbnb['coordinates'].str.split(\",\", expand = True)\n",
        "lat_long.head()"
      ],
      "execution_count": null,
      "outputs": [
        {
          "output_type": "execute_result",
          "data": {
            "text/html": [
              "<div>\n",
              "<style scoped>\n",
              "    .dataframe tbody tr th:only-of-type {\n",
              "        vertical-align: middle;\n",
              "    }\n",
              "\n",
              "    .dataframe tbody tr th {\n",
              "        vertical-align: top;\n",
              "    }\n",
              "\n",
              "    .dataframe thead th {\n",
              "        text-align: right;\n",
              "    }\n",
              "</style>\n",
              "<table border=\"1\" class=\"dataframe\">\n",
              "  <thead>\n",
              "    <tr style=\"text-align: right;\">\n",
              "      <th></th>\n",
              "      <th>0</th>\n",
              "      <th>1</th>\n",
              "    </tr>\n",
              "  </thead>\n",
              "  <tbody>\n",
              "    <tr>\n",
              "      <th>0</th>\n",
              "      <td>40.63222</td>\n",
              "      <td>-73.93398</td>\n",
              "    </tr>\n",
              "    <tr>\n",
              "      <th>1</th>\n",
              "      <td>40.78761</td>\n",
              "      <td>-73.96862</td>\n",
              "    </tr>\n",
              "    <tr>\n",
              "      <th>2</th>\n",
              "      <td>40.7007</td>\n",
              "      <td>-73.99517</td>\n",
              "    </tr>\n",
              "    <tr>\n",
              "      <th>3</th>\n",
              "      <td>40.79169</td>\n",
              "      <td>-73.97498</td>\n",
              "    </tr>\n",
              "    <tr>\n",
              "      <th>4</th>\n",
              "      <td>40.71884</td>\n",
              "      <td>-73.98354</td>\n",
              "    </tr>\n",
              "  </tbody>\n",
              "</table>\n",
              "</div>"
            ],
            "text/plain": [
              "          0           1\n",
              "0  40.63222   -73.93398\n",
              "1  40.78761   -73.96862\n",
              "2   40.7007   -73.99517\n",
              "3  40.79169   -73.97498\n",
              "4  40.71884   -73.98354"
            ]
          },
          "metadata": {
            "tags": []
          },
          "execution_count": 15
        }
      ]
    },
    {
      "cell_type": "code",
      "metadata": {
        "id": "LezCKPzfn4yf",
        "colab": {
          "base_uri": "https://localhost:8080/",
          "height": 479
        },
        "outputId": "06eff294-308d-4aa7-a7e1-9be62ffaae73"
      },
      "source": [
        "# Assign correct columns to latitude and longitude columns in airbnb\n",
        "airbnb['latitude'] = lat_long[0]\n",
        "airbnb['longitude'] = lat_long[1]\n",
        "# Print the header and confirm new column creation\n",
        "airbnb.head()"
      ],
      "execution_count": null,
      "outputs": [
        {
          "output_type": "execute_result",
          "data": {
            "text/html": [
              "<div>\n",
              "<style scoped>\n",
              "    .dataframe tbody tr th:only-of-type {\n",
              "        vertical-align: middle;\n",
              "    }\n",
              "\n",
              "    .dataframe tbody tr th {\n",
              "        vertical-align: top;\n",
              "    }\n",
              "\n",
              "    .dataframe thead th {\n",
              "        text-align: right;\n",
              "    }\n",
              "</style>\n",
              "<table border=\"1\" class=\"dataframe\">\n",
              "  <thead>\n",
              "    <tr style=\"text-align: right;\">\n",
              "      <th></th>\n",
              "      <th>listing_id</th>\n",
              "      <th>name</th>\n",
              "      <th>host_id</th>\n",
              "      <th>host_name</th>\n",
              "      <th>neighbourhood_full</th>\n",
              "      <th>coordinates</th>\n",
              "      <th>room_type</th>\n",
              "      <th>price</th>\n",
              "      <th>number_of_reviews</th>\n",
              "      <th>last_review</th>\n",
              "      <th>reviews_per_month</th>\n",
              "      <th>availability_365</th>\n",
              "      <th>rating</th>\n",
              "      <th>number_of_stays</th>\n",
              "      <th>5_stars</th>\n",
              "      <th>listing_added</th>\n",
              "      <th>latitude</th>\n",
              "      <th>longitude</th>\n",
              "    </tr>\n",
              "  </thead>\n",
              "  <tbody>\n",
              "    <tr>\n",
              "      <th>0</th>\n",
              "      <td>13740704</td>\n",
              "      <td>Cozy,budget friendly, cable inc, private entra...</td>\n",
              "      <td>20583125</td>\n",
              "      <td>Michel</td>\n",
              "      <td>Brooklyn, Flatlands</td>\n",
              "      <td>40.63222, -73.93398</td>\n",
              "      <td>Private room</td>\n",
              "      <td>45$</td>\n",
              "      <td>10</td>\n",
              "      <td>2018-12-12</td>\n",
              "      <td>0.70</td>\n",
              "      <td>85</td>\n",
              "      <td>4.100954</td>\n",
              "      <td>12.0</td>\n",
              "      <td>0.609432</td>\n",
              "      <td>2018-06-08</td>\n",
              "      <td>40.63222</td>\n",
              "      <td>-73.93398</td>\n",
              "    </tr>\n",
              "    <tr>\n",
              "      <th>1</th>\n",
              "      <td>22005115</td>\n",
              "      <td>Two floor apartment near Central Park</td>\n",
              "      <td>82746113</td>\n",
              "      <td>Cecilia</td>\n",
              "      <td>Manhattan, Upper West Side</td>\n",
              "      <td>40.78761, -73.96862</td>\n",
              "      <td>Entire home/apt</td>\n",
              "      <td>135$</td>\n",
              "      <td>1</td>\n",
              "      <td>2019-06-30</td>\n",
              "      <td>1.00</td>\n",
              "      <td>145</td>\n",
              "      <td>3.367600</td>\n",
              "      <td>1.2</td>\n",
              "      <td>0.746135</td>\n",
              "      <td>2018-12-25</td>\n",
              "      <td>40.78761</td>\n",
              "      <td>-73.96862</td>\n",
              "    </tr>\n",
              "    <tr>\n",
              "      <th>2</th>\n",
              "      <td>21667615</td>\n",
              "      <td>Beautiful 1BR in Brooklyn Heights</td>\n",
              "      <td>78251</td>\n",
              "      <td>Leslie</td>\n",
              "      <td>Brooklyn, Brooklyn Heights</td>\n",
              "      <td>40.7007, -73.99517</td>\n",
              "      <td>Entire home/apt</td>\n",
              "      <td>150$</td>\n",
              "      <td>0</td>\n",
              "      <td>NaN</td>\n",
              "      <td>NaN</td>\n",
              "      <td>65</td>\n",
              "      <td>NaN</td>\n",
              "      <td>NaN</td>\n",
              "      <td>NaN</td>\n",
              "      <td>2018-08-15</td>\n",
              "      <td>40.7007</td>\n",
              "      <td>-73.99517</td>\n",
              "    </tr>\n",
              "    <tr>\n",
              "      <th>3</th>\n",
              "      <td>6425850</td>\n",
              "      <td>Spacious, charming studio</td>\n",
              "      <td>32715865</td>\n",
              "      <td>Yelena</td>\n",
              "      <td>Manhattan, Upper West Side</td>\n",
              "      <td>40.79169, -73.97498</td>\n",
              "      <td>Entire home/apt</td>\n",
              "      <td>86$</td>\n",
              "      <td>5</td>\n",
              "      <td>2017-09-23</td>\n",
              "      <td>0.13</td>\n",
              "      <td>0</td>\n",
              "      <td>4.763203</td>\n",
              "      <td>6.0</td>\n",
              "      <td>0.769947</td>\n",
              "      <td>2017-03-20</td>\n",
              "      <td>40.79169</td>\n",
              "      <td>-73.97498</td>\n",
              "    </tr>\n",
              "    <tr>\n",
              "      <th>4</th>\n",
              "      <td>22986519</td>\n",
              "      <td>Bedroom on the lively Lower East Side</td>\n",
              "      <td>154262349</td>\n",
              "      <td>Brooke</td>\n",
              "      <td>Manhattan, Lower East Side</td>\n",
              "      <td>40.71884, -73.98354</td>\n",
              "      <td>Private room</td>\n",
              "      <td>160$</td>\n",
              "      <td>23</td>\n",
              "      <td>2019-06-12</td>\n",
              "      <td>2.29</td>\n",
              "      <td>102</td>\n",
              "      <td>3.822591</td>\n",
              "      <td>27.6</td>\n",
              "      <td>0.649383</td>\n",
              "      <td>2020-10-23</td>\n",
              "      <td>40.71884</td>\n",
              "      <td>-73.98354</td>\n",
              "    </tr>\n",
              "  </tbody>\n",
              "</table>\n",
              "</div>"
            ],
            "text/plain": [
              "   listing_id  ...   longitude\n",
              "0    13740704  ...   -73.93398\n",
              "1    22005115  ...   -73.96862\n",
              "2    21667615  ...   -73.99517\n",
              "3     6425850  ...   -73.97498\n",
              "4    22986519  ...   -73.98354\n",
              "\n",
              "[5 rows x 18 columns]"
            ]
          },
          "metadata": {
            "tags": []
          },
          "execution_count": 16
        }
      ]
    },
    {
      "cell_type": "code",
      "metadata": {
        "id": "toTHDWjFosXs",
        "colab": {
          "base_uri": "https://localhost:8080/",
          "height": 340
        },
        "outputId": "22273a70-dda1-4134-e5e7-1f2a8ed724ac"
      },
      "source": [
        "# Print out dtypes again\n",
        "airbnb.dtypes"
      ],
      "execution_count": null,
      "outputs": [
        {
          "output_type": "execute_result",
          "data": {
            "text/plain": [
              "listing_id              int64\n",
              "name                   object\n",
              "host_id                 int64\n",
              "host_name              object\n",
              "neighbourhood_full     object\n",
              "coordinates            object\n",
              "room_type              object\n",
              "price                  object\n",
              "number_of_reviews       int64\n",
              "last_review            object\n",
              "reviews_per_month     float64\n",
              "availability_365        int64\n",
              "rating                float64\n",
              "number_of_stays       float64\n",
              "5_stars               float64\n",
              "listing_added          object\n",
              "latitude               object\n",
              "longitude              object\n",
              "dtype: object"
            ]
          },
          "metadata": {
            "tags": []
          },
          "execution_count": 17
        }
      ]
    },
    {
      "cell_type": "code",
      "metadata": {
        "id": "8zDpaIqDoeNl",
        "colab": {
          "base_uri": "https://localhost:8080/",
          "height": 340
        },
        "outputId": "ead1ab19-04c5-4722-c181-eedddc64f057"
      },
      "source": [
        "# Convert latitude and longitude to float\n",
        "airbnb['latitude'] = airbnb['latitude'].astype('float')\n",
        "airbnb['longitude'] = airbnb['longitude'].astype('float')\n",
        "# Print dtypes again\n",
        "airbnb.dtypes"
      ],
      "execution_count": null,
      "outputs": [
        {
          "output_type": "execute_result",
          "data": {
            "text/plain": [
              "listing_id              int64\n",
              "name                   object\n",
              "host_id                 int64\n",
              "host_name              object\n",
              "neighbourhood_full     object\n",
              "coordinates            object\n",
              "room_type              object\n",
              "price                  object\n",
              "number_of_reviews       int64\n",
              "last_review            object\n",
              "reviews_per_month     float64\n",
              "availability_365        int64\n",
              "rating                float64\n",
              "number_of_stays       float64\n",
              "5_stars               float64\n",
              "listing_added          object\n",
              "latitude              float64\n",
              "longitude             float64\n",
              "dtype: object"
            ]
          },
          "metadata": {
            "tags": []
          },
          "execution_count": 18
        }
      ]
    },
    {
      "cell_type": "code",
      "metadata": {
        "id": "aKZGhJQRo8mp"
      },
      "source": [
        "# Drop coordinates column\n",
        "airbnb.drop('coordinates', axis = 1, inplace = True)"
      ],
      "execution_count": null,
      "outputs": []
    },
    {
      "cell_type": "markdown",
      "metadata": {
        "id": "bkgGPHpdpMEW"
      },
      "source": [
        "##### **Task 2:** Remove `$` from `price` and convert it to `float`"
      ]
    },
    {
      "cell_type": "markdown",
      "metadata": {
        "id": "9jkKFojOmJy5"
      },
      "source": [
        "To perform this task, we will be using the following methods:\n",
        "\n",
        "- `.str.strip()` which removes a specified string from each row in a column\n",
        "- `.astype()`"
      ]
    },
    {
      "cell_type": "code",
      "metadata": {
        "id": "Ya76gXP1qLtn"
      },
      "source": [
        "# Calculate mean of price without conversion\n",
        "airbnb['price'].mean()"
      ],
      "execution_count": null,
      "outputs": []
    },
    {
      "cell_type": "code",
      "metadata": {
        "id": "gHIB5d-1pdIO",
        "colab": {
          "base_uri": "https://localhost:8080/",
          "height": 119
        },
        "outputId": "8b332216-20e5-42a9-a070-b705d2ae84ae"
      },
      "source": [
        "# Remove $ from price before conversion to float\n",
        "airbnb['price'] = airbnb['price'].str.strip(\"$\")\n",
        "# Print header to make sure change was done\n",
        "airbnb['price'].head()"
      ],
      "execution_count": null,
      "outputs": [
        {
          "output_type": "execute_result",
          "data": {
            "text/plain": [
              "0     45\n",
              "1    135\n",
              "2    150\n",
              "3     86\n",
              "4    160\n",
              "Name: price, dtype: object"
            ]
          },
          "metadata": {
            "tags": []
          },
          "execution_count": 21
        }
      ]
    },
    {
      "cell_type": "code",
      "metadata": {
        "id": "Gz4Q2xoGp4AJ",
        "colab": {
          "base_uri": "https://localhost:8080/",
          "height": 34
        },
        "outputId": "2d453984-04ff-4b0e-d646-5890304044db"
      },
      "source": [
        "# Convert price to float\n",
        "airbnb['price'] = airbnb['price'].astype('float')\n",
        "# Calculate mean of price after conversion\n",
        "airbnb['price'].mean()"
      ],
      "execution_count": null,
      "outputs": [
        {
          "output_type": "execute_result",
          "data": {
            "text/plain": [
              "150.90512217564665"
            ]
          },
          "metadata": {
            "tags": []
          },
          "execution_count": 22
        }
      ]
    },
    {
      "cell_type": "code",
      "metadata": {
        "id": "mSLxGradqVix",
        "colab": {
          "base_uri": "https://localhost:8080/",
          "height": 279
        },
        "outputId": "25dcea7c-a0ee-49e4-cddf-44c0b5c43f55"
      },
      "source": [
        "# Visualize distribution of prices\n",
        "sns.distplot(airbnb['price'], bins = 20)\n",
        "plt.show()"
      ],
      "execution_count": null,
      "outputs": [
        {
          "output_type": "display_data",
          "data": {
            "image/png": "[encoded data removed]",
            "text/plain": [
              "<Figure size 432x288 with 1 Axes>"
            ]
          },
          "metadata": {
            "tags": []
          }
        }
      ]
    },
    {
      "cell_type": "markdown",
      "metadata": {
        "id": "HZKW5mWvqg2Z"
      },
      "source": [
        "##### **Task 3:** Convert `listing_added` and `last_review` columns to `datetime`"
      ]
    },
    {
      "cell_type": "markdown",
      "metadata": {
        "id": "9ijLZ4zwmWNS"
      },
      "source": [
        "To perform this task, we will use the following functions:\n",
        "\n",
        "- `pd.to_datetime(format = \"\")`\n",
        "  - `format` takes in the desired date format `\"%Y-%m-%d\"`"
      ]
    },
    {
      "cell_type": "code",
      "metadata": {
        "id": "cggG5Bucqc6T",
        "colab": {
          "base_uri": "https://localhost:8080/",
          "height": 204
        },
        "outputId": "9f5aed2d-0542-4959-8694-958801d8acdf"
      },
      "source": [
        "# Print header of two columns\n",
        "airbnb[['listing_added', 'last_review']].head()"
      ],
      "execution_count": null,
      "outputs": [
        {
          "output_type": "execute_result",
          "data": {
            "text/html": [
              "<div>\n",
              "<style scoped>\n",
              "    .dataframe tbody tr th:only-of-type {\n",
              "        vertical-align: middle;\n",
              "    }\n",
              "\n",
              "    .dataframe tbody tr th {\n",
              "        vertical-align: top;\n",
              "    }\n",
              "\n",
              "    .dataframe thead th {\n",
              "        text-align: right;\n",
              "    }\n",
              "</style>\n",
              "<table border=\"1\" class=\"dataframe\">\n",
              "  <thead>\n",
              "    <tr style=\"text-align: right;\">\n",
              "      <th></th>\n",
              "      <th>listing_added</th>\n",
              "      <th>last_review</th>\n",
              "    </tr>\n",
              "  </thead>\n",
              "  <tbody>\n",
              "    <tr>\n",
              "      <th>0</th>\n",
              "      <td>2018-06-08</td>\n",
              "      <td>2018-12-12</td>\n",
              "    </tr>\n",
              "    <tr>\n",
              "      <th>1</th>\n",
              "      <td>2018-12-25</td>\n",
              "      <td>2019-06-30</td>\n",
              "    </tr>\n",
              "    <tr>\n",
              "      <th>2</th>\n",
              "      <td>2018-08-15</td>\n",
              "      <td>NaN</td>\n",
              "    </tr>\n",
              "    <tr>\n",
              "      <th>3</th>\n",
              "      <td>2017-03-20</td>\n",
              "      <td>2017-09-23</td>\n",
              "    </tr>\n",
              "    <tr>\n",
              "      <th>4</th>\n",
              "      <td>2020-10-23</td>\n",
              "      <td>2019-06-12</td>\n",
              "    </tr>\n",
              "  </tbody>\n",
              "</table>\n",
              "</div>"
            ],
            "text/plain": [
              "  listing_added last_review\n",
              "0    2018-06-08  2018-12-12\n",
              "1    2018-12-25  2019-06-30\n",
              "2    2018-08-15         NaN\n",
              "3    2017-03-20  2017-09-23\n",
              "4    2020-10-23  2019-06-12"
            ]
          },
          "metadata": {
            "tags": []
          },
          "execution_count": 24
        }
      ]
    },
    {
      "cell_type": "code",
      "metadata": {
        "id": "9lVyr6-Gs19z"
      },
      "source": [
        "# Convert both columns to datetime\n",
        "airbnb['listing_added'] = pd.to_datetime(airbnb['listing_added'], format = '%Y-%m-%d')\n",
        "airbnb['last_review'] = pd.to_datetime(airbnb['last_review'], format = '%Y-%m-%d')"
      ],
      "execution_count": null,
      "outputs": []
    },
    {
      "cell_type": "code",
      "metadata": {
        "id": "jlVDTYUvtG1f",
        "colab": {
          "base_uri": "https://localhost:8080/",
          "height": 170
        },
        "outputId": "dc7b3850-48ad-45e8-9641-7ba05c7fc6b2"
      },
      "source": [
        "# Print header and datatypes of both columns again\n",
        "print(airbnb[['listing_added', 'last_review']].head())\n",
        "print(airbnb[['listing_added', 'last_review']].dtypes)"
      ],
      "execution_count": null,
      "outputs": [
        {
          "output_type": "stream",
          "text": [
            "  listing_added last_review\n",
            "0    2018-06-08  2018-12-12\n",
            "1    2018-12-25  2019-06-30\n",
            "2    2018-08-15         NaT\n",
            "3    2017-03-20  2017-09-23\n",
            "4    2020-10-23  2019-06-12\n",
            "listing_added    datetime64[ns]\n",
            "last_review      datetime64[ns]\n",
            "dtype: object\n"
          ],
          "name": "stdout"
        }
      ]
    },
    {
      "cell_type": "markdown",
      "metadata": {
        "id": "SvMs1y6gucs6"
      },
      "source": [
        "### Text and categorical data problems"
      ]
    },
    {
      "cell_type": "markdown",
      "metadata": {
        "id": "Z19JboeNukIS"
      },
      "source": [
        "##### **Task 4:** We need to collapse `room_type` into correct categories"
      ]
    },
    {
      "cell_type": "markdown",
      "metadata": {
        "id": "85lW-8k_msaY"
      },
      "source": [
        "To perform this task, we will be using the following methods:\n",
        "\n",
        "- `.str.lower()` to lowercase all rows in a string column\n",
        "- `.str.strip()` to remove all white spaces of each row in a string column\n",
        "- `.replace()` to replace values in a column with another"
      ]
    },
    {
      "cell_type": "code",
      "metadata": {
        "id": "hPJHPWB4tOlP",
        "colab": {
          "base_uri": "https://localhost:8080/",
          "height": 51
        },
        "outputId": "ad30c92a-b7ed-49a6-c592-e70f82f2a94d"
      },
      "source": [
        "# Print unique values of `room_type`\n",
        "airbnb['room_type'].unique()"
      ],
      "execution_count": null,
      "outputs": [
        {
          "output_type": "execute_result",
          "data": {
            "text/plain": [
              "array(['Private room', 'Entire home/apt', 'Private', 'Shared room',\n",
              "       'PRIVATE ROOM', 'home', '   Shared room      '], dtype=object)"
            ]
          },
          "metadata": {
            "tags": []
          },
          "execution_count": 27
        }
      ]
    },
    {
      "cell_type": "code",
      "metadata": {
        "id": "HwnSnaPEvncy",
        "colab": {
          "base_uri": "https://localhost:8080/",
          "height": 51
        },
        "outputId": "66d9e493-e5c0-471e-8f5b-632f8b0f326d"
      },
      "source": [
        "# Deal with capitalized values\n",
        "airbnb['room_type'] = airbnb['room_type'].str.lower()\n",
        "airbnb['room_type'].unique()"
      ],
      "execution_count": null,
      "outputs": [
        {
          "output_type": "execute_result",
          "data": {
            "text/plain": [
              "array(['private room', 'entire home/apt', 'private', 'shared room',\n",
              "       'home', '   shared room      '], dtype=object)"
            ]
          },
          "metadata": {
            "tags": []
          },
          "execution_count": 28
        }
      ]
    },
    {
      "cell_type": "code",
      "metadata": {
        "id": "u47Ws-GtvvrC",
        "colab": {
          "base_uri": "https://localhost:8080/",
          "height": 51
        },
        "outputId": "3df8ba6a-9c50-4b1f-83c9-d99e855eca11"
      },
      "source": [
        "# Deal with trailing spaces\n",
        "airbnb['room_type'] = airbnb['room_type'].str.strip()\n",
        "airbnb['room_type'].unique()"
      ],
      "execution_count": null,
      "outputs": [
        {
          "output_type": "execute_result",
          "data": {
            "text/plain": [
              "array(['private room', 'entire home/apt', 'private', 'shared room',\n",
              "       'home'], dtype=object)"
            ]
          },
          "metadata": {
            "tags": []
          },
          "execution_count": 29
        }
      ]
    },
    {
      "cell_type": "code",
      "metadata": {
        "id": "tYyyzZ2pwMtx",
        "colab": {
          "base_uri": "https://localhost:8080/",
          "height": 34
        },
        "outputId": "104a9671-5899-4e62-edcb-ca6be7cd29cb"
      },
      "source": [
        "# Replace values to 'Shared room', 'Entire place', 'Private room' and 'Hotel room' (if applicable).\n",
        "mappings = {'private room': 'Private Room', \n",
        "            'private': 'Private Room',\n",
        "            'entire home/apt': 'Entire place',\n",
        "            'shared room': 'Shared room',\n",
        "            'home': 'Entire place'}\n",
        "\n",
        "# Replace values and collapse data\n",
        "airbnb['room_type'] = airbnb['room_type'].replace(mappings)\n",
        "airbnb['room_type'].unique()"
      ],
      "execution_count": null,
      "outputs": [
        {
          "output_type": "execute_result",
          "data": {
            "text/plain": [
              "array(['Private Room', 'Entire place', 'Shared room'], dtype=object)"
            ]
          },
          "metadata": {
            "tags": []
          },
          "execution_count": 30
        }
      ]
    },
    {
      "cell_type": "markdown",
      "metadata": {
        "id": "VA_2KMIkxjhL"
      },
      "source": [
        "##### **Task 5:** Divide `neighbourhood_full` into 2 columns and making sure they are clean"
      ]
    },
    {
      "cell_type": "code",
      "metadata": {
        "id": "Nc3u9b57xKOu",
        "colab": {
          "base_uri": "https://localhost:8080/",
          "height": 119
        },
        "outputId": "9e815839-48cf-4a48-fda3-0735ddfec707"
      },
      "source": [
        "# Print header of column\n",
        "airbnb['neighbourhood_full'].head()"
      ],
      "execution_count": null,
      "outputs": [
        {
          "output_type": "execute_result",
          "data": {
            "text/plain": [
              "0           Brooklyn, Flatlands\n",
              "1    Manhattan, Upper West Side\n",
              "2    Brooklyn, Brooklyn Heights\n",
              "3    Manhattan, Upper West Side\n",
              "4    Manhattan, Lower East Side\n",
              "Name: neighbourhood_full, dtype: object"
            ]
          },
          "metadata": {
            "tags": []
          },
          "execution_count": 31
        }
      ]
    },
    {
      "cell_type": "code",
      "metadata": {
        "id": "88O9T3WYxreo",
        "colab": {
          "base_uri": "https://localhost:8080/",
          "height": 204
        },
        "outputId": "69009b8a-6957-407c-a9ac-2e6434c10169"
      },
      "source": [
        "# Split neighbourhood_full\n",
        "borough_neighbourhood = airbnb['neighbourhood_full'].str.split(\",\", expand = True)\n",
        "borough_neighbourhood.head()"
      ],
      "execution_count": null,
      "outputs": [
        {
          "output_type": "execute_result",
          "data": {
            "text/html": [
              "<div>\n",
              "<style scoped>\n",
              "    .dataframe tbody tr th:only-of-type {\n",
              "        vertical-align: middle;\n",
              "    }\n",
              "\n",
              "    .dataframe tbody tr th {\n",
              "        vertical-align: top;\n",
              "    }\n",
              "\n",
              "    .dataframe thead th {\n",
              "        text-align: right;\n",
              "    }\n",
              "</style>\n",
              "<table border=\"1\" class=\"dataframe\">\n",
              "  <thead>\n",
              "    <tr style=\"text-align: right;\">\n",
              "      <th></th>\n",
              "      <th>0</th>\n",
              "      <th>1</th>\n",
              "    </tr>\n",
              "  </thead>\n",
              "  <tbody>\n",
              "    <tr>\n",
              "      <th>0</th>\n",
              "      <td>Brooklyn</td>\n",
              "      <td>Flatlands</td>\n",
              "    </tr>\n",
              "    <tr>\n",
              "      <th>1</th>\n",
              "      <td>Manhattan</td>\n",
              "      <td>Upper West Side</td>\n",
              "    </tr>\n",
              "    <tr>\n",
              "      <th>2</th>\n",
              "      <td>Brooklyn</td>\n",
              "      <td>Brooklyn Heights</td>\n",
              "    </tr>\n",
              "    <tr>\n",
              "      <th>3</th>\n",
              "      <td>Manhattan</td>\n",
              "      <td>Upper West Side</td>\n",
              "    </tr>\n",
              "    <tr>\n",
              "      <th>4</th>\n",
              "      <td>Manhattan</td>\n",
              "      <td>Lower East Side</td>\n",
              "    </tr>\n",
              "  </tbody>\n",
              "</table>\n",
              "</div>"
            ],
            "text/plain": [
              "           0                  1\n",
              "0   Brooklyn          Flatlands\n",
              "1  Manhattan    Upper West Side\n",
              "2   Brooklyn   Brooklyn Heights\n",
              "3  Manhattan    Upper West Side\n",
              "4  Manhattan    Lower East Side"
            ]
          },
          "metadata": {
            "tags": []
          },
          "execution_count": 32
        }
      ]
    },
    {
      "cell_type": "code",
      "metadata": {
        "id": "mmKhwDxkypDJ",
        "colab": {
          "base_uri": "https://localhost:8080/",
          "height": 204
        },
        "outputId": "4fe03746-000b-4281-dfd9-890184f799f5"
      },
      "source": [
        "# Create borough and neighbourhood columns\n",
        "airbnb['borough'] = borough_neighbourhood[0]\n",
        "airbnb['neighbourhood'] = borough_neighbourhood[1]\n",
        "# Print header of columns\n",
        "airbnb[['neighbourhood_full', 'borough', 'neighbourhood']].head()"
      ],
      "execution_count": null,
      "outputs": [
        {
          "output_type": "execute_result",
          "data": {
            "text/html": [
              "<div>\n",
              "<style scoped>\n",
              "    .dataframe tbody tr th:only-of-type {\n",
              "        vertical-align: middle;\n",
              "    }\n",
              "\n",
              "    .dataframe tbody tr th {\n",
              "        vertical-align: top;\n",
              "    }\n",
              "\n",
              "    .dataframe thead th {\n",
              "        text-align: right;\n",
              "    }\n",
              "</style>\n",
              "<table border=\"1\" class=\"dataframe\">\n",
              "  <thead>\n",
              "    <tr style=\"text-align: right;\">\n",
              "      <th></th>\n",
              "      <th>neighbourhood_full</th>\n",
              "      <th>borough</th>\n",
              "      <th>neighbourhood</th>\n",
              "    </tr>\n",
              "  </thead>\n",
              "  <tbody>\n",
              "    <tr>\n",
              "      <th>0</th>\n",
              "      <td>Brooklyn, Flatlands</td>\n",
              "      <td>Brooklyn</td>\n",
              "      <td>Flatlands</td>\n",
              "    </tr>\n",
              "    <tr>\n",
              "      <th>1</th>\n",
              "      <td>Manhattan, Upper West Side</td>\n",
              "      <td>Manhattan</td>\n",
              "      <td>Upper West Side</td>\n",
              "    </tr>\n",
              "    <tr>\n",
              "      <th>2</th>\n",
              "      <td>Brooklyn, Brooklyn Heights</td>\n",
              "      <td>Brooklyn</td>\n",
              "      <td>Brooklyn Heights</td>\n",
              "    </tr>\n",
              "    <tr>\n",
              "      <th>3</th>\n",
              "      <td>Manhattan, Upper West Side</td>\n",
              "      <td>Manhattan</td>\n",
              "      <td>Upper West Side</td>\n",
              "    </tr>\n",
              "    <tr>\n",
              "      <th>4</th>\n",
              "      <td>Manhattan, Lower East Side</td>\n",
              "      <td>Manhattan</td>\n",
              "      <td>Lower East Side</td>\n",
              "    </tr>\n",
              "  </tbody>\n",
              "</table>\n",
              "</div>"
            ],
            "text/plain": [
              "           neighbourhood_full    borough      neighbourhood\n",
              "0         Brooklyn, Flatlands   Brooklyn          Flatlands\n",
              "1  Manhattan, Upper West Side  Manhattan    Upper West Side\n",
              "2  Brooklyn, Brooklyn Heights   Brooklyn   Brooklyn Heights\n",
              "3  Manhattan, Upper West Side  Manhattan    Upper West Side\n",
              "4  Manhattan, Lower East Side  Manhattan    Lower East Side"
            ]
          },
          "metadata": {
            "tags": []
          },
          "execution_count": 33
        }
      ]
    },
    {
      "cell_type": "code",
      "metadata": {
        "id": "SnflzqkwzCnt"
      },
      "source": [
        "# Drop neighbourhood_full column\n",
        "airbnb.drop('neighbourhood_full', axis = 1, inplace = True)"
      ],
      "execution_count": null,
      "outputs": []
    },
    {
      "cell_type": "code",
      "metadata": {
        "id": "NJqrhMlNzNxk",
        "colab": {
          "base_uri": "https://localhost:8080/",
          "height": 816
        },
        "outputId": "fb53c48b-df6e-4622-921c-82e8fd715a56"
      },
      "source": [
        "# Print out unique values of borough and neighbourhood\n",
        "print(airbnb['borough'].unique())\n",
        "print(airbnb['neighbourhood'].unique())"
      ],
      "execution_count": null,
      "outputs": [
        {
          "output_type": "stream",
          "text": [
            "['Brooklyn' 'Manhattan' 'Queens' 'Bronx' 'Staten Island']\n",
            "[' Flatlands' ' Upper West Side' ' Brooklyn Heights' ' Lower East Side'\n",
            " ' Greenwich Village' ' Harlem' ' Sheepshead Bay' ' Theater District'\n",
            " ' Bushwick' ' Laurelton' ' Mott Haven' ' Flushing' ' Crown Heights'\n",
            " ' Midtown' ' Financial District' ' East Village' ' Park Slope'\n",
            " ' Washington Heights' ' Williamsburg' ' Chelsea' ' Bedford-Stuyvesant'\n",
            " ' Gowanus' ' Upper East Side' ' Ditmars Steinway' ' Cypress Hills'\n",
            " \" Hell's Kitchen\" ' Ridgewood' ' Marble Hill' ' Kips Bay'\n",
            " ' Prospect Heights' ' East New York' ' Concord' ' Stapleton' ' Astoria'\n",
            " ' East Harlem' ' Sunnyside' ' Gramercy' ' Prospect-Lefferts Gardens'\n",
            " ' Sunset Park' ' Forest Hills' ' Windsor Terrace' ' Clinton Hill'\n",
            " ' Murray Hill' ' Flatiron District' ' Greenpoint' ' East Flatbush'\n",
            " ' Tribeca' ' Woodhaven' ' Fort Greene' ' Inwood' ' Chinatown'\n",
            " ' Rockaway Beach' ' Woodside' ' Bayside' ' Bensonhurst' ' SoHo'\n",
            " ' Red Hook' ' West Village' ' South Slope' ' Richmond Hill' ' Jamaica'\n",
            " ' Boerum Hill' ' St. George' ' Clason Point' ' College Point'\n",
            " ' Vinegar Hill' ' Rego Park' ' East Elmhurst' ' Kensington'\n",
            " ' Roosevelt Island' ' Ozone Park' ' Arverne' ' Fordham' ' Wakefield'\n",
            " ' Port Morris' ' Flatbush' ' Elmhurst' ' Bay Ridge' ' Canarsie'\n",
            " ' Little Italy' ' Civic Center' ' St. Albans' ' Morningside Heights'\n",
            " ' Morrisania' ' Two Bridges' ' Concourse' ' Downtown Brooklyn'\n",
            " ' Queens Village' ' Fieldston' ' Allerton' ' Grymes Hill'\n",
            " ' Carroll Gardens' ' Kingsbridge' ' Belle Harbor' ' NoHo' ' Maspeth'\n",
            " ' Borough Park' ' Midwood' ' Fresh Meadows' ' Battery Park City'\n",
            " ' Pelham Bay' ' Van Nest' ' Long Island City' ' Williamsbridge' ' Nolita'\n",
            " ' Kew Gardens' ' Corona' ' Middle Village' ' Jackson Heights'\n",
            " ' Gravesend' ' New Dorp Beach' ' Brighton Beach' ' Belmont'\n",
            " ' Eltingville' ' South Ozone Park' ' Stuyvesant Town' ' Far Rockaway'\n",
            " ' Longwood' ' Glendale' ' Dongan Hills' ' Hollis' ' Columbia St'\n",
            " ' Tompkinsville' ' Springfield Gardens' ' Concourse Village'\n",
            " ' Throgs Neck' ' Cobble Hill' ' South Beach' ' North Riverdale'\n",
            " ' Rosedale' ' Mount Hope' ' Edenwald' ' Parkchester' ' Mill Basin'\n",
            " ' Brownsville' ' Fort Hamilton' ' Howard Beach' ' Claremont Village'\n",
            " ' Pelham Gardens' ' Westchester Square' ' Kew Gardens Hills' ' Arrochar'\n",
            " ' Edgemere' ' Shore Acres' ' Dyker Heights' ' Mount Eden'\n",
            " ' Randall Manor' ' Jamaica Hills' ' Norwood' ' Tottenville'\n",
            " ' Cambria Heights' ' East Morrisania' ' Soundview' ' Morris Park'\n",
            " ' Bronxdale' ' Bellerose' ' Navy Yard' ' Unionport' ' DUMBO' ' Bayswater'\n",
            " ' Tremont' ' Highbridge' ' Graniteville' ' Baychester' ' Morris Heights'\n",
            " ' Coney Island' ' Briarwood' ' West Farms' \" Prince's Bay\"\n",
            " ' University Heights' ' Clifton' ' Bay Terrace' ' City Island'\n",
            " ' West Brighton' ' Douglaston' ' Schuylerville' ' Port Richmond'\n",
            " ' Oakwood' ' Westerleigh' ' Little Neck' ' Holliswood' ' Bergen Beach'\n",
            " ' Castle Hill' ' Olinville' ' Rosebank' ' Melrose' ' Whitestone'\n",
            " ' Grant City' ' Riverdale' ' Neponsit' ' Bath Beach' ' Mariners Harbor'\n",
            " ' Hunts Point' ' Great Kills' ' Midland Beach' ' Eastchester'\n",
            " ' Jamaica Estates' ' New Springville']\n"
          ],
          "name": "stdout"
        }
      ]
    },
    {
      "cell_type": "code",
      "metadata": {
        "id": "sIC_fuLRz-en",
        "colab": {
          "base_uri": "https://localhost:8080/",
          "height": 731
        },
        "outputId": "76d43de4-1409-44c7-e813-a182b858282e"
      },
      "source": [
        "# Strip white space from neighbourhood column\n",
        "airbnb['neighbourhood'] = airbnb['neighbourhood'].str.strip()\n",
        "# Print unique values again\n",
        "print(airbnb['neighbourhood'].unique())"
      ],
      "execution_count": null,
      "outputs": [
        {
          "output_type": "stream",
          "text": [
            "['Flatlands' 'Upper West Side' 'Brooklyn Heights' 'Lower East Side'\n",
            " 'Greenwich Village' 'Harlem' 'Sheepshead Bay' 'Theater District'\n",
            " 'Bushwick' 'Laurelton' 'Mott Haven' 'Flushing' 'Crown Heights' 'Midtown'\n",
            " 'Financial District' 'East Village' 'Park Slope' 'Washington Heights'\n",
            " 'Williamsburg' 'Chelsea' 'Bedford-Stuyvesant' 'Gowanus' 'Upper East Side'\n",
            " 'Ditmars Steinway' 'Cypress Hills' \"Hell's Kitchen\" 'Ridgewood'\n",
            " 'Marble Hill' 'Kips Bay' 'Prospect Heights' 'East New York' 'Concord'\n",
            " 'Stapleton' 'Astoria' 'East Harlem' 'Sunnyside' 'Gramercy'\n",
            " 'Prospect-Lefferts Gardens' 'Sunset Park' 'Forest Hills'\n",
            " 'Windsor Terrace' 'Clinton Hill' 'Murray Hill' 'Flatiron District'\n",
            " 'Greenpoint' 'East Flatbush' 'Tribeca' 'Woodhaven' 'Fort Greene' 'Inwood'\n",
            " 'Chinatown' 'Rockaway Beach' 'Woodside' 'Bayside' 'Bensonhurst' 'SoHo'\n",
            " 'Red Hook' 'West Village' 'South Slope' 'Richmond Hill' 'Jamaica'\n",
            " 'Boerum Hill' 'St. George' 'Clason Point' 'College Point' 'Vinegar Hill'\n",
            " 'Rego Park' 'East Elmhurst' 'Kensington' 'Roosevelt Island' 'Ozone Park'\n",
            " 'Arverne' 'Fordham' 'Wakefield' 'Port Morris' 'Flatbush' 'Elmhurst'\n",
            " 'Bay Ridge' 'Canarsie' 'Little Italy' 'Civic Center' 'St. Albans'\n",
            " 'Morningside Heights' 'Morrisania' 'Two Bridges' 'Concourse'\n",
            " 'Downtown Brooklyn' 'Queens Village' 'Fieldston' 'Allerton' 'Grymes Hill'\n",
            " 'Carroll Gardens' 'Kingsbridge' 'Belle Harbor' 'NoHo' 'Maspeth'\n",
            " 'Borough Park' 'Midwood' 'Fresh Meadows' 'Battery Park City' 'Pelham Bay'\n",
            " 'Van Nest' 'Long Island City' 'Williamsbridge' 'Nolita' 'Kew Gardens'\n",
            " 'Corona' 'Middle Village' 'Jackson Heights' 'Gravesend' 'New Dorp Beach'\n",
            " 'Brighton Beach' 'Belmont' 'Eltingville' 'South Ozone Park'\n",
            " 'Stuyvesant Town' 'Far Rockaway' 'Longwood' 'Glendale' 'Dongan Hills'\n",
            " 'Hollis' 'Columbia St' 'Tompkinsville' 'Springfield Gardens'\n",
            " 'Concourse Village' 'Throgs Neck' 'Cobble Hill' 'South Beach'\n",
            " 'North Riverdale' 'Rosedale' 'Mount Hope' 'Edenwald' 'Parkchester'\n",
            " 'Mill Basin' 'Brownsville' 'Fort Hamilton' 'Howard Beach'\n",
            " 'Claremont Village' 'Pelham Gardens' 'Westchester Square'\n",
            " 'Kew Gardens Hills' 'Arrochar' 'Edgemere' 'Shore Acres' 'Dyker Heights'\n",
            " 'Mount Eden' 'Randall Manor' 'Jamaica Hills' 'Norwood' 'Tottenville'\n",
            " 'Cambria Heights' 'East Morrisania' 'Soundview' 'Morris Park' 'Bronxdale'\n",
            " 'Bellerose' 'Navy Yard' 'Unionport' 'DUMBO' 'Bayswater' 'Tremont'\n",
            " 'Highbridge' 'Graniteville' 'Baychester' 'Morris Heights' 'Coney Island'\n",
            " 'Briarwood' 'West Farms' \"Prince's Bay\" 'University Heights' 'Clifton'\n",
            " 'Bay Terrace' 'City Island' 'West Brighton' 'Douglaston' 'Schuylerville'\n",
            " 'Port Richmond' 'Oakwood' 'Westerleigh' 'Little Neck' 'Holliswood'\n",
            " 'Bergen Beach' 'Castle Hill' 'Olinville' 'Rosebank' 'Melrose'\n",
            " 'Whitestone' 'Grant City' 'Riverdale' 'Neponsit' 'Bath Beach'\n",
            " 'Mariners Harbor' 'Hunts Point' 'Great Kills' 'Midland Beach'\n",
            " 'Eastchester' 'Jamaica Estates' 'New Springville']\n"
          ],
          "name": "stdout"
        }
      ]
    },
    {
      "cell_type": "markdown",
      "metadata": {
        "id": "iFUQqbRp1lil"
      },
      "source": [
        "##### **Task 6:** Make sure we set the correct maximum for `rating` column out of range values"
      ]
    },
    {
      "cell_type": "code",
      "metadata": {
        "id": "Bacl6XSU1zyD",
        "colab": {
          "base_uri": "https://localhost:8080/",
          "height": 279
        },
        "outputId": "9d5484cf-f059-4022-f09f-35d7fb69f240"
      },
      "source": [
        "# Visualize the rating column again\n",
        "sns.distplot(airbnb['rating'], bins = 20)\n",
        "plt.show()"
      ],
      "execution_count": null,
      "outputs": [
        {
          "output_type": "display_data",
          "data": {
            "image/png": "[encoded data removed]",
            "text/plain": [
              "<Figure size 432x288 with 1 Axes>"
            ]
          },
          "metadata": {
            "tags": []
          }
        }
      ]
    },
    {
      "cell_type": "code",
      "metadata": {
        "id": "toWXIeUx2C0o",
        "colab": {
          "base_uri": "https://localhost:8080/",
          "height": 349
        },
        "outputId": "544d5863-c5ff-4b01-c299-fe5a17cd04a1"
      },
      "source": [
        "# Isolate rows of rating > 5.0\n",
        "airbnb[airbnb['rating'] > 5.0]"
      ],
      "execution_count": null,
      "outputs": [
        {
          "output_type": "execute_result",
          "data": {
            "text/html": [
              "<div>\n",
              "<style scoped>\n",
              "    .dataframe tbody tr th:only-of-type {\n",
              "        vertical-align: middle;\n",
              "    }\n",
              "\n",
              "    .dataframe tbody tr th {\n",
              "        vertical-align: top;\n",
              "    }\n",
              "\n",
              "    .dataframe thead th {\n",
              "        text-align: right;\n",
              "    }\n",
              "</style>\n",
              "<table border=\"1\" class=\"dataframe\">\n",
              "  <thead>\n",
              "    <tr style=\"text-align: right;\">\n",
              "      <th></th>\n",
              "      <th>listing_id</th>\n",
              "      <th>name</th>\n",
              "      <th>host_id</th>\n",
              "      <th>host_name</th>\n",
              "      <th>room_type</th>\n",
              "      <th>price</th>\n",
              "      <th>number_of_reviews</th>\n",
              "      <th>last_review</th>\n",
              "      <th>reviews_per_month</th>\n",
              "      <th>availability_365</th>\n",
              "      <th>rating</th>\n",
              "      <th>number_of_stays</th>\n",
              "      <th>5_stars</th>\n",
              "      <th>listing_added</th>\n",
              "      <th>latitude</th>\n",
              "      <th>longitude</th>\n",
              "      <th>borough</th>\n",
              "      <th>neighbourhood</th>\n",
              "    </tr>\n",
              "  </thead>\n",
              "  <tbody>\n",
              "    <tr>\n",
              "      <th>1925</th>\n",
              "      <td>36411407</td>\n",
              "      <td>Brand new 1 bedroom steps from Soho!</td>\n",
              "      <td>33917435</td>\n",
              "      <td>Mike</td>\n",
              "      <td>Entire place</td>\n",
              "      <td>150.0</td>\n",
              "      <td>1</td>\n",
              "      <td>2019-07-06</td>\n",
              "      <td>1.0</td>\n",
              "      <td>13</td>\n",
              "      <td>5.017040</td>\n",
              "      <td>1.2</td>\n",
              "      <td>0.870161</td>\n",
              "      <td>2018-12-31</td>\n",
              "      <td>40.71825</td>\n",
              "      <td>-73.99019</td>\n",
              "      <td>Manhattan</td>\n",
              "      <td>Lower East Side</td>\n",
              "    </tr>\n",
              "    <tr>\n",
              "      <th>6732</th>\n",
              "      <td>36390226</td>\n",
              "      <td>Comfortable clean Bedstuy private room</td>\n",
              "      <td>267932490</td>\n",
              "      <td>Angela</td>\n",
              "      <td>Private Room</td>\n",
              "      <td>45.0</td>\n",
              "      <td>2</td>\n",
              "      <td>2019-07-08</td>\n",
              "      <td>2.0</td>\n",
              "      <td>14</td>\n",
              "      <td>5.087091</td>\n",
              "      <td>2.4</td>\n",
              "      <td>0.950339</td>\n",
              "      <td>2019-01-02</td>\n",
              "      <td>40.69551</td>\n",
              "      <td>-73.93951</td>\n",
              "      <td>Brooklyn</td>\n",
              "      <td>Bedford-Stuyvesant</td>\n",
              "    </tr>\n",
              "    <tr>\n",
              "      <th>8821</th>\n",
              "      <td>36413632</td>\n",
              "      <td>Spacious 2BR in Beautiful Brooklyn Heights</td>\n",
              "      <td>6608220</td>\n",
              "      <td>Matt</td>\n",
              "      <td>Entire place</td>\n",
              "      <td>550.0</td>\n",
              "      <td>1</td>\n",
              "      <td>2019-07-07</td>\n",
              "      <td>1.0</td>\n",
              "      <td>230</td>\n",
              "      <td>5.181114</td>\n",
              "      <td>1.2</td>\n",
              "      <td>0.805418</td>\n",
              "      <td>2019-01-01</td>\n",
              "      <td>40.69827</td>\n",
              "      <td>-73.99649</td>\n",
              "      <td>Brooklyn</td>\n",
              "      <td>Brooklyn Heights</td>\n",
              "    </tr>\n",
              "  </tbody>\n",
              "</table>\n",
              "</div>"
            ],
            "text/plain": [
              "      listing_id  ...       neighbourhood\n",
              "1925    36411407  ...     Lower East Side\n",
              "6732    36390226  ...  Bedford-Stuyvesant\n",
              "8821    36413632  ...    Brooklyn Heights\n",
              "\n",
              "[3 rows x 18 columns]"
            ]
          },
          "metadata": {
            "tags": []
          },
          "execution_count": 38
        }
      ]
    },
    {
      "cell_type": "code",
      "metadata": {
        "id": "O6GzdjlP2JZN"
      },
      "source": [
        "# Drop these rows and make sure we have effected changes\n",
        "airbnb.drop(airbnb[airbnb['rating'] > 5.0].index, inplace = True)"
      ],
      "execution_count": null,
      "outputs": []
    },
    {
      "cell_type": "code",
      "metadata": {
        "id": "sjlhjthu3NIP",
        "colab": {
          "base_uri": "https://localhost:8080/",
          "height": 279
        },
        "outputId": "b273f6da-cfc7-4e17-8cc8-833aa3d70f1d"
      },
      "source": [
        "# Visualize the rating column again\n",
        "sns.distplot(airbnb['rating'], bins = 20)\n",
        "plt.show()"
      ],
      "execution_count": null,
      "outputs": [
        {
          "output_type": "display_data",
          "data": {
            "image/png": "[encoded data removed]",
            "text/plain": [
              "<Figure size 432x288 with 1 Axes>"
            ]
          },
          "metadata": {
            "tags": []
          }
        }
      ]
    },
    {
      "cell_type": "code",
      "metadata": {
        "id": "ll1KvVJX4Pd3",
        "colab": {
          "base_uri": "https://localhost:8080/",
          "height": 34
        },
        "outputId": "5e1a6b80-1ba8-47f0-88ea-6b53e3cdcd3d"
      },
      "source": [
        "# Get the maximum\n",
        "airbnb['rating'].max()"
      ],
      "execution_count": null,
      "outputs": [
        {
          "output_type": "execute_result",
          "data": {
            "text/plain": [
              "4.999561104773598"
            ]
          },
          "metadata": {
            "tags": []
          },
          "execution_count": 41
        }
      ]
    },
    {
      "cell_type": "markdown",
      "metadata": {
        "id": "QFQ-u62X0kqm"
      },
      "source": [
        "## **Q&A**"
      ]
    },
    {
      "cell_type": "markdown",
      "metadata": {
        "id": "32vk2-Vn5l3Z"
      },
      "source": [
        "### Dealing with missing data"
      ]
    },
    {
      "cell_type": "markdown",
      "metadata": {
        "id": "b2K5RQJLlXvf"
      },
      "source": [
        "The `missingno` (imported as `msno`) package is great for visualizing missing data - we will be using:\n",
        "\n",
        "- `msno.matrix()` visualizes a missingness matrix\n",
        "- `msno.bar()` visualizes a missngness barplot\n",
        "- `plt.show()` to show the plot"
      ]
    },
    {
      "cell_type": "code",
      "metadata": {
        "id": "spvUQz2K4U4x",
        "colab": {
          "base_uri": "https://localhost:8080/",
          "height": 631
        },
        "outputId": "1c0acb40-3fdd-4a7d-d9b2-4d165885fada"
      },
      "source": [
        "# Visualize the missingness \n",
        "msno.matrix(airbnb)\n",
        "plt.show()"
      ],
      "execution_count": null,
      "outputs": [
        {
          "output_type": "display_data",
          "data": {
            "image/png": "[encoded data removed]",
            "text/plain": [
              "<Figure size 1800x720 with 2 Axes>"
            ]
          },
          "metadata": {
            "tags": [],
            "needs_background": "light"
          }
        }
      ]
    },
    {
      "cell_type": "markdown",
      "metadata": {
        "id": "0zUCNNxvR1LP"
      },
      "source": [
        "Looking at the missingness matrix, we can see that missing values are almost identical between `last_review`, `reviews_per_month`, `rating`, `number_of_stays`, and `5_stars`. Let's confirm this further by sorting on `rating`."
      ]
    },
    {
      "cell_type": "code",
      "metadata": {
        "id": "G9QLtSbx7pCW",
        "colab": {
          "base_uri": "https://localhost:8080/",
          "height": 631
        },
        "outputId": "8f32c75c-885b-431e-bf91-30816f6b23be"
      },
      "source": [
        "# Visualize the missingness on sorted values\n",
        "msno.matrix(airbnb.sort_values(by = 'rating'))\n",
        "plt.show()"
      ],
      "execution_count": null,
      "outputs": [
        {
          "output_type": "display_data",
          "data": {
            "image/png": "[encoded data removed]",
            "text/plain": [
              "<Figure size 1800x720 with 2 Axes>"
            ]
          },
          "metadata": {
            "tags": [],
            "needs_background": "light"
          }
        }
      ]
    },
    {
      "cell_type": "code",
      "metadata": {
        "id": "W5vfZi03RwwY",
        "colab": {
          "base_uri": "https://localhost:8080/",
          "height": 684
        },
        "outputId": "4abe0601-5bc0-46d4-eb7d-d8bb5e0d099d"
      },
      "source": [
        "# Missingness barplot\n",
        "msno.bar(airbnb)"
      ],
      "execution_count": null,
      "outputs": [
        {
          "output_type": "execute_result",
          "data": {
            "text/plain": [
              "<matplotlib.axes._subplots.AxesSubplot at 0x7f4022f95510>"
            ]
          },
          "metadata": {
            "tags": []
          },
          "execution_count": 16
        },
        {
          "output_type": "display_data",
          "data": {
            "image/png": "[encoded data removed]",
            "text/plain": [
              "<Figure size 1800x720 with 3 Axes>"
            ]
          },
          "metadata": {
            "tags": [],
            "needs_background": "light"
          }
        }
      ]
    },
    {
      "cell_type": "markdown",
      "metadata": {
        "id": "27XSigJyg8Di"
      },
      "source": [
        "**Treating the** `rating`, `number_of_stays`, `5_stars`, `reviews_per_month` **columns**"
      ]
    },
    {
      "cell_type": "code",
      "metadata": {
        "id": "pKuLIznfSv3H",
        "colab": {
          "base_uri": "https://localhost:8080/",
          "height": 317
        },
        "outputId": "cb4b350a-d457-4af3-fb03-18204e6f7e7d"
      },
      "source": [
        "# Understand DataFrame with missing values in rating, number_of_stays, 5_stars, reviews_per_month\n",
        "airbnb[airbnb['rating'].isna()].describe()"
      ],
      "execution_count": null,
      "outputs": [
        {
          "output_type": "execute_result",
          "data": {
            "text/html": [
              "<div>\n",
              "<style scoped>\n",
              "    .dataframe tbody tr th:only-of-type {\n",
              "        vertical-align: middle;\n",
              "    }\n",
              "\n",
              "    .dataframe tbody tr th {\n",
              "        vertical-align: top;\n",
              "    }\n",
              "\n",
              "    .dataframe thead th {\n",
              "        text-align: right;\n",
              "    }\n",
              "</style>\n",
              "<table border=\"1\" class=\"dataframe\">\n",
              "  <thead>\n",
              "    <tr style=\"text-align: right;\">\n",
              "      <th></th>\n",
              "      <th>listing_id</th>\n",
              "      <th>host_id</th>\n",
              "      <th>number_of_reviews</th>\n",
              "      <th>reviews_per_month</th>\n",
              "      <th>availability_365</th>\n",
              "      <th>rating</th>\n",
              "      <th>number_of_stays</th>\n",
              "      <th>5_stars</th>\n",
              "    </tr>\n",
              "  </thead>\n",
              "  <tbody>\n",
              "    <tr>\n",
              "      <th>count</th>\n",
              "      <td>2.075000e+03</td>\n",
              "      <td>2.075000e+03</td>\n",
              "      <td>2075.0</td>\n",
              "      <td>0.0</td>\n",
              "      <td>2075.000000</td>\n",
              "      <td>0.0</td>\n",
              "      <td>0.0</td>\n",
              "      <td>0.0</td>\n",
              "    </tr>\n",
              "    <tr>\n",
              "      <th>mean</th>\n",
              "      <td>2.274238e+07</td>\n",
              "      <td>8.022455e+07</td>\n",
              "      <td>0.0</td>\n",
              "      <td>NaN</td>\n",
              "      <td>104.531566</td>\n",
              "      <td>NaN</td>\n",
              "      <td>NaN</td>\n",
              "      <td>NaN</td>\n",
              "    </tr>\n",
              "    <tr>\n",
              "      <th>std</th>\n",
              "      <td>1.123730e+07</td>\n",
              "      <td>8.663163e+07</td>\n",
              "      <td>0.0</td>\n",
              "      <td>NaN</td>\n",
              "      <td>138.266525</td>\n",
              "      <td>NaN</td>\n",
              "      <td>NaN</td>\n",
              "      <td>NaN</td>\n",
              "    </tr>\n",
              "    <tr>\n",
              "      <th>min</th>\n",
              "      <td>6.358800e+04</td>\n",
              "      <td>1.475100e+04</td>\n",
              "      <td>0.0</td>\n",
              "      <td>NaN</td>\n",
              "      <td>0.000000</td>\n",
              "      <td>NaN</td>\n",
              "      <td>NaN</td>\n",
              "      <td>NaN</td>\n",
              "    </tr>\n",
              "    <tr>\n",
              "      <th>25%</th>\n",
              "      <td>1.232923e+07</td>\n",
              "      <td>1.224305e+07</td>\n",
              "      <td>0.0</td>\n",
              "      <td>NaN</td>\n",
              "      <td>0.000000</td>\n",
              "      <td>NaN</td>\n",
              "      <td>NaN</td>\n",
              "      <td>NaN</td>\n",
              "    </tr>\n",
              "    <tr>\n",
              "      <th>50%</th>\n",
              "      <td>2.345182e+07</td>\n",
              "      <td>4.040116e+07</td>\n",
              "      <td>0.0</td>\n",
              "      <td>NaN</td>\n",
              "      <td>7.000000</td>\n",
              "      <td>NaN</td>\n",
              "      <td>NaN</td>\n",
              "      <td>NaN</td>\n",
              "    </tr>\n",
              "    <tr>\n",
              "      <th>75%</th>\n",
              "      <td>3.400364e+07</td>\n",
              "      <td>1.333498e+08</td>\n",
              "      <td>0.0</td>\n",
              "      <td>NaN</td>\n",
              "      <td>211.000000</td>\n",
              "      <td>NaN</td>\n",
              "      <td>NaN</td>\n",
              "      <td>NaN</td>\n",
              "    </tr>\n",
              "    <tr>\n",
              "      <th>max</th>\n",
              "      <td>3.648724e+07</td>\n",
              "      <td>2.741034e+08</td>\n",
              "      <td>0.0</td>\n",
              "      <td>NaN</td>\n",
              "      <td>365.000000</td>\n",
              "      <td>NaN</td>\n",
              "      <td>NaN</td>\n",
              "      <td>NaN</td>\n",
              "    </tr>\n",
              "  </tbody>\n",
              "</table>\n",
              "</div>"
            ],
            "text/plain": [
              "         listing_id       host_id  ...  number_of_stays  5_stars\n",
              "count  2.075000e+03  2.075000e+03  ...              0.0      0.0\n",
              "mean   2.274238e+07  8.022455e+07  ...              NaN      NaN\n",
              "std    1.123730e+07  8.663163e+07  ...              NaN      NaN\n",
              "min    6.358800e+04  1.475100e+04  ...              NaN      NaN\n",
              "25%    1.232923e+07  1.224305e+07  ...              NaN      NaN\n",
              "50%    2.345182e+07  4.040116e+07  ...              NaN      NaN\n",
              "75%    3.400364e+07  1.333498e+08  ...              NaN      NaN\n",
              "max    3.648724e+07  2.741034e+08  ...              NaN      NaN\n",
              "\n",
              "[8 rows x 8 columns]"
            ]
          },
          "metadata": {
            "tags": []
          },
          "execution_count": 17
        }
      ]
    },
    {
      "cell_type": "code",
      "metadata": {
        "id": "ij5BmX2gTnrW",
        "colab": {
          "base_uri": "https://localhost:8080/",
          "height": 317
        },
        "outputId": "fca75214-3a44-4f44-c5a4-6038bfc8afe4"
      },
      "source": [
        "# Understand DataFrame with missing values in rating, number_of_stays, 5_stars, reviews_per_month\n",
        "airbnb[~airbnb['rating'].isna()].describe()"
      ],
      "execution_count": null,
      "outputs": [
        {
          "output_type": "execute_result",
          "data": {
            "text/html": [
              "<div>\n",
              "<style scoped>\n",
              "    .dataframe tbody tr th:only-of-type {\n",
              "        vertical-align: middle;\n",
              "    }\n",
              "\n",
              "    .dataframe tbody tr th {\n",
              "        vertical-align: top;\n",
              "    }\n",
              "\n",
              "    .dataframe thead th {\n",
              "        text-align: right;\n",
              "    }\n",
              "</style>\n",
              "<table border=\"1\" class=\"dataframe\">\n",
              "  <thead>\n",
              "    <tr style=\"text-align: right;\">\n",
              "      <th></th>\n",
              "      <th>listing_id</th>\n",
              "      <th>host_id</th>\n",
              "      <th>number_of_reviews</th>\n",
              "      <th>reviews_per_month</th>\n",
              "      <th>availability_365</th>\n",
              "      <th>rating</th>\n",
              "      <th>number_of_stays</th>\n",
              "      <th>5_stars</th>\n",
              "    </tr>\n",
              "  </thead>\n",
              "  <tbody>\n",
              "    <tr>\n",
              "      <th>count</th>\n",
              "      <td>7.944000e+03</td>\n",
              "      <td>7.944000e+03</td>\n",
              "      <td>7944.000000</td>\n",
              "      <td>7944.000000</td>\n",
              "      <td>7944.000000</td>\n",
              "      <td>7944.000000</td>\n",
              "      <td>7944.000000</td>\n",
              "      <td>7944.000000</td>\n",
              "    </tr>\n",
              "    <tr>\n",
              "      <th>mean</th>\n",
              "      <td>1.837100e+07</td>\n",
              "      <td>6.475548e+07</td>\n",
              "      <td>28.326284</td>\n",
              "      <td>1.353894</td>\n",
              "      <td>114.309290</td>\n",
              "      <td>4.014458</td>\n",
              "      <td>33.991541</td>\n",
              "      <td>0.718599</td>\n",
              "    </tr>\n",
              "    <tr>\n",
              "      <th>std</th>\n",
              "      <td>1.069161e+07</td>\n",
              "      <td>7.608428e+07</td>\n",
              "      <td>46.741066</td>\n",
              "      <td>1.615380</td>\n",
              "      <td>129.781153</td>\n",
              "      <td>0.575064</td>\n",
              "      <td>56.089279</td>\n",
              "      <td>0.079978</td>\n",
              "    </tr>\n",
              "    <tr>\n",
              "      <th>min</th>\n",
              "      <td>3.831000e+03</td>\n",
              "      <td>2.787000e+03</td>\n",
              "      <td>1.000000</td>\n",
              "      <td>0.010000</td>\n",
              "      <td>0.000000</td>\n",
              "      <td>3.000633</td>\n",
              "      <td>1.200000</td>\n",
              "      <td>0.600026</td>\n",
              "    </tr>\n",
              "    <tr>\n",
              "      <th>25%</th>\n",
              "      <td>8.970241e+06</td>\n",
              "      <td>7.137797e+06</td>\n",
              "      <td>3.000000</td>\n",
              "      <td>0.200000</td>\n",
              "      <td>0.000000</td>\n",
              "      <td>3.520443</td>\n",
              "      <td>3.600000</td>\n",
              "      <td>0.655576</td>\n",
              "    </tr>\n",
              "    <tr>\n",
              "      <th>50%</th>\n",
              "      <td>1.928118e+07</td>\n",
              "      <td>2.949374e+07</td>\n",
              "      <td>9.000000</td>\n",
              "      <td>0.710000</td>\n",
              "      <td>54.000000</td>\n",
              "      <td>4.027965</td>\n",
              "      <td>10.800000</td>\n",
              "      <td>0.709768</td>\n",
              "    </tr>\n",
              "    <tr>\n",
              "      <th>75%</th>\n",
              "      <td>2.789420e+07</td>\n",
              "      <td>1.016715e+08</td>\n",
              "      <td>32.000000</td>\n",
              "      <td>2.000000</td>\n",
              "      <td>229.000000</td>\n",
              "      <td>4.516378</td>\n",
              "      <td>38.400000</td>\n",
              "      <td>0.763978</td>\n",
              "    </tr>\n",
              "    <tr>\n",
              "      <th>max</th>\n",
              "      <td>3.641363e+07</td>\n",
              "      <td>2.733615e+08</td>\n",
              "      <td>510.000000</td>\n",
              "      <td>16.220000</td>\n",
              "      <td>365.000000</td>\n",
              "      <td>5.181114</td>\n",
              "      <td>612.000000</td>\n",
              "      <td>0.950339</td>\n",
              "    </tr>\n",
              "  </tbody>\n",
              "</table>\n",
              "</div>"
            ],
            "text/plain": [
              "         listing_id       host_id  ...  number_of_stays      5_stars\n",
              "count  7.944000e+03  7.944000e+03  ...      7944.000000  7944.000000\n",
              "mean   1.837100e+07  6.475548e+07  ...        33.991541     0.718599\n",
              "std    1.069161e+07  7.608428e+07  ...        56.089279     0.079978\n",
              "min    3.831000e+03  2.787000e+03  ...         1.200000     0.600026\n",
              "25%    8.970241e+06  7.137797e+06  ...         3.600000     0.655576\n",
              "50%    1.928118e+07  2.949374e+07  ...        10.800000     0.709768\n",
              "75%    2.789420e+07  1.016715e+08  ...        38.400000     0.763978\n",
              "max    3.641363e+07  2.733615e+08  ...       612.000000     0.950339\n",
              "\n",
              "[8 rows x 8 columns]"
            ]
          },
          "metadata": {
            "tags": []
          },
          "execution_count": 18
        }
      ]
    },
    {
      "cell_type": "markdown",
      "metadata": {
        "id": "u4eBTzRwYKhc"
      },
      "source": [
        "Looking at the missing data in the DataFrame - we can see that `number_of_reviews` across all missing rows is 0. We can infer that these listings have never been visited - hence could be inferred they're inactive/have never been visited. \n",
        "\n",
        "We can impute them as following:\n",
        "\n",
        "- Set `NaN` for `reviews_per_month`, `number_of_stays`, `5_stars` to 0.\n",
        "- Since a `rating` did not happen, let's keep the column as is - but create a new column named `rated` that takes in `1` if yes, `0` if no.\n",
        "- We will also leave `last_review` as is.\n"
      ]
    },
    {
      "cell_type": "code",
      "metadata": {
        "id": "tuRNdMvungIq"
      },
      "source": [
        "# Impute missing data\n",
        "airbnb = airbnb.fillna({'reviews_per_month':0,\n",
        "                        'number_of_stays':0,\n",
        "                        '5_stars':0})\n",
        "\n",
        "# Create is_rated column\n",
        "is_rated = np.where(airbnb['rating'].isna() == True, 0, 1)\n",
        "airbnb['is_rated'] = is_rated"
      ],
      "execution_count": null,
      "outputs": []
    },
    {
      "cell_type": "markdown",
      "metadata": {
        "id": "lsPP28Xzg9_z"
      },
      "source": [
        "**Treating the** `price` **column**"
      ]
    },
    {
      "cell_type": "code",
      "metadata": {
        "id": "lLJJG-SmYLh7",
        "colab": {
          "base_uri": "https://localhost:8080/",
          "height": 317
        },
        "outputId": "e594b239-3e0c-4a14-e7fb-3ae2df0a6078"
      },
      "source": [
        "# Investigate DataFrame with missing values in price\n",
        "airbnb[airbnb['price'].isna()].describe()"
      ],
      "execution_count": null,
      "outputs": [
        {
          "output_type": "execute_result",
          "data": {
            "text/html": [
              "<div>\n",
              "<style scoped>\n",
              "    .dataframe tbody tr th:only-of-type {\n",
              "        vertical-align: middle;\n",
              "    }\n",
              "\n",
              "    .dataframe tbody tr th {\n",
              "        vertical-align: top;\n",
              "    }\n",
              "\n",
              "    .dataframe thead th {\n",
              "        text-align: right;\n",
              "    }\n",
              "</style>\n",
              "<table border=\"1\" class=\"dataframe\">\n",
              "  <thead>\n",
              "    <tr style=\"text-align: right;\">\n",
              "      <th></th>\n",
              "      <th>listing_id</th>\n",
              "      <th>host_id</th>\n",
              "      <th>number_of_reviews</th>\n",
              "      <th>reviews_per_month</th>\n",
              "      <th>availability_365</th>\n",
              "      <th>rating</th>\n",
              "      <th>number_of_stays</th>\n",
              "      <th>5_stars</th>\n",
              "      <th>is_rated</th>\n",
              "    </tr>\n",
              "  </thead>\n",
              "  <tbody>\n",
              "    <tr>\n",
              "      <th>count</th>\n",
              "      <td>2.380000e+02</td>\n",
              "      <td>2.380000e+02</td>\n",
              "      <td>238.000000</td>\n",
              "      <td>238.000000</td>\n",
              "      <td>238.000000</td>\n",
              "      <td>191.000000</td>\n",
              "      <td>238.000000</td>\n",
              "      <td>238.000000</td>\n",
              "      <td>238.000000</td>\n",
              "    </tr>\n",
              "    <tr>\n",
              "      <th>mean</th>\n",
              "      <td>1.805656e+07</td>\n",
              "      <td>6.262965e+07</td>\n",
              "      <td>22.445378</td>\n",
              "      <td>1.117563</td>\n",
              "      <td>98.953782</td>\n",
              "      <td>4.078343</td>\n",
              "      <td>26.934454</td>\n",
              "      <td>0.577721</td>\n",
              "      <td>0.802521</td>\n",
              "    </tr>\n",
              "    <tr>\n",
              "      <th>std</th>\n",
              "      <td>1.065176e+07</td>\n",
              "      <td>7.518785e+07</td>\n",
              "      <td>35.798003</td>\n",
              "      <td>1.666262</td>\n",
              "      <td>125.872256</td>\n",
              "      <td>0.568705</td>\n",
              "      <td>42.957603</td>\n",
              "      <td>0.297066</td>\n",
              "      <td>0.398936</td>\n",
              "    </tr>\n",
              "    <tr>\n",
              "      <th>min</th>\n",
              "      <td>8.092400e+04</td>\n",
              "      <td>1.145900e+05</td>\n",
              "      <td>0.000000</td>\n",
              "      <td>0.000000</td>\n",
              "      <td>0.000000</td>\n",
              "      <td>3.007359</td>\n",
              "      <td>0.000000</td>\n",
              "      <td>0.000000</td>\n",
              "      <td>0.000000</td>\n",
              "    </tr>\n",
              "    <tr>\n",
              "      <th>25%</th>\n",
              "      <td>8.282298e+06</td>\n",
              "      <td>6.034050e+06</td>\n",
              "      <td>1.000000</td>\n",
              "      <td>0.080000</td>\n",
              "      <td>0.000000</td>\n",
              "      <td>3.646496</td>\n",
              "      <td>1.200000</td>\n",
              "      <td>0.613462</td>\n",
              "      <td>1.000000</td>\n",
              "    </tr>\n",
              "    <tr>\n",
              "      <th>50%</th>\n",
              "      <td>1.863600e+07</td>\n",
              "      <td>2.809524e+07</td>\n",
              "      <td>6.000000</td>\n",
              "      <td>0.350000</td>\n",
              "      <td>23.000000</td>\n",
              "      <td>4.149203</td>\n",
              "      <td>7.200000</td>\n",
              "      <td>0.681884</td>\n",
              "      <td>1.000000</td>\n",
              "    </tr>\n",
              "    <tr>\n",
              "      <th>75%</th>\n",
              "      <td>2.753759e+07</td>\n",
              "      <td>1.009006e+08</td>\n",
              "      <td>26.000000</td>\n",
              "      <td>1.435000</td>\n",
              "      <td>192.000000</td>\n",
              "      <td>4.538671</td>\n",
              "      <td>31.200000</td>\n",
              "      <td>0.746239</td>\n",
              "      <td>1.000000</td>\n",
              "    </tr>\n",
              "    <tr>\n",
              "      <th>max</th>\n",
              "      <td>3.638875e+07</td>\n",
              "      <td>2.668265e+08</td>\n",
              "      <td>207.000000</td>\n",
              "      <td>8.870000</td>\n",
              "      <td>365.000000</td>\n",
              "      <td>4.957646</td>\n",
              "      <td>248.400000</td>\n",
              "      <td>0.934979</td>\n",
              "      <td>1.000000</td>\n",
              "    </tr>\n",
              "  </tbody>\n",
              "</table>\n",
              "</div>"
            ],
            "text/plain": [
              "         listing_id       host_id  ...     5_stars    is_rated\n",
              "count  2.380000e+02  2.380000e+02  ...  238.000000  238.000000\n",
              "mean   1.805656e+07  6.262965e+07  ...    0.577721    0.802521\n",
              "std    1.065176e+07  7.518785e+07  ...    0.297066    0.398936\n",
              "min    8.092400e+04  1.145900e+05  ...    0.000000    0.000000\n",
              "25%    8.282298e+06  6.034050e+06  ...    0.613462    1.000000\n",
              "50%    1.863600e+07  2.809524e+07  ...    0.681884    1.000000\n",
              "75%    2.753759e+07  1.009006e+08  ...    0.746239    1.000000\n",
              "max    3.638875e+07  2.668265e+08  ...    0.934979    1.000000\n",
              "\n",
              "[8 rows x 9 columns]"
            ]
          },
          "metadata": {
            "tags": []
          },
          "execution_count": 20
        }
      ]
    },
    {
      "cell_type": "code",
      "metadata": {
        "id": "dluvKIkXr3yV",
        "colab": {
          "base_uri": "https://localhost:8080/",
          "height": 317
        },
        "outputId": "0415d886-69b6-4f17-b017-2902cace7965"
      },
      "source": [
        "# Investigate DataFrame with missing values in price\n",
        "airbnb[~airbnb['price'].isna()].describe()"
      ],
      "execution_count": null,
      "outputs": [
        {
          "output_type": "execute_result",
          "data": {
            "text/html": [
              "<div>\n",
              "<style scoped>\n",
              "    .dataframe tbody tr th:only-of-type {\n",
              "        vertical-align: middle;\n",
              "    }\n",
              "\n",
              "    .dataframe tbody tr th {\n",
              "        vertical-align: top;\n",
              "    }\n",
              "\n",
              "    .dataframe thead th {\n",
              "        text-align: right;\n",
              "    }\n",
              "</style>\n",
              "<table border=\"1\" class=\"dataframe\">\n",
              "  <thead>\n",
              "    <tr style=\"text-align: right;\">\n",
              "      <th></th>\n",
              "      <th>listing_id</th>\n",
              "      <th>host_id</th>\n",
              "      <th>number_of_reviews</th>\n",
              "      <th>reviews_per_month</th>\n",
              "      <th>availability_365</th>\n",
              "      <th>rating</th>\n",
              "      <th>number_of_stays</th>\n",
              "      <th>5_stars</th>\n",
              "      <th>is_rated</th>\n",
              "    </tr>\n",
              "  </thead>\n",
              "  <tbody>\n",
              "    <tr>\n",
              "      <th>count</th>\n",
              "      <td>9.781000e+03</td>\n",
              "      <td>9.781000e+03</td>\n",
              "      <td>9781.000000</td>\n",
              "      <td>9781.000000</td>\n",
              "      <td>9781.000000</td>\n",
              "      <td>7753.000000</td>\n",
              "      <td>9781.000000</td>\n",
              "      <td>9781.000000</td>\n",
              "      <td>9781.000000</td>\n",
              "    </tr>\n",
              "    <tr>\n",
              "      <th>mean</th>\n",
              "      <td>1.930602e+07</td>\n",
              "      <td>6.808891e+07</td>\n",
              "      <td>22.460076</td>\n",
              "      <td>1.072421</td>\n",
              "      <td>112.608629</td>\n",
              "      <td>4.012884</td>\n",
              "      <td>26.952091</td>\n",
              "      <td>0.569579</td>\n",
              "      <td>0.792659</td>\n",
              "    </tr>\n",
              "    <tr>\n",
              "      <th>std</th>\n",
              "      <td>1.095656e+07</td>\n",
              "      <td>7.871215e+07</td>\n",
              "      <td>43.339259</td>\n",
              "      <td>1.536342</td>\n",
              "      <td>131.762503</td>\n",
              "      <td>0.575167</td>\n",
              "      <td>52.007111</td>\n",
              "      <td>0.299874</td>\n",
              "      <td>0.405422</td>\n",
              "    </tr>\n",
              "    <tr>\n",
              "      <th>min</th>\n",
              "      <td>3.831000e+03</td>\n",
              "      <td>2.787000e+03</td>\n",
              "      <td>0.000000</td>\n",
              "      <td>0.000000</td>\n",
              "      <td>0.000000</td>\n",
              "      <td>3.000633</td>\n",
              "      <td>0.000000</td>\n",
              "      <td>0.000000</td>\n",
              "      <td>0.000000</td>\n",
              "    </tr>\n",
              "    <tr>\n",
              "      <th>25%</th>\n",
              "      <td>9.697749e+06</td>\n",
              "      <td>7.950356e+06</td>\n",
              "      <td>1.000000</td>\n",
              "      <td>0.040000</td>\n",
              "      <td>0.000000</td>\n",
              "      <td>3.519034</td>\n",
              "      <td>1.200000</td>\n",
              "      <td>0.611653</td>\n",
              "      <td>1.000000</td>\n",
              "    </tr>\n",
              "    <tr>\n",
              "      <th>50%</th>\n",
              "      <td>2.012526e+07</td>\n",
              "      <td>3.167887e+07</td>\n",
              "      <td>5.000000</td>\n",
              "      <td>0.380000</td>\n",
              "      <td>44.000000</td>\n",
              "      <td>4.024336</td>\n",
              "      <td>6.000000</td>\n",
              "      <td>0.681930</td>\n",
              "      <td>1.000000</td>\n",
              "    </tr>\n",
              "    <tr>\n",
              "      <th>75%</th>\n",
              "      <td>2.941006e+07</td>\n",
              "      <td>1.074344e+08</td>\n",
              "      <td>22.000000</td>\n",
              "      <td>1.550000</td>\n",
              "      <td>228.000000</td>\n",
              "      <td>4.514836</td>\n",
              "      <td>26.400000</td>\n",
              "      <td>0.750136</td>\n",
              "      <td>1.000000</td>\n",
              "    </tr>\n",
              "    <tr>\n",
              "      <th>max</th>\n",
              "      <td>3.648724e+07</td>\n",
              "      <td>2.741034e+08</td>\n",
              "      <td>510.000000</td>\n",
              "      <td>16.220000</td>\n",
              "      <td>365.000000</td>\n",
              "      <td>5.181114</td>\n",
              "      <td>612.000000</td>\n",
              "      <td>0.950339</td>\n",
              "      <td>1.000000</td>\n",
              "    </tr>\n",
              "  </tbody>\n",
              "</table>\n",
              "</div>"
            ],
            "text/plain": [
              "         listing_id       host_id  ...      5_stars     is_rated\n",
              "count  9.781000e+03  9.781000e+03  ...  9781.000000  9781.000000\n",
              "mean   1.930602e+07  6.808891e+07  ...     0.569579     0.792659\n",
              "std    1.095656e+07  7.871215e+07  ...     0.299874     0.405422\n",
              "min    3.831000e+03  2.787000e+03  ...     0.000000     0.000000\n",
              "25%    9.697749e+06  7.950356e+06  ...     0.611653     1.000000\n",
              "50%    2.012526e+07  3.167887e+07  ...     0.681930     1.000000\n",
              "75%    2.941006e+07  1.074344e+08  ...     0.750136     1.000000\n",
              "max    3.648724e+07  2.741034e+08  ...     0.950339     1.000000\n",
              "\n",
              "[8 rows x 9 columns]"
            ]
          },
          "metadata": {
            "tags": []
          },
          "execution_count": 21
        }
      ]
    },
    {
      "cell_type": "markdown",
      "metadata": {
        "id": "qxAJtTZ4hEtv"
      },
      "source": [
        "From a common sense perspective, the most predictive factor for a room's price is the `room_type` column, so let's visualize how price varies by room type with `sns.boxplot()` which displays the following information:\n",
        "\n",
        "\n",
        "<p align=\"center\">\n",
        "<img src=\"https://github.com/adelnehme/cleaning-data-in-python-live-training/blob/master/boxplot.png?raw=true\" alt = \"DataCamp icon\" width=\"80%\">\n",
        "</p>\n",
        "\n",
        "\n"
      ]
    },
    {
      "cell_type": "code",
      "metadata": {
        "id": "CdHj-mMDtgRE",
        "colab": {
          "base_uri": "https://localhost:8080/",
          "height": 375
        },
        "outputId": "a3f36478-3a6c-4a64-c638-65529203cb81"
      },
      "source": [
        "# Visualize relationship between price and room_type\n",
        "sns.boxplot(x = 'room_type', y = 'price', data = airbnb)\n",
        "plt.ylim(0, 400)\n",
        "plt.xlabel('Room Type')\n",
        "plt.ylabel('Price')\n",
        "plt.show()"
      ],
      "execution_count": null,
      "outputs": [
        {
          "output_type": "error",
          "ename": "TypeError",
          "evalue": "ignored",
          "traceback": [
            "\u001b[0;31m---------------------------------------------------------------------------\u001b[0m",
            "\u001b[0;31mTypeError\u001b[0m                                 Traceback (most recent call last)",
            "\u001b[0;32m<ipython-input-24-e2c11c633857>\u001b[0m in \u001b[0;36m<module>\u001b[0;34m()\u001b[0m\n\u001b[1;32m      1\u001b[0m \u001b[0;31m# Visualize relationship between price and room_type\u001b[0m\u001b[0;34m\u001b[0m\u001b[0;34m\u001b[0m\u001b[0;34m\u001b[0m\u001b[0m\n\u001b[0;32m----> 2\u001b[0;31m \u001b[0msns\u001b[0m\u001b[0;34m.\u001b[0m\u001b[0mboxplot\u001b[0m\u001b[0;34m(\u001b[0m\u001b[0mx\u001b[0m \u001b[0;34m=\u001b[0m \u001b[0;34m'room_type'\u001b[0m\u001b[0;34m,\u001b[0m \u001b[0my\u001b[0m \u001b[0;34m=\u001b[0m \u001b[0;34m'price'\u001b[0m\u001b[0;34m,\u001b[0m \u001b[0mdata\u001b[0m \u001b[0;34m=\u001b[0m \u001b[0mairbnb\u001b[0m\u001b[0;34m)\u001b[0m\u001b[0;34m\u001b[0m\u001b[0;34m\u001b[0m\u001b[0m\n\u001b[0m\u001b[1;32m      3\u001b[0m \u001b[0mplt\u001b[0m\u001b[0;34m.\u001b[0m\u001b[0mylim\u001b[0m\u001b[0;34m(\u001b[0m\u001b[0;36m0\u001b[0m\u001b[0;34m,\u001b[0m \u001b[0;36m400\u001b[0m\u001b[0;34m)\u001b[0m\u001b[0;34m\u001b[0m\u001b[0;34m\u001b[0m\u001b[0m\n\u001b[1;32m      4\u001b[0m \u001b[0mplt\u001b[0m\u001b[0;34m.\u001b[0m\u001b[0mxlabel\u001b[0m\u001b[0;34m(\u001b[0m\u001b[0;34m'Room Type'\u001b[0m\u001b[0;34m)\u001b[0m\u001b[0;34m\u001b[0m\u001b[0;34m\u001b[0m\u001b[0m\n\u001b[1;32m      5\u001b[0m \u001b[0mplt\u001b[0m\u001b[0;34m.\u001b[0m\u001b[0mylabel\u001b[0m\u001b[0;34m(\u001b[0m\u001b[0;34m'Price'\u001b[0m\u001b[0;34m)\u001b[0m\u001b[0;34m\u001b[0m\u001b[0;34m\u001b[0m\u001b[0m\n",
            "\u001b[0;32m/usr/local/lib/python3.7/dist-packages/seaborn/_decorators.py\u001b[0m in \u001b[0;36minner_f\u001b[0;34m(*args, **kwargs)\u001b[0m\n\u001b[1;32m     44\u001b[0m             )\n\u001b[1;32m     45\u001b[0m         \u001b[0mkwargs\u001b[0m\u001b[0;34m.\u001b[0m\u001b[0mupdate\u001b[0m\u001b[0;34m(\u001b[0m\u001b[0;34m{\u001b[0m\u001b[0mk\u001b[0m\u001b[0;34m:\u001b[0m \u001b[0marg\u001b[0m \u001b[0;32mfor\u001b[0m \u001b[0mk\u001b[0m\u001b[0;34m,\u001b[0m \u001b[0marg\u001b[0m \u001b[0;32min\u001b[0m \u001b[0mzip\u001b[0m\u001b[0;34m(\u001b[0m\u001b[0msig\u001b[0m\u001b[0;34m.\u001b[0m\u001b[0mparameters\u001b[0m\u001b[0;34m,\u001b[0m \u001b[0margs\u001b[0m\u001b[0;34m)\u001b[0m\u001b[0;34m}\u001b[0m\u001b[0;34m)\u001b[0m\u001b[0;34m\u001b[0m\u001b[0;34m\u001b[0m\u001b[0m\n\u001b[0;32m---> 46\u001b[0;31m         \u001b[0;32mreturn\u001b[0m \u001b[0mf\u001b[0m\u001b[0;34m(\u001b[0m\u001b[0;34m**\u001b[0m\u001b[0mkwargs\u001b[0m\u001b[0;34m)\u001b[0m\u001b[0;34m\u001b[0m\u001b[0;34m\u001b[0m\u001b[0m\n\u001b[0m\u001b[1;32m     47\u001b[0m     \u001b[0;32mreturn\u001b[0m \u001b[0minner_f\u001b[0m\u001b[0;34m\u001b[0m\u001b[0;34m\u001b[0m\u001b[0m\n\u001b[1;32m     48\u001b[0m \u001b[0;34m\u001b[0m\u001b[0m\n",
            "\u001b[0;32m/usr/local/lib/python3.7/dist-packages/seaborn/categorical.py\u001b[0m in \u001b[0;36mboxplot\u001b[0;34m(x, y, hue, data, order, hue_order, orient, color, palette, saturation, width, dodge, fliersize, linewidth, whis, ax, **kwargs)\u001b[0m\n\u001b[1;32m   2240\u001b[0m     plotter = _BoxPlotter(x, y, hue, data, order, hue_order,\n\u001b[1;32m   2241\u001b[0m                           \u001b[0morient\u001b[0m\u001b[0;34m,\u001b[0m \u001b[0mcolor\u001b[0m\u001b[0;34m,\u001b[0m \u001b[0mpalette\u001b[0m\u001b[0;34m,\u001b[0m \u001b[0msaturation\u001b[0m\u001b[0;34m,\u001b[0m\u001b[0;34m\u001b[0m\u001b[0;34m\u001b[0m\u001b[0m\n\u001b[0;32m-> 2242\u001b[0;31m                           width, dodge, fliersize, linewidth)\n\u001b[0m\u001b[1;32m   2243\u001b[0m \u001b[0;34m\u001b[0m\u001b[0m\n\u001b[1;32m   2244\u001b[0m     \u001b[0;32mif\u001b[0m \u001b[0max\u001b[0m \u001b[0;32mis\u001b[0m \u001b[0;32mNone\u001b[0m\u001b[0;34m:\u001b[0m\u001b[0;34m\u001b[0m\u001b[0;34m\u001b[0m\u001b[0m\n",
            "\u001b[0;32m/usr/local/lib/python3.7/dist-packages/seaborn/categorical.py\u001b[0m in \u001b[0;36m__init__\u001b[0;34m(self, x, y, hue, data, order, hue_order, orient, color, palette, saturation, width, dodge, fliersize, linewidth)\u001b[0m\n\u001b[1;32m    404\u001b[0m                  width, dodge, fliersize, linewidth):\n\u001b[1;32m    405\u001b[0m \u001b[0;34m\u001b[0m\u001b[0m\n\u001b[0;32m--> 406\u001b[0;31m         \u001b[0mself\u001b[0m\u001b[0;34m.\u001b[0m\u001b[0mestablish_variables\u001b[0m\u001b[0;34m(\u001b[0m\u001b[0mx\u001b[0m\u001b[0;34m,\u001b[0m \u001b[0my\u001b[0m\u001b[0;34m,\u001b[0m \u001b[0mhue\u001b[0m\u001b[0;34m,\u001b[0m \u001b[0mdata\u001b[0m\u001b[0;34m,\u001b[0m \u001b[0morient\u001b[0m\u001b[0;34m,\u001b[0m \u001b[0morder\u001b[0m\u001b[0;34m,\u001b[0m \u001b[0mhue_order\u001b[0m\u001b[0;34m)\u001b[0m\u001b[0;34m\u001b[0m\u001b[0;34m\u001b[0m\u001b[0m\n\u001b[0m\u001b[1;32m    407\u001b[0m         \u001b[0mself\u001b[0m\u001b[0;34m.\u001b[0m\u001b[0mestablish_colors\u001b[0m\u001b[0;34m(\u001b[0m\u001b[0mcolor\u001b[0m\u001b[0;34m,\u001b[0m \u001b[0mpalette\u001b[0m\u001b[0;34m,\u001b[0m \u001b[0msaturation\u001b[0m\u001b[0;34m)\u001b[0m\u001b[0;34m\u001b[0m\u001b[0;34m\u001b[0m\u001b[0m\n\u001b[1;32m    408\u001b[0m \u001b[0;34m\u001b[0m\u001b[0m\n",
            "\u001b[0;32m/usr/local/lib/python3.7/dist-packages/seaborn/categorical.py\u001b[0m in \u001b[0;36mestablish_variables\u001b[0;34m(self, x, y, hue, data, orient, order, hue_order, units)\u001b[0m\n\u001b[1;32m    155\u001b[0m             \u001b[0;31m# Figure out the plotting orientation\u001b[0m\u001b[0;34m\u001b[0m\u001b[0;34m\u001b[0m\u001b[0;34m\u001b[0m\u001b[0m\n\u001b[1;32m    156\u001b[0m             orient = infer_orient(\n\u001b[0;32m--> 157\u001b[0;31m                 \u001b[0mx\u001b[0m\u001b[0;34m,\u001b[0m \u001b[0my\u001b[0m\u001b[0;34m,\u001b[0m \u001b[0morient\u001b[0m\u001b[0;34m,\u001b[0m \u001b[0mrequire_numeric\u001b[0m\u001b[0;34m=\u001b[0m\u001b[0mself\u001b[0m\u001b[0;34m.\u001b[0m\u001b[0mrequire_numeric\u001b[0m\u001b[0;34m\u001b[0m\u001b[0;34m\u001b[0m\u001b[0m\n\u001b[0m\u001b[1;32m    158\u001b[0m             )\n\u001b[1;32m    159\u001b[0m \u001b[0;34m\u001b[0m\u001b[0m\n",
            "\u001b[0;32m/usr/local/lib/python3.7/dist-packages/seaborn/_core.py\u001b[0m in \u001b[0;36minfer_orient\u001b[0;34m(x, y, orient, require_numeric)\u001b[0m\n\u001b[1;32m   1343\u001b[0m     \u001b[0;32melif\u001b[0m \u001b[0mrequire_numeric\u001b[0m \u001b[0;32mand\u001b[0m \u001b[0;34m\"numeric\"\u001b[0m \u001b[0;32mnot\u001b[0m \u001b[0;32min\u001b[0m \u001b[0;34m(\u001b[0m\u001b[0mx_type\u001b[0m\u001b[0;34m,\u001b[0m \u001b[0my_type\u001b[0m\u001b[0;34m)\u001b[0m\u001b[0;34m:\u001b[0m\u001b[0;34m\u001b[0m\u001b[0;34m\u001b[0m\u001b[0m\n\u001b[1;32m   1344\u001b[0m         \u001b[0merr\u001b[0m \u001b[0;34m=\u001b[0m \u001b[0;34m\"Neither the `x` nor `y` variable appears to be numeric.\"\u001b[0m\u001b[0;34m\u001b[0m\u001b[0;34m\u001b[0m\u001b[0m\n\u001b[0;32m-> 1345\u001b[0;31m         \u001b[0;32mraise\u001b[0m \u001b[0mTypeError\u001b[0m\u001b[0;34m(\u001b[0m\u001b[0merr\u001b[0m\u001b[0;34m)\u001b[0m\u001b[0;34m\u001b[0m\u001b[0;34m\u001b[0m\u001b[0m\n\u001b[0m\u001b[1;32m   1346\u001b[0m \u001b[0;34m\u001b[0m\u001b[0m\n\u001b[1;32m   1347\u001b[0m     \u001b[0;32melse\u001b[0m\u001b[0;34m:\u001b[0m\u001b[0;34m\u001b[0m\u001b[0;34m\u001b[0m\u001b[0m\n",
            "\u001b[0;31mTypeError\u001b[0m: Neither the `x` nor `y` variable appears to be numeric."
          ]
        }
      ]
    },
    {
      "cell_type": "code",
      "metadata": {
        "id": "GzAmpxWzsqRb"
      },
      "source": [
        "# Get median price per room_type\n",
        "airbnb.groupby('room_type').median()['price']"
      ],
      "execution_count": null,
      "outputs": []
    },
    {
      "cell_type": "code",
      "metadata": {
        "id": "AmaKYXPRypq7"
      },
      "source": [
        "# Impute price based on conditions\n",
        "airbnb.loc[(airbnb['price'].isna()) & (airbnb['room_type'] == 'Entire place'), 'price'] = 163.0\n",
        "airbnb.loc[(airbnb['price'].isna()) & (airbnb['room_type'] == 'Private Room'), 'price'] = 70.0\n",
        "airbnb.loc[(airbnb['price'].isna()) & (airbnb['room_type'] == 'Shared Room'), 'price'] = 50.0"
      ],
      "execution_count": null,
      "outputs": []
    },
    {
      "cell_type": "code",
      "metadata": {
        "id": "bTJafaijzDkc"
      },
      "source": [
        "# Confirm price has been imputed\n",
        "airbnb.isna().sum()"
      ],
      "execution_count": null,
      "outputs": []
    },
    {
      "cell_type": "markdown",
      "metadata": {
        "id": "VnxYYabO0Bdt"
      },
      "source": [
        "### What's still to be done?"
      ]
    },
    {
      "cell_type": "markdown",
      "metadata": {
        "id": "q2cyXCxk0VP3"
      },
      "source": [
        "Albeit we've done a significant amount of data cleaning tasks, there are still a couple of problems we have yet to diagnose. When cleaning data, we need to consider:\n",
        "\n",
        "- Values that do not make any sense *(for example: are there values of `last_review` that older than `listing_added`? Are there listings in the future?*)\n",
        "- Presence of duplicates values - and how to deal with them?"
      ]
    },
    {
      "cell_type": "markdown",
      "metadata": {
        "id": "KGpasg3L6Je4"
      },
      "source": [
        "##### **Task 8:** Do we have consistent date data?"
      ]
    },
    {
      "cell_type": "code",
      "metadata": {
        "id": "jT_hz8Dj0EhB"
      },
      "source": [
        "# Doing some sanity checks on date data\n",
        "today = dt.date.today()"
      ],
      "execution_count": null,
      "outputs": []
    },
    {
      "cell_type": "code",
      "metadata": {
        "id": "pUKi4Dbi27Zb",
        "colab": {
          "base_uri": "https://localhost:8080/",
          "height": 69
        },
        "outputId": "a34f2e24-1ae0-42ce-f779-437549f1dce8"
      },
      "source": [
        "# Are there reviews in the future?\n",
        "airbnb[airbnb['last_review'].dt.date > today]"
      ],
      "execution_count": null,
      "outputs": [
        {
          "output_type": "execute_result",
          "data": {
            "text/html": [
              "<div>\n",
              "<style scoped>\n",
              "    .dataframe tbody tr th:only-of-type {\n",
              "        vertical-align: middle;\n",
              "    }\n",
              "\n",
              "    .dataframe tbody tr th {\n",
              "        vertical-align: top;\n",
              "    }\n",
              "\n",
              "    .dataframe thead th {\n",
              "        text-align: right;\n",
              "    }\n",
              "</style>\n",
              "<table border=\"1\" class=\"dataframe\">\n",
              "  <thead>\n",
              "    <tr style=\"text-align: right;\">\n",
              "      <th></th>\n",
              "      <th>listing_id</th>\n",
              "      <th>name</th>\n",
              "      <th>host_id</th>\n",
              "      <th>host_name</th>\n",
              "      <th>room_type</th>\n",
              "      <th>price</th>\n",
              "      <th>number_of_reviews</th>\n",
              "      <th>last_review</th>\n",
              "      <th>reviews_per_month</th>\n",
              "      <th>availability_365</th>\n",
              "      <th>rating</th>\n",
              "      <th>number_of_stays</th>\n",
              "      <th>5_stars</th>\n",
              "      <th>listing_added</th>\n",
              "      <th>latitude</th>\n",
              "      <th>longitude</th>\n",
              "      <th>borough</th>\n",
              "      <th>neighbourhood</th>\n",
              "      <th>is_rated</th>\n",
              "    </tr>\n",
              "  </thead>\n",
              "  <tbody>\n",
              "  </tbody>\n",
              "</table>\n",
              "</div>"
            ],
            "text/plain": [
              "Empty DataFrame\n",
              "Columns: [listing_id, name, host_id, host_name, room_type, price, number_of_reviews, last_review, reviews_per_month, availability_365, rating, number_of_stays, 5_stars, listing_added, latitude, longitude, borough, neighbourhood, is_rated]\n",
              "Index: []"
            ]
          },
          "metadata": {
            "tags": []
          },
          "execution_count": 55
        }
      ]
    },
    {
      "cell_type": "code",
      "metadata": {
        "id": "dZO_yoOZ2-jf",
        "colab": {
          "base_uri": "https://localhost:8080/",
          "height": 499
        },
        "outputId": "44ea0a3e-dbec-49fd-c004-27fe8d14ada4"
      },
      "source": [
        "# Are there listings in the future?\n",
        "airbnb[airbnb['listing_added'].dt.date > today]"
      ],
      "execution_count": null,
      "outputs": [
        {
          "output_type": "execute_result",
          "data": {
            "text/html": [
              "<div>\n",
              "<style scoped>\n",
              "    .dataframe tbody tr th:only-of-type {\n",
              "        vertical-align: middle;\n",
              "    }\n",
              "\n",
              "    .dataframe tbody tr th {\n",
              "        vertical-align: top;\n",
              "    }\n",
              "\n",
              "    .dataframe thead th {\n",
              "        text-align: right;\n",
              "    }\n",
              "</style>\n",
              "<table border=\"1\" class=\"dataframe\">\n",
              "  <thead>\n",
              "    <tr style=\"text-align: right;\">\n",
              "      <th></th>\n",
              "      <th>listing_id</th>\n",
              "      <th>name</th>\n",
              "      <th>host_id</th>\n",
              "      <th>host_name</th>\n",
              "      <th>room_type</th>\n",
              "      <th>price</th>\n",
              "      <th>number_of_reviews</th>\n",
              "      <th>last_review</th>\n",
              "      <th>reviews_per_month</th>\n",
              "      <th>availability_365</th>\n",
              "      <th>rating</th>\n",
              "      <th>number_of_stays</th>\n",
              "      <th>5_stars</th>\n",
              "      <th>listing_added</th>\n",
              "      <th>latitude</th>\n",
              "      <th>longitude</th>\n",
              "      <th>borough</th>\n",
              "      <th>neighbourhood</th>\n",
              "      <th>is_rated</th>\n",
              "    </tr>\n",
              "  </thead>\n",
              "  <tbody>\n",
              "    <tr>\n",
              "      <th>4</th>\n",
              "      <td>22986519</td>\n",
              "      <td>Bedroom on the lively Lower East Side</td>\n",
              "      <td>154262349</td>\n",
              "      <td>Brooke</td>\n",
              "      <td>Private Room</td>\n",
              "      <td>160.0</td>\n",
              "      <td>23</td>\n",
              "      <td>2019-06-12</td>\n",
              "      <td>2.29</td>\n",
              "      <td>102</td>\n",
              "      <td>3.822591</td>\n",
              "      <td>27.6</td>\n",
              "      <td>0.649383</td>\n",
              "      <td>2020-10-23</td>\n",
              "      <td>40.71884</td>\n",
              "      <td>-73.98354</td>\n",
              "      <td>Manhattan</td>\n",
              "      <td>Lower East Side</td>\n",
              "      <td>1</td>\n",
              "    </tr>\n",
              "    <tr>\n",
              "      <th>124</th>\n",
              "      <td>28659894</td>\n",
              "      <td>Private bedroom in prime Bushwick! Near Trains!!!</td>\n",
              "      <td>216235179</td>\n",
              "      <td>Nina</td>\n",
              "      <td>Private Room</td>\n",
              "      <td>55.0</td>\n",
              "      <td>4</td>\n",
              "      <td>2019-04-12</td>\n",
              "      <td>0.58</td>\n",
              "      <td>358</td>\n",
              "      <td>4.916252</td>\n",
              "      <td>4.8</td>\n",
              "      <td>0.703117</td>\n",
              "      <td>2020-08-23</td>\n",
              "      <td>40.69988</td>\n",
              "      <td>-73.92072</td>\n",
              "      <td>Brooklyn</td>\n",
              "      <td>Bushwick</td>\n",
              "      <td>1</td>\n",
              "    </tr>\n",
              "    <tr>\n",
              "      <th>511</th>\n",
              "      <td>33619855</td>\n",
              "      <td>Modern &amp; Spacious in trendy Crown Heights</td>\n",
              "      <td>253354074</td>\n",
              "      <td>Yehudis</td>\n",
              "      <td>Entire place</td>\n",
              "      <td>150.0</td>\n",
              "      <td>6</td>\n",
              "      <td>2019-05-27</td>\n",
              "      <td>2.50</td>\n",
              "      <td>148</td>\n",
              "      <td>3.462432</td>\n",
              "      <td>7.2</td>\n",
              "      <td>0.610929</td>\n",
              "      <td>2020-10-07</td>\n",
              "      <td>40.66387</td>\n",
              "      <td>-73.93840</td>\n",
              "      <td>Brooklyn</td>\n",
              "      <td>Crown Heights</td>\n",
              "      <td>1</td>\n",
              "    </tr>\n",
              "    <tr>\n",
              "      <th>521</th>\n",
              "      <td>25317793</td>\n",
              "      <td>Awesome Cozy Room in The Heart of Sunnyside!</td>\n",
              "      <td>136406167</td>\n",
              "      <td>Kara</td>\n",
              "      <td>Private Room</td>\n",
              "      <td>65.0</td>\n",
              "      <td>22</td>\n",
              "      <td>2019-06-11</td>\n",
              "      <td>1.63</td>\n",
              "      <td>131</td>\n",
              "      <td>4.442485</td>\n",
              "      <td>26.4</td>\n",
              "      <td>0.722388</td>\n",
              "      <td>2020-10-22</td>\n",
              "      <td>40.74090</td>\n",
              "      <td>-73.92696</td>\n",
              "      <td>Queens</td>\n",
              "      <td>Sunnyside</td>\n",
              "      <td>1</td>\n",
              "    </tr>\n",
              "  </tbody>\n",
              "</table>\n",
              "</div>"
            ],
            "text/plain": [
              "     listing_id  ... is_rated\n",
              "4      22986519  ...        1\n",
              "124    28659894  ...        1\n",
              "511    33619855  ...        1\n",
              "521    25317793  ...        1\n",
              "\n",
              "[4 rows x 19 columns]"
            ]
          },
          "metadata": {
            "tags": []
          },
          "execution_count": 56
        }
      ]
    },
    {
      "cell_type": "code",
      "metadata": {
        "id": "3xJUlJFm3cmc"
      },
      "source": [
        "# Drop these rows since they are only 4 rows\n",
        "airbnb = airbnb[~(airbnb['listing_added'].dt.date > today)]"
      ],
      "execution_count": null,
      "outputs": []
    },
    {
      "cell_type": "code",
      "metadata": {
        "id": "BvqMxmux4e_Q",
        "colab": {
          "base_uri": "https://localhost:8080/",
          "height": 250
        },
        "outputId": "acda368c-0aaf-4ea2-fce3-583502a1a4d1"
      },
      "source": [
        "# Are there any listings with listing_added > last_review\n",
        "inconsistent_dates = airbnb[airbnb['listing_added'].dt.date > airbnb['last_review'].dt.date]\n",
        "inconsistent_dates"
      ],
      "execution_count": null,
      "outputs": [
        {
          "output_type": "execute_result",
          "data": {
            "text/html": [
              "<div>\n",
              "<style scoped>\n",
              "    .dataframe tbody tr th:only-of-type {\n",
              "        vertical-align: middle;\n",
              "    }\n",
              "\n",
              "    .dataframe tbody tr th {\n",
              "        vertical-align: top;\n",
              "    }\n",
              "\n",
              "    .dataframe thead th {\n",
              "        text-align: right;\n",
              "    }\n",
              "</style>\n",
              "<table border=\"1\" class=\"dataframe\">\n",
              "  <thead>\n",
              "    <tr style=\"text-align: right;\">\n",
              "      <th></th>\n",
              "      <th>listing_id</th>\n",
              "      <th>name</th>\n",
              "      <th>host_id</th>\n",
              "      <th>host_name</th>\n",
              "      <th>room_type</th>\n",
              "      <th>price</th>\n",
              "      <th>number_of_reviews</th>\n",
              "      <th>last_review</th>\n",
              "      <th>reviews_per_month</th>\n",
              "      <th>availability_365</th>\n",
              "      <th>rating</th>\n",
              "      <th>number_of_stays</th>\n",
              "      <th>5_stars</th>\n",
              "      <th>listing_added</th>\n",
              "      <th>latitude</th>\n",
              "      <th>longitude</th>\n",
              "      <th>borough</th>\n",
              "      <th>neighbourhood</th>\n",
              "      <th>is_rated</th>\n",
              "    </tr>\n",
              "  </thead>\n",
              "  <tbody>\n",
              "    <tr>\n",
              "      <th>50</th>\n",
              "      <td>20783900</td>\n",
              "      <td>Marvelous Manhattan Marble Hill Private Suites</td>\n",
              "      <td>148960265</td>\n",
              "      <td>Randy</td>\n",
              "      <td>Private Room</td>\n",
              "      <td>93.0</td>\n",
              "      <td>7</td>\n",
              "      <td>2018-10-06</td>\n",
              "      <td>0.32</td>\n",
              "      <td>0</td>\n",
              "      <td>4.868036</td>\n",
              "      <td>8.4</td>\n",
              "      <td>0.609263</td>\n",
              "      <td>2020-02-17</td>\n",
              "      <td>40.87618</td>\n",
              "      <td>-73.91266</td>\n",
              "      <td>Manhattan</td>\n",
              "      <td>Marble Hill</td>\n",
              "      <td>1</td>\n",
              "    </tr>\n",
              "    <tr>\n",
              "      <th>60</th>\n",
              "      <td>1908852</td>\n",
              "      <td>Oversized Studio By Columbus Circle</td>\n",
              "      <td>684629</td>\n",
              "      <td>Alana</td>\n",
              "      <td>Entire place</td>\n",
              "      <td>189.0</td>\n",
              "      <td>7</td>\n",
              "      <td>2016-05-06</td>\n",
              "      <td>0.13</td>\n",
              "      <td>0</td>\n",
              "      <td>4.841204</td>\n",
              "      <td>8.4</td>\n",
              "      <td>0.725995</td>\n",
              "      <td>2017-09-17</td>\n",
              "      <td>40.77060</td>\n",
              "      <td>-73.98919</td>\n",
              "      <td>Manhattan</td>\n",
              "      <td>Upper West Side</td>\n",
              "      <td>1</td>\n",
              "    </tr>\n",
              "  </tbody>\n",
              "</table>\n",
              "</div>"
            ],
            "text/plain": [
              "    listing_id  ... is_rated\n",
              "50    20783900  ...        1\n",
              "60     1908852  ...        1\n",
              "\n",
              "[2 rows x 19 columns]"
            ]
          },
          "metadata": {
            "tags": []
          },
          "execution_count": 58
        }
      ]
    },
    {
      "cell_type": "code",
      "metadata": {
        "id": "cCziTT7T4xbT"
      },
      "source": [
        "# Drop these rows since they are only 2 rows\n",
        "airbnb.drop(inconsistent_dates.index, inplace = True)"
      ],
      "execution_count": null,
      "outputs": []
    },
    {
      "cell_type": "markdown",
      "metadata": {
        "id": "JD1ChXPF6BR7"
      },
      "source": [
        "##### **Task 9:** Let's deal with duplicate data"
      ]
    },
    {
      "cell_type": "markdown",
      "metadata": {
        "id": "hz9oQHyt8KmO"
      },
      "source": [
        "\n",
        "There are two notable types of duplicate data:\n",
        "\n",
        "- Identical duplicate data across all columns\n",
        "- Identical duplicate data cross most or some columns\n",
        "\n",
        "To diagnose, and deal with duplicate data, we will be using the following methods and functions:\n",
        "\n",
        "- `.duplicated(subset = , keep = )`\n",
        "  - `subset` lets us pick one or more columns with duplicate values.\n",
        "  - `keep` returns lets us return all instances of duplicate values.\n",
        "- `.drop_duplicates(subset = , keep = )`\n",
        "  "
      ]
    },
    {
      "cell_type": "code",
      "metadata": {
        "id": "_m3Gdg7x6ATJ",
        "colab": {
          "base_uri": "https://localhost:8080/",
          "height": 462
        },
        "outputId": "d66e76c5-0d10-4b8b-ded5-f0299630652e"
      },
      "source": [
        "# Print the header of the DataFrame again\n",
        "airbnb.head()"
      ],
      "execution_count": null,
      "outputs": [
        {
          "output_type": "execute_result",
          "data": {
            "text/html": [
              "<div>\n",
              "<style scoped>\n",
              "    .dataframe tbody tr th:only-of-type {\n",
              "        vertical-align: middle;\n",
              "    }\n",
              "\n",
              "    .dataframe tbody tr th {\n",
              "        vertical-align: top;\n",
              "    }\n",
              "\n",
              "    .dataframe thead th {\n",
              "        text-align: right;\n",
              "    }\n",
              "</style>\n",
              "<table border=\"1\" class=\"dataframe\">\n",
              "  <thead>\n",
              "    <tr style=\"text-align: right;\">\n",
              "      <th></th>\n",
              "      <th>listing_id</th>\n",
              "      <th>name</th>\n",
              "      <th>host_id</th>\n",
              "      <th>host_name</th>\n",
              "      <th>room_type</th>\n",
              "      <th>price</th>\n",
              "      <th>number_of_reviews</th>\n",
              "      <th>last_review</th>\n",
              "      <th>reviews_per_month</th>\n",
              "      <th>availability_365</th>\n",
              "      <th>rating</th>\n",
              "      <th>number_of_stays</th>\n",
              "      <th>5_stars</th>\n",
              "      <th>listing_added</th>\n",
              "      <th>latitude</th>\n",
              "      <th>longitude</th>\n",
              "      <th>borough</th>\n",
              "      <th>neighbourhood</th>\n",
              "      <th>is_rated</th>\n",
              "    </tr>\n",
              "  </thead>\n",
              "  <tbody>\n",
              "    <tr>\n",
              "      <th>0</th>\n",
              "      <td>13740704</td>\n",
              "      <td>Cozy,budget friendly, cable inc, private entra...</td>\n",
              "      <td>20583125</td>\n",
              "      <td>Michel</td>\n",
              "      <td>Private Room</td>\n",
              "      <td>45.0</td>\n",
              "      <td>10</td>\n",
              "      <td>2018-12-12</td>\n",
              "      <td>0.70</td>\n",
              "      <td>85</td>\n",
              "      <td>4.100954</td>\n",
              "      <td>12.0</td>\n",
              "      <td>0.609432</td>\n",
              "      <td>2018-06-08</td>\n",
              "      <td>40.63222</td>\n",
              "      <td>-73.93398</td>\n",
              "      <td>Brooklyn</td>\n",
              "      <td>Flatlands</td>\n",
              "      <td>1</td>\n",
              "    </tr>\n",
              "    <tr>\n",
              "      <th>1</th>\n",
              "      <td>22005115</td>\n",
              "      <td>Two floor apartment near Central Park</td>\n",
              "      <td>82746113</td>\n",
              "      <td>Cecilia</td>\n",
              "      <td>Entire place</td>\n",
              "      <td>135.0</td>\n",
              "      <td>1</td>\n",
              "      <td>2019-06-30</td>\n",
              "      <td>1.00</td>\n",
              "      <td>145</td>\n",
              "      <td>3.367600</td>\n",
              "      <td>1.2</td>\n",
              "      <td>0.746135</td>\n",
              "      <td>2018-12-25</td>\n",
              "      <td>40.78761</td>\n",
              "      <td>-73.96862</td>\n",
              "      <td>Manhattan</td>\n",
              "      <td>Upper West Side</td>\n",
              "      <td>1</td>\n",
              "    </tr>\n",
              "    <tr>\n",
              "      <th>2</th>\n",
              "      <td>21667615</td>\n",
              "      <td>Beautiful 1BR in Brooklyn Heights</td>\n",
              "      <td>78251</td>\n",
              "      <td>Leslie</td>\n",
              "      <td>Entire place</td>\n",
              "      <td>150.0</td>\n",
              "      <td>0</td>\n",
              "      <td>NaT</td>\n",
              "      <td>0.00</td>\n",
              "      <td>65</td>\n",
              "      <td>NaN</td>\n",
              "      <td>0.0</td>\n",
              "      <td>0.000000</td>\n",
              "      <td>2018-08-15</td>\n",
              "      <td>40.70070</td>\n",
              "      <td>-73.99517</td>\n",
              "      <td>Brooklyn</td>\n",
              "      <td>Brooklyn Heights</td>\n",
              "      <td>0</td>\n",
              "    </tr>\n",
              "    <tr>\n",
              "      <th>3</th>\n",
              "      <td>6425850</td>\n",
              "      <td>Spacious, charming studio</td>\n",
              "      <td>32715865</td>\n",
              "      <td>Yelena</td>\n",
              "      <td>Entire place</td>\n",
              "      <td>86.0</td>\n",
              "      <td>5</td>\n",
              "      <td>2017-09-23</td>\n",
              "      <td>0.13</td>\n",
              "      <td>0</td>\n",
              "      <td>4.763203</td>\n",
              "      <td>6.0</td>\n",
              "      <td>0.769947</td>\n",
              "      <td>2017-03-20</td>\n",
              "      <td>40.79169</td>\n",
              "      <td>-73.97498</td>\n",
              "      <td>Manhattan</td>\n",
              "      <td>Upper West Side</td>\n",
              "      <td>1</td>\n",
              "    </tr>\n",
              "    <tr>\n",
              "      <th>5</th>\n",
              "      <td>271954</td>\n",
              "      <td>Beautiful brownstone apartment</td>\n",
              "      <td>1423798</td>\n",
              "      <td>Aj</td>\n",
              "      <td>Entire place</td>\n",
              "      <td>150.0</td>\n",
              "      <td>203</td>\n",
              "      <td>2019-06-20</td>\n",
              "      <td>2.22</td>\n",
              "      <td>300</td>\n",
              "      <td>4.478396</td>\n",
              "      <td>243.6</td>\n",
              "      <td>0.743500</td>\n",
              "      <td>2018-12-15</td>\n",
              "      <td>40.73388</td>\n",
              "      <td>-73.99452</td>\n",
              "      <td>Manhattan</td>\n",
              "      <td>Greenwich Village</td>\n",
              "      <td>1</td>\n",
              "    </tr>\n",
              "  </tbody>\n",
              "</table>\n",
              "</div>"
            ],
            "text/plain": [
              "   listing_id  ... is_rated\n",
              "0    13740704  ...        1\n",
              "1    22005115  ...        1\n",
              "2    21667615  ...        0\n",
              "3     6425850  ...        1\n",
              "5      271954  ...        1\n",
              "\n",
              "[5 rows x 19 columns]"
            ]
          },
          "metadata": {
            "tags": []
          },
          "execution_count": 60
        }
      ]
    },
    {
      "cell_type": "code",
      "metadata": {
        "id": "EzT8q3SCIW7w",
        "colab": {
          "base_uri": "https://localhost:8080/",
          "height": 221
        },
        "outputId": "72825341-2a6b-4db3-b32a-ab1a806be314"
      },
      "source": [
        "# Find duplicates\n",
        "duplicates = airbnb.duplicated(subset = 'listing_id', keep = False)\n",
        "print(duplicates)"
      ],
      "execution_count": null,
      "outputs": [
        {
          "output_type": "stream",
          "text": [
            "0        False\n",
            "1        False\n",
            "2        False\n",
            "3        False\n",
            "5        False\n",
            "         ...  \n",
            "10014    False\n",
            "10015    False\n",
            "10016    False\n",
            "10017    False\n",
            "10018    False\n",
            "Length: 10010, dtype: bool\n"
          ],
          "name": "stdout"
        }
      ]
    },
    {
      "cell_type": "code",
      "metadata": {
        "id": "pqVxdea4Ik5g",
        "colab": {
          "base_uri": "https://localhost:8080/",
          "height": 1000
        },
        "outputId": "c7b21e06-1fc6-4466-9bdf-64509d3c5a6a"
      },
      "source": [
        "# Find duplicates\n",
        "airbnb[duplicates].sort_values('listing_id')"
      ],
      "execution_count": null,
      "outputs": [
        {
          "output_type": "execute_result",
          "data": {
            "text/html": [
              "<div>\n",
              "<style scoped>\n",
              "    .dataframe tbody tr th:only-of-type {\n",
              "        vertical-align: middle;\n",
              "    }\n",
              "\n",
              "    .dataframe tbody tr th {\n",
              "        vertical-align: top;\n",
              "    }\n",
              "\n",
              "    .dataframe thead th {\n",
              "        text-align: right;\n",
              "    }\n",
              "</style>\n",
              "<table border=\"1\" class=\"dataframe\">\n",
              "  <thead>\n",
              "    <tr style=\"text-align: right;\">\n",
              "      <th></th>\n",
              "      <th>listing_id</th>\n",
              "      <th>name</th>\n",
              "      <th>host_id</th>\n",
              "      <th>host_name</th>\n",
              "      <th>room_type</th>\n",
              "      <th>price</th>\n",
              "      <th>number_of_reviews</th>\n",
              "      <th>last_review</th>\n",
              "      <th>reviews_per_month</th>\n",
              "      <th>availability_365</th>\n",
              "      <th>rating</th>\n",
              "      <th>number_of_stays</th>\n",
              "      <th>5_stars</th>\n",
              "      <th>listing_added</th>\n",
              "      <th>latitude</th>\n",
              "      <th>longitude</th>\n",
              "      <th>borough</th>\n",
              "      <th>neighbourhood</th>\n",
              "      <th>is_rated</th>\n",
              "    </tr>\n",
              "  </thead>\n",
              "  <tbody>\n",
              "    <tr>\n",
              "      <th>1145</th>\n",
              "      <td>253806</td>\n",
              "      <td>Loft Suite @ The Box House Hotel</td>\n",
              "      <td>417504</td>\n",
              "      <td>The Box House Hotel</td>\n",
              "      <td>Entire place</td>\n",
              "      <td>199.0</td>\n",
              "      <td>43</td>\n",
              "      <td>2019-07-02</td>\n",
              "      <td>0.47</td>\n",
              "      <td>60</td>\n",
              "      <td>4.620238</td>\n",
              "      <td>51.6</td>\n",
              "      <td>0.861086</td>\n",
              "      <td>2018-12-27</td>\n",
              "      <td>40.73652</td>\n",
              "      <td>-73.95236</td>\n",
              "      <td>Brooklyn</td>\n",
              "      <td>Greenpoint</td>\n",
              "      <td>1</td>\n",
              "    </tr>\n",
              "    <tr>\n",
              "      <th>6562</th>\n",
              "      <td>253806</td>\n",
              "      <td>Loft Suite @ The Box House Hotel</td>\n",
              "      <td>417504</td>\n",
              "      <td>The Box House Hotel</td>\n",
              "      <td>Entire place</td>\n",
              "      <td>199.0</td>\n",
              "      <td>43</td>\n",
              "      <td>2019-07-02</td>\n",
              "      <td>0.47</td>\n",
              "      <td>60</td>\n",
              "      <td>4.620238</td>\n",
              "      <td>51.6</td>\n",
              "      <td>0.861086</td>\n",
              "      <td>2018-12-27</td>\n",
              "      <td>40.73652</td>\n",
              "      <td>-73.95236</td>\n",
              "      <td>Brooklyn</td>\n",
              "      <td>Greenpoint</td>\n",
              "      <td>1</td>\n",
              "    </tr>\n",
              "    <tr>\n",
              "      <th>8699</th>\n",
              "      <td>2044392</td>\n",
              "      <td>The heart of Williamsburg 2 bedroom</td>\n",
              "      <td>620218</td>\n",
              "      <td>Sarah</td>\n",
              "      <td>Entire place</td>\n",
              "      <td>245.0</td>\n",
              "      <td>0</td>\n",
              "      <td>NaT</td>\n",
              "      <td>0.00</td>\n",
              "      <td>0</td>\n",
              "      <td>NaN</td>\n",
              "      <td>0.0</td>\n",
              "      <td>0.000000</td>\n",
              "      <td>2018-08-09</td>\n",
              "      <td>40.71257</td>\n",
              "      <td>-73.96149</td>\n",
              "      <td>Brooklyn</td>\n",
              "      <td>Williamsburg</td>\n",
              "      <td>0</td>\n",
              "    </tr>\n",
              "    <tr>\n",
              "      <th>5761</th>\n",
              "      <td>2044392</td>\n",
              "      <td>The heart of Williamsburg 2 bedroom</td>\n",
              "      <td>620218</td>\n",
              "      <td>Sarah</td>\n",
              "      <td>Entire place</td>\n",
              "      <td>250.0</td>\n",
              "      <td>0</td>\n",
              "      <td>NaT</td>\n",
              "      <td>0.00</td>\n",
              "      <td>0</td>\n",
              "      <td>NaN</td>\n",
              "      <td>0.0</td>\n",
              "      <td>0.000000</td>\n",
              "      <td>2018-05-24</td>\n",
              "      <td>40.71257</td>\n",
              "      <td>-73.96149</td>\n",
              "      <td>Brooklyn</td>\n",
              "      <td>Williamsburg</td>\n",
              "      <td>0</td>\n",
              "    </tr>\n",
              "    <tr>\n",
              "      <th>4187</th>\n",
              "      <td>4244242</td>\n",
              "      <td>Best Bedroom in Bedstuy/Bushwick. Ensuite bath...</td>\n",
              "      <td>22023014</td>\n",
              "      <td>BrooklynSleeps</td>\n",
              "      <td>Private Room</td>\n",
              "      <td>73.0</td>\n",
              "      <td>110</td>\n",
              "      <td>2019-06-23</td>\n",
              "      <td>1.96</td>\n",
              "      <td>323</td>\n",
              "      <td>4.962314</td>\n",
              "      <td>132.0</td>\n",
              "      <td>0.809882</td>\n",
              "      <td>2018-12-18</td>\n",
              "      <td>40.69496</td>\n",
              "      <td>-73.93949</td>\n",
              "      <td>Brooklyn</td>\n",
              "      <td>Bedford-Stuyvesant</td>\n",
              "      <td>1</td>\n",
              "    </tr>\n",
              "    <tr>\n",
              "      <th>2871</th>\n",
              "      <td>4244242</td>\n",
              "      <td>Best Bedroom in Bedstuy/Bushwick. Ensuite bath...</td>\n",
              "      <td>22023014</td>\n",
              "      <td>BrooklynSleeps</td>\n",
              "      <td>Private Room</td>\n",
              "      <td>70.0</td>\n",
              "      <td>110</td>\n",
              "      <td>2019-06-23</td>\n",
              "      <td>1.96</td>\n",
              "      <td>323</td>\n",
              "      <td>4.962314</td>\n",
              "      <td>132.0</td>\n",
              "      <td>0.809882</td>\n",
              "      <td>2018-12-18</td>\n",
              "      <td>40.69496</td>\n",
              "      <td>-73.93949</td>\n",
              "      <td>Brooklyn</td>\n",
              "      <td>Bedford-Stuyvesant</td>\n",
              "      <td>1</td>\n",
              "    </tr>\n",
              "    <tr>\n",
              "      <th>77</th>\n",
              "      <td>7319856</td>\n",
              "      <td>450ft Square Studio in Gramercy NY</td>\n",
              "      <td>11773680</td>\n",
              "      <td>Adam</td>\n",
              "      <td>Entire place</td>\n",
              "      <td>289.0</td>\n",
              "      <td>4</td>\n",
              "      <td>2016-05-22</td>\n",
              "      <td>0.09</td>\n",
              "      <td>225</td>\n",
              "      <td>3.903764</td>\n",
              "      <td>4.8</td>\n",
              "      <td>0.756381</td>\n",
              "      <td>2015-11-17</td>\n",
              "      <td>40.73813</td>\n",
              "      <td>-73.98098</td>\n",
              "      <td>Manhattan</td>\n",
              "      <td>Kips Bay</td>\n",
              "      <td>1</td>\n",
              "    </tr>\n",
              "    <tr>\n",
              "      <th>2255</th>\n",
              "      <td>7319856</td>\n",
              "      <td>450ft Square Studio in Gramercy NY</td>\n",
              "      <td>11773680</td>\n",
              "      <td>Adam</td>\n",
              "      <td>Entire place</td>\n",
              "      <td>280.0</td>\n",
              "      <td>4</td>\n",
              "      <td>2016-05-22</td>\n",
              "      <td>0.09</td>\n",
              "      <td>225</td>\n",
              "      <td>3.903764</td>\n",
              "      <td>4.8</td>\n",
              "      <td>0.756381</td>\n",
              "      <td>2015-11-17</td>\n",
              "      <td>40.73813</td>\n",
              "      <td>-73.98098</td>\n",
              "      <td>Manhattan</td>\n",
              "      <td>Kips Bay</td>\n",
              "      <td>1</td>\n",
              "    </tr>\n",
              "    <tr>\n",
              "      <th>555</th>\n",
              "      <td>9078222</td>\n",
              "      <td>Prospect Park 3 bdrm, Sleeps 8 (#2)</td>\n",
              "      <td>47219962</td>\n",
              "      <td>Babajide</td>\n",
              "      <td>Entire place</td>\n",
              "      <td>154.0</td>\n",
              "      <td>123</td>\n",
              "      <td>2019-07-01</td>\n",
              "      <td>2.74</td>\n",
              "      <td>263</td>\n",
              "      <td>3.466881</td>\n",
              "      <td>147.6</td>\n",
              "      <td>0.738191</td>\n",
              "      <td>2018-12-26</td>\n",
              "      <td>40.66086</td>\n",
              "      <td>-73.96159</td>\n",
              "      <td>Brooklyn</td>\n",
              "      <td>Prospect-Lefferts Gardens</td>\n",
              "      <td>1</td>\n",
              "    </tr>\n",
              "    <tr>\n",
              "      <th>7933</th>\n",
              "      <td>9078222</td>\n",
              "      <td>Prospect Park 3 bdrm, Sleeps 8 (#2)</td>\n",
              "      <td>47219962</td>\n",
              "      <td>Babajide</td>\n",
              "      <td>Entire place</td>\n",
              "      <td>150.0</td>\n",
              "      <td>123</td>\n",
              "      <td>2019-07-01</td>\n",
              "      <td>2.74</td>\n",
              "      <td>263</td>\n",
              "      <td>3.466881</td>\n",
              "      <td>147.6</td>\n",
              "      <td>0.738191</td>\n",
              "      <td>2018-12-26</td>\n",
              "      <td>40.66086</td>\n",
              "      <td>-73.96159</td>\n",
              "      <td>Brooklyn</td>\n",
              "      <td>Prospect-Lefferts Gardens</td>\n",
              "      <td>1</td>\n",
              "    </tr>\n",
              "    <tr>\n",
              "      <th>1481</th>\n",
              "      <td>15027024</td>\n",
              "      <td>Newly renovated 1bd on lively &amp; historic St Marks</td>\n",
              "      <td>8344620</td>\n",
              "      <td>Ethan</td>\n",
              "      <td>Entire place</td>\n",
              "      <td>180.0</td>\n",
              "      <td>10</td>\n",
              "      <td>2018-12-31</td>\n",
              "      <td>0.30</td>\n",
              "      <td>0</td>\n",
              "      <td>3.969729</td>\n",
              "      <td>12.0</td>\n",
              "      <td>0.772513</td>\n",
              "      <td>2018-06-27</td>\n",
              "      <td>40.72693</td>\n",
              "      <td>-73.98385</td>\n",
              "      <td>Manhattan</td>\n",
              "      <td>East Village</td>\n",
              "      <td>1</td>\n",
              "    </tr>\n",
              "    <tr>\n",
              "      <th>3430</th>\n",
              "      <td>15027024</td>\n",
              "      <td>Newly renovated 1bd on lively &amp; historic St Marks</td>\n",
              "      <td>8344620</td>\n",
              "      <td>Ethan</td>\n",
              "      <td>Entire place</td>\n",
              "      <td>180.0</td>\n",
              "      <td>10</td>\n",
              "      <td>2018-12-31</td>\n",
              "      <td>0.30</td>\n",
              "      <td>0</td>\n",
              "      <td>3.869729</td>\n",
              "      <td>12.0</td>\n",
              "      <td>0.772513</td>\n",
              "      <td>2018-06-27</td>\n",
              "      <td>40.72693</td>\n",
              "      <td>-73.98385</td>\n",
              "      <td>Manhattan</td>\n",
              "      <td>East Village</td>\n",
              "      <td>1</td>\n",
              "    </tr>\n",
              "    <tr>\n",
              "      <th>3065</th>\n",
              "      <td>16518377</td>\n",
              "      <td>East Village 1BR Apt with all the amenities</td>\n",
              "      <td>3012457</td>\n",
              "      <td>Cody</td>\n",
              "      <td>Entire place</td>\n",
              "      <td>200.0</td>\n",
              "      <td>3</td>\n",
              "      <td>2018-07-10</td>\n",
              "      <td>0.16</td>\n",
              "      <td>0</td>\n",
              "      <td>4.676670</td>\n",
              "      <td>3.6</td>\n",
              "      <td>0.694443</td>\n",
              "      <td>2018-01-04</td>\n",
              "      <td>40.72350</td>\n",
              "      <td>-73.97963</td>\n",
              "      <td>Manhattan</td>\n",
              "      <td>East Village</td>\n",
              "      <td>1</td>\n",
              "    </tr>\n",
              "    <tr>\n",
              "      <th>5397</th>\n",
              "      <td>16518377</td>\n",
              "      <td>East Village 1BR Apt with all the amenities</td>\n",
              "      <td>3012457</td>\n",
              "      <td>Cody</td>\n",
              "      <td>Entire place</td>\n",
              "      <td>200.0</td>\n",
              "      <td>3</td>\n",
              "      <td>2018-07-10</td>\n",
              "      <td>0.16</td>\n",
              "      <td>0</td>\n",
              "      <td>4.676670</td>\n",
              "      <td>3.6</td>\n",
              "      <td>0.694443</td>\n",
              "      <td>2018-01-04</td>\n",
              "      <td>40.72350</td>\n",
              "      <td>-73.97963</td>\n",
              "      <td>Manhattan</td>\n",
              "      <td>East Village</td>\n",
              "      <td>1</td>\n",
              "    </tr>\n",
              "    <tr>\n",
              "      <th>3007</th>\n",
              "      <td>17861841</td>\n",
              "      <td>THE CREATIVE COZY ROOM</td>\n",
              "      <td>47591528</td>\n",
              "      <td>Janessa</td>\n",
              "      <td>Private Room</td>\n",
              "      <td>99.0</td>\n",
              "      <td>13</td>\n",
              "      <td>2019-05-23</td>\n",
              "      <td>0.52</td>\n",
              "      <td>82</td>\n",
              "      <td>4.806590</td>\n",
              "      <td>15.6</td>\n",
              "      <td>0.937422</td>\n",
              "      <td>2018-11-17</td>\n",
              "      <td>40.59211</td>\n",
              "      <td>-73.94127</td>\n",
              "      <td>Brooklyn</td>\n",
              "      <td>Sheepshead Bay</td>\n",
              "      <td>1</td>\n",
              "    </tr>\n",
              "    <tr>\n",
              "      <th>368</th>\n",
              "      <td>17861841</td>\n",
              "      <td>THE CREATIVE COZY ROOM</td>\n",
              "      <td>47591528</td>\n",
              "      <td>Janessa</td>\n",
              "      <td>Private Room</td>\n",
              "      <td>99.0</td>\n",
              "      <td>13</td>\n",
              "      <td>2019-05-23</td>\n",
              "      <td>0.52</td>\n",
              "      <td>82</td>\n",
              "      <td>4.806590</td>\n",
              "      <td>15.6</td>\n",
              "      <td>0.937422</td>\n",
              "      <td>2018-11-17</td>\n",
              "      <td>40.59211</td>\n",
              "      <td>-73.94127</td>\n",
              "      <td>Brooklyn</td>\n",
              "      <td>Sheepshead Bay</td>\n",
              "      <td>1</td>\n",
              "    </tr>\n",
              "    <tr>\n",
              "      <th>6438</th>\n",
              "      <td>19477677</td>\n",
              "      <td>Huge sunny room next to subway!</td>\n",
              "      <td>25038748</td>\n",
              "      <td>Justin</td>\n",
              "      <td>Private Room</td>\n",
              "      <td>70.0</td>\n",
              "      <td>11</td>\n",
              "      <td>2019-05-11</td>\n",
              "      <td>0.45</td>\n",
              "      <td>0</td>\n",
              "      <td>3.074890</td>\n",
              "      <td>13.2</td>\n",
              "      <td>0.631619</td>\n",
              "      <td>2018-11-05</td>\n",
              "      <td>40.82119</td>\n",
              "      <td>-73.95583</td>\n",
              "      <td>Manhattan</td>\n",
              "      <td>Harlem</td>\n",
              "      <td>1</td>\n",
              "    </tr>\n",
              "    <tr>\n",
              "      <th>5251</th>\n",
              "      <td>19477677</td>\n",
              "      <td>Huge sunny room next to subway!</td>\n",
              "      <td>25038748</td>\n",
              "      <td>Justin</td>\n",
              "      <td>Private Room</td>\n",
              "      <td>70.0</td>\n",
              "      <td>11</td>\n",
              "      <td>2019-05-11</td>\n",
              "      <td>0.45</td>\n",
              "      <td>0</td>\n",
              "      <td>3.074890</td>\n",
              "      <td>13.2</td>\n",
              "      <td>0.631619</td>\n",
              "      <td>2018-11-05</td>\n",
              "      <td>40.82119</td>\n",
              "      <td>-73.95583</td>\n",
              "      <td>Manhattan</td>\n",
              "      <td>Harlem</td>\n",
              "      <td>1</td>\n",
              "    </tr>\n",
              "    <tr>\n",
              "      <th>5454</th>\n",
              "      <td>21106251</td>\n",
              "      <td>Private Bedroom in Great Brooklyn Apartment</td>\n",
              "      <td>25354313</td>\n",
              "      <td>Tommy</td>\n",
              "      <td>Private Room</td>\n",
              "      <td>45.0</td>\n",
              "      <td>9</td>\n",
              "      <td>2019-06-22</td>\n",
              "      <td>0.43</td>\n",
              "      <td>0</td>\n",
              "      <td>3.779114</td>\n",
              "      <td>10.8</td>\n",
              "      <td>0.738191</td>\n",
              "      <td>2018-12-17</td>\n",
              "      <td>40.67359</td>\n",
              "      <td>-73.95812</td>\n",
              "      <td>Brooklyn</td>\n",
              "      <td>Crown Heights</td>\n",
              "      <td>1</td>\n",
              "    </tr>\n",
              "    <tr>\n",
              "      <th>6832</th>\n",
              "      <td>21106251</td>\n",
              "      <td>Private Bedroom in Great Brooklyn Apartment</td>\n",
              "      <td>25354313</td>\n",
              "      <td>Tommy</td>\n",
              "      <td>Private Room</td>\n",
              "      <td>45.0</td>\n",
              "      <td>9</td>\n",
              "      <td>2019-06-22</td>\n",
              "      <td>0.43</td>\n",
              "      <td>0</td>\n",
              "      <td>3.779114</td>\n",
              "      <td>10.8</td>\n",
              "      <td>0.738191</td>\n",
              "      <td>2018-12-17</td>\n",
              "      <td>40.67359</td>\n",
              "      <td>-73.95812</td>\n",
              "      <td>Brooklyn</td>\n",
              "      <td>Crown Heights</td>\n",
              "      <td>1</td>\n",
              "    </tr>\n",
              "    <tr>\n",
              "      <th>5246</th>\n",
              "      <td>22014840</td>\n",
              "      <td>Sunny Bedroom Only 1 Metro Stop to Manhattan</td>\n",
              "      <td>32093643</td>\n",
              "      <td>Scarlett</td>\n",
              "      <td>Private Room</td>\n",
              "      <td>70.0</td>\n",
              "      <td>2</td>\n",
              "      <td>2018-01-07</td>\n",
              "      <td>0.11</td>\n",
              "      <td>0</td>\n",
              "      <td>4.024336</td>\n",
              "      <td>2.4</td>\n",
              "      <td>0.719426</td>\n",
              "      <td>2017-07-04</td>\n",
              "      <td>40.76211</td>\n",
              "      <td>-73.94887</td>\n",
              "      <td>Manhattan</td>\n",
              "      <td>Roosevelt Island</td>\n",
              "      <td>1</td>\n",
              "    </tr>\n",
              "    <tr>\n",
              "      <th>6068</th>\n",
              "      <td>22014840</td>\n",
              "      <td>Sunny Bedroom Only 1 Metro Stop to Manhattan</td>\n",
              "      <td>32093643</td>\n",
              "      <td>Scarlett</td>\n",
              "      <td>Private Room</td>\n",
              "      <td>70.0</td>\n",
              "      <td>2</td>\n",
              "      <td>2018-01-07</td>\n",
              "      <td>0.11</td>\n",
              "      <td>0</td>\n",
              "      <td>4.024336</td>\n",
              "      <td>2.4</td>\n",
              "      <td>0.719426</td>\n",
              "      <td>2017-07-04</td>\n",
              "      <td>40.76211</td>\n",
              "      <td>-73.94887</td>\n",
              "      <td>Manhattan</td>\n",
              "      <td>Roosevelt Island</td>\n",
              "      <td>1</td>\n",
              "    </tr>\n",
              "    <tr>\n",
              "      <th>5861</th>\n",
              "      <td>23990868</td>\n",
              "      <td>1 Bedroom in Luxury Building</td>\n",
              "      <td>4447548</td>\n",
              "      <td>Grace</td>\n",
              "      <td>Entire place</td>\n",
              "      <td>88.0</td>\n",
              "      <td>8</td>\n",
              "      <td>2019-06-16</td>\n",
              "      <td>0.56</td>\n",
              "      <td>18</td>\n",
              "      <td>4.164548</td>\n",
              "      <td>9.6</td>\n",
              "      <td>0.640106</td>\n",
              "      <td>2018-12-11</td>\n",
              "      <td>40.69336</td>\n",
              "      <td>-73.94453</td>\n",
              "      <td>Brooklyn</td>\n",
              "      <td>Bedford-Stuyvesant</td>\n",
              "      <td>1</td>\n",
              "    </tr>\n",
              "    <tr>\n",
              "      <th>6132</th>\n",
              "      <td>23990868</td>\n",
              "      <td>1 Bedroom in Luxury Building</td>\n",
              "      <td>4447548</td>\n",
              "      <td>Grace</td>\n",
              "      <td>Entire place</td>\n",
              "      <td>88.0</td>\n",
              "      <td>8</td>\n",
              "      <td>2019-06-16</td>\n",
              "      <td>0.56</td>\n",
              "      <td>18</td>\n",
              "      <td>4.164548</td>\n",
              "      <td>9.6</td>\n",
              "      <td>0.640106</td>\n",
              "      <td>2018-12-11</td>\n",
              "      <td>40.69336</td>\n",
              "      <td>-73.94453</td>\n",
              "      <td>Brooklyn</td>\n",
              "      <td>Bedford-Stuyvesant</td>\n",
              "      <td>1</td>\n",
              "    </tr>\n",
              "    <tr>\n",
              "      <th>7769</th>\n",
              "      <td>26554879</td>\n",
              "      <td>East Village/Union Square Flat</td>\n",
              "      <td>17400431</td>\n",
              "      <td>Bob</td>\n",
              "      <td>Entire place</td>\n",
              "      <td>179.0</td>\n",
              "      <td>32</td>\n",
              "      <td>2019-06-26</td>\n",
              "      <td>2.92</td>\n",
              "      <td>12</td>\n",
              "      <td>3.125513</td>\n",
              "      <td>38.4</td>\n",
              "      <td>0.631764</td>\n",
              "      <td>2018-12-21</td>\n",
              "      <td>40.73177</td>\n",
              "      <td>-73.98691</td>\n",
              "      <td>Manhattan</td>\n",
              "      <td>East Village</td>\n",
              "      <td>1</td>\n",
              "    </tr>\n",
              "    <tr>\n",
              "      <th>7116</th>\n",
              "      <td>26554879</td>\n",
              "      <td>East Village/Union Square Flat</td>\n",
              "      <td>17400431</td>\n",
              "      <td>Bob</td>\n",
              "      <td>Entire place</td>\n",
              "      <td>179.0</td>\n",
              "      <td>32</td>\n",
              "      <td>2019-06-26</td>\n",
              "      <td>2.92</td>\n",
              "      <td>12</td>\n",
              "      <td>3.125513</td>\n",
              "      <td>38.4</td>\n",
              "      <td>0.631764</td>\n",
              "      <td>2018-12-21</td>\n",
              "      <td>40.73177</td>\n",
              "      <td>-73.98691</td>\n",
              "      <td>Manhattan</td>\n",
              "      <td>East Village</td>\n",
              "      <td>1</td>\n",
              "    </tr>\n",
              "    <tr>\n",
              "      <th>5236</th>\n",
              "      <td>29844951</td>\n",
              "      <td>Cozy Home In Queens</td>\n",
              "      <td>49946447</td>\n",
              "      <td>Rah</td>\n",
              "      <td>Private Room</td>\n",
              "      <td>50.0</td>\n",
              "      <td>1</td>\n",
              "      <td>2019-03-19</td>\n",
              "      <td>0.27</td>\n",
              "      <td>311</td>\n",
              "      <td>4.792923</td>\n",
              "      <td>1.2</td>\n",
              "      <td>0.701232</td>\n",
              "      <td>2018-09-13</td>\n",
              "      <td>40.68842</td>\n",
              "      <td>-73.77677</td>\n",
              "      <td>Queens</td>\n",
              "      <td>Jamaica</td>\n",
              "      <td>1</td>\n",
              "    </tr>\n",
              "    <tr>\n",
              "      <th>9425</th>\n",
              "      <td>29844951</td>\n",
              "      <td>Cozy Home In Queens</td>\n",
              "      <td>49946447</td>\n",
              "      <td>Rah</td>\n",
              "      <td>Private Room</td>\n",
              "      <td>50.0</td>\n",
              "      <td>1</td>\n",
              "      <td>2019-03-19</td>\n",
              "      <td>0.27</td>\n",
              "      <td>311</td>\n",
              "      <td>4.792923</td>\n",
              "      <td>1.2</td>\n",
              "      <td>0.701232</td>\n",
              "      <td>2018-09-13</td>\n",
              "      <td>40.68842</td>\n",
              "      <td>-73.77677</td>\n",
              "      <td>Queens</td>\n",
              "      <td>Jamaica</td>\n",
              "      <td>1</td>\n",
              "    </tr>\n",
              "    <tr>\n",
              "      <th>7316</th>\n",
              "      <td>31470004</td>\n",
              "      <td>Private bedroom/Bathroom in a 2 bedroom apartment</td>\n",
              "      <td>71241932</td>\n",
              "      <td>Max</td>\n",
              "      <td>Private Room</td>\n",
              "      <td>2500.0</td>\n",
              "      <td>0</td>\n",
              "      <td>NaT</td>\n",
              "      <td>0.00</td>\n",
              "      <td>90</td>\n",
              "      <td>NaN</td>\n",
              "      <td>0.0</td>\n",
              "      <td>0.000000</td>\n",
              "      <td>2018-04-09</td>\n",
              "      <td>40.72544</td>\n",
              "      <td>-73.97818</td>\n",
              "      <td>Manhattan</td>\n",
              "      <td>East Village</td>\n",
              "      <td>0</td>\n",
              "    </tr>\n",
              "    <tr>\n",
              "      <th>9322</th>\n",
              "      <td>31470004</td>\n",
              "      <td>Private bedroom/Bathroom in a 2 bedroom apartment</td>\n",
              "      <td>71241932</td>\n",
              "      <td>Max</td>\n",
              "      <td>Private Room</td>\n",
              "      <td>2500.0</td>\n",
              "      <td>0</td>\n",
              "      <td>NaT</td>\n",
              "      <td>0.00</td>\n",
              "      <td>90</td>\n",
              "      <td>NaN</td>\n",
              "      <td>0.0</td>\n",
              "      <td>0.000000</td>\n",
              "      <td>2018-03-12</td>\n",
              "      <td>40.72544</td>\n",
              "      <td>-73.97818</td>\n",
              "      <td>Manhattan</td>\n",
              "      <td>East Village</td>\n",
              "      <td>0</td>\n",
              "    </tr>\n",
              "    <tr>\n",
              "      <th>1338</th>\n",
              "      <td>32610834</td>\n",
              "      <td>Manhattan by the water!</td>\n",
              "      <td>12132369</td>\n",
              "      <td>Omar</td>\n",
              "      <td>Entire place</td>\n",
              "      <td>150.0</td>\n",
              "      <td>0</td>\n",
              "      <td>NaT</td>\n",
              "      <td>0.00</td>\n",
              "      <td>9</td>\n",
              "      <td>NaN</td>\n",
              "      <td>0.0</td>\n",
              "      <td>0.000000</td>\n",
              "      <td>2018-06-28</td>\n",
              "      <td>40.73767</td>\n",
              "      <td>-73.97384</td>\n",
              "      <td>Manhattan</td>\n",
              "      <td>Kips Bay</td>\n",
              "      <td>0</td>\n",
              "    </tr>\n",
              "    <tr>\n",
              "      <th>6313</th>\n",
              "      <td>32610834</td>\n",
              "      <td>Manhattan by the water!</td>\n",
              "      <td>12132369</td>\n",
              "      <td>Omar</td>\n",
              "      <td>Entire place</td>\n",
              "      <td>150.0</td>\n",
              "      <td>0</td>\n",
              "      <td>NaT</td>\n",
              "      <td>0.00</td>\n",
              "      <td>9</td>\n",
              "      <td>NaN</td>\n",
              "      <td>0.0</td>\n",
              "      <td>0.000000</td>\n",
              "      <td>2018-06-28</td>\n",
              "      <td>40.73767</td>\n",
              "      <td>-73.97384</td>\n",
              "      <td>Manhattan</td>\n",
              "      <td>Kips Bay</td>\n",
              "      <td>0</td>\n",
              "    </tr>\n",
              "    <tr>\n",
              "      <th>6085</th>\n",
              "      <td>33346762</td>\n",
              "      <td>2BR Apartment in Brownstone Brooklyn!</td>\n",
              "      <td>50321289</td>\n",
              "      <td>Avery</td>\n",
              "      <td>Entire place</td>\n",
              "      <td>140.0</td>\n",
              "      <td>4</td>\n",
              "      <td>2019-06-14</td>\n",
              "      <td>1.58</td>\n",
              "      <td>4</td>\n",
              "      <td>4.013393</td>\n",
              "      <td>4.8</td>\n",
              "      <td>0.719591</td>\n",
              "      <td>2018-12-09</td>\n",
              "      <td>40.68200</td>\n",
              "      <td>-73.95681</td>\n",
              "      <td>Brooklyn</td>\n",
              "      <td>Bedford-Stuyvesant</td>\n",
              "      <td>1</td>\n",
              "    </tr>\n",
              "    <tr>\n",
              "      <th>2118</th>\n",
              "      <td>33346762</td>\n",
              "      <td>2BR Apartment in Brownstone Brooklyn!</td>\n",
              "      <td>50321289</td>\n",
              "      <td>Avery</td>\n",
              "      <td>Entire place</td>\n",
              "      <td>140.0</td>\n",
              "      <td>4</td>\n",
              "      <td>2019-06-14</td>\n",
              "      <td>1.58</td>\n",
              "      <td>4</td>\n",
              "      <td>4.013393</td>\n",
              "      <td>4.8</td>\n",
              "      <td>0.719591</td>\n",
              "      <td>2018-12-09</td>\n",
              "      <td>40.68200</td>\n",
              "      <td>-73.95681</td>\n",
              "      <td>Brooklyn</td>\n",
              "      <td>Bedford-Stuyvesant</td>\n",
              "      <td>1</td>\n",
              "    </tr>\n",
              "    <tr>\n",
              "      <th>5025</th>\n",
              "      <td>33831116</td>\n",
              "      <td>Sonder | Stock Exchange | Collected 1BR + Laundry</td>\n",
              "      <td>219517861</td>\n",
              "      <td>Sonder (NYC)</td>\n",
              "      <td>Entire place</td>\n",
              "      <td>229.0</td>\n",
              "      <td>5</td>\n",
              "      <td>2019-06-15</td>\n",
              "      <td>1.92</td>\n",
              "      <td>350</td>\n",
              "      <td>4.026379</td>\n",
              "      <td>6.0</td>\n",
              "      <td>0.601737</td>\n",
              "      <td>2018-12-10</td>\n",
              "      <td>40.70621</td>\n",
              "      <td>-74.01199</td>\n",
              "      <td>Manhattan</td>\n",
              "      <td>Financial District</td>\n",
              "      <td>1</td>\n",
              "    </tr>\n",
              "    <tr>\n",
              "      <th>5077</th>\n",
              "      <td>33831116</td>\n",
              "      <td>Sonder | Stock Exchange | Collected 1BR + Laundry</td>\n",
              "      <td>219517861</td>\n",
              "      <td>Sonder (NYC)</td>\n",
              "      <td>Entire place</td>\n",
              "      <td>229.0</td>\n",
              "      <td>5</td>\n",
              "      <td>2019-06-15</td>\n",
              "      <td>1.92</td>\n",
              "      <td>350</td>\n",
              "      <td>4.026379</td>\n",
              "      <td>6.0</td>\n",
              "      <td>0.601737</td>\n",
              "      <td>2018-12-10</td>\n",
              "      <td>40.70621</td>\n",
              "      <td>-74.01199</td>\n",
              "      <td>Manhattan</td>\n",
              "      <td>Financial District</td>\n",
              "      <td>1</td>\n",
              "    </tr>\n",
              "    <tr>\n",
              "      <th>1658</th>\n",
              "      <td>35646737</td>\n",
              "      <td>Private Cabins @ Chelsea, Manhattan</td>\n",
              "      <td>117365574</td>\n",
              "      <td>Maria</td>\n",
              "      <td>Private Room</td>\n",
              "      <td>85.0</td>\n",
              "      <td>1</td>\n",
              "      <td>2019-06-22</td>\n",
              "      <td>1.00</td>\n",
              "      <td>261</td>\n",
              "      <td>4.951714</td>\n",
              "      <td>1.2</td>\n",
              "      <td>0.671388</td>\n",
              "      <td>2018-12-17</td>\n",
              "      <td>40.74946</td>\n",
              "      <td>-73.99627</td>\n",
              "      <td>Manhattan</td>\n",
              "      <td>Chelsea</td>\n",
              "      <td>1</td>\n",
              "    </tr>\n",
              "    <tr>\n",
              "      <th>3340</th>\n",
              "      <td>35646737</td>\n",
              "      <td>Private Cabins @ Chelsea, Manhattan</td>\n",
              "      <td>117365574</td>\n",
              "      <td>Maria</td>\n",
              "      <td>Private Room</td>\n",
              "      <td>85.0</td>\n",
              "      <td>1</td>\n",
              "      <td>2019-06-22</td>\n",
              "      <td>1.00</td>\n",
              "      <td>261</td>\n",
              "      <td>4.951714</td>\n",
              "      <td>1.2</td>\n",
              "      <td>0.671388</td>\n",
              "      <td>2018-12-17</td>\n",
              "      <td>40.74946</td>\n",
              "      <td>-73.99627</td>\n",
              "      <td>Manhattan</td>\n",
              "      <td>Chelsea</td>\n",
              "      <td>1</td>\n",
              "    </tr>\n",
              "    <tr>\n",
              "      <th>7155</th>\n",
              "      <td>35801208</td>\n",
              "      <td>Comfy 2 bedroom Close To Manhattan</td>\n",
              "      <td>256911412</td>\n",
              "      <td>Taylor</td>\n",
              "      <td>Entire place</td>\n",
              "      <td>101.0</td>\n",
              "      <td>0</td>\n",
              "      <td>NaT</td>\n",
              "      <td>0.00</td>\n",
              "      <td>27</td>\n",
              "      <td>NaN</td>\n",
              "      <td>0.0</td>\n",
              "      <td>0.000000</td>\n",
              "      <td>2018-10-17</td>\n",
              "      <td>40.70469</td>\n",
              "      <td>-73.93690</td>\n",
              "      <td>Brooklyn</td>\n",
              "      <td>Williamsburg</td>\n",
              "      <td>0</td>\n",
              "    </tr>\n",
              "    <tr>\n",
              "      <th>9265</th>\n",
              "      <td>35801208</td>\n",
              "      <td>Comfy 2 bedroom Close To Manhattan</td>\n",
              "      <td>256911412</td>\n",
              "      <td>Taylor</td>\n",
              "      <td>Entire place</td>\n",
              "      <td>101.0</td>\n",
              "      <td>0</td>\n",
              "      <td>NaT</td>\n",
              "      <td>0.00</td>\n",
              "      <td>27</td>\n",
              "      <td>NaN</td>\n",
              "      <td>0.0</td>\n",
              "      <td>0.000000</td>\n",
              "      <td>2018-05-03</td>\n",
              "      <td>40.70469</td>\n",
              "      <td>-73.93690</td>\n",
              "      <td>Brooklyn</td>\n",
              "      <td>Williamsburg</td>\n",
              "      <td>0</td>\n",
              "    </tr>\n",
              "  </tbody>\n",
              "</table>\n",
              "</div>"
            ],
            "text/plain": [
              "      listing_id  ... is_rated\n",
              "1145      253806  ...        1\n",
              "6562      253806  ...        1\n",
              "8699     2044392  ...        0\n",
              "5761     2044392  ...        0\n",
              "4187     4244242  ...        1\n",
              "2871     4244242  ...        1\n",
              "77       7319856  ...        1\n",
              "2255     7319856  ...        1\n",
              "555      9078222  ...        1\n",
              "7933     9078222  ...        1\n",
              "1481    15027024  ...        1\n",
              "3430    15027024  ...        1\n",
              "3065    16518377  ...        1\n",
              "5397    16518377  ...        1\n",
              "3007    17861841  ...        1\n",
              "368     17861841  ...        1\n",
              "6438    19477677  ...        1\n",
              "5251    19477677  ...        1\n",
              "5454    21106251  ...        1\n",
              "6832    21106251  ...        1\n",
              "5246    22014840  ...        1\n",
              "6068    22014840  ...        1\n",
              "5861    23990868  ...        1\n",
              "6132    23990868  ...        1\n",
              "7769    26554879  ...        1\n",
              "7116    26554879  ...        1\n",
              "5236    29844951  ...        1\n",
              "9425    29844951  ...        1\n",
              "7316    31470004  ...        0\n",
              "9322    31470004  ...        0\n",
              "1338    32610834  ...        0\n",
              "6313    32610834  ...        0\n",
              "6085    33346762  ...        1\n",
              "2118    33346762  ...        1\n",
              "5025    33831116  ...        1\n",
              "5077    33831116  ...        1\n",
              "1658    35646737  ...        1\n",
              "3340    35646737  ...        1\n",
              "7155    35801208  ...        0\n",
              "9265    35801208  ...        0\n",
              "\n",
              "[40 rows x 19 columns]"
            ]
          },
          "metadata": {
            "tags": []
          },
          "execution_count": 116
        }
      ]
    },
    {
      "cell_type": "code",
      "metadata": {
        "id": "uSXEpMFlJCJc"
      },
      "source": [
        "# Remove identical duplicates\n",
        "airbnb = airbnb.drop_duplicates()"
      ],
      "execution_count": null,
      "outputs": []
    },
    {
      "cell_type": "code",
      "metadata": {
        "id": "nYf1M1cNKIIN"
      },
      "source": [
        "# Find non-identical duplicates\n",
        "duplicates = airbnb.duplicated(subset = 'listing_id', keep = False)"
      ],
      "execution_count": null,
      "outputs": []
    },
    {
      "cell_type": "code",
      "metadata": {
        "id": "wiN1SBw8Kizr",
        "colab": {
          "base_uri": "https://localhost:8080/",
          "height": 1000
        },
        "outputId": "2cdb3279-a0e0-4806-9bbe-2506539332c4"
      },
      "source": [
        "# Show all duplicates\n",
        "airbnb[duplicates].sort_values('listing_id')"
      ],
      "execution_count": null,
      "outputs": [
        {
          "output_type": "execute_result",
          "data": {
            "text/html": [
              "<div>\n",
              "<style scoped>\n",
              "    .dataframe tbody tr th:only-of-type {\n",
              "        vertical-align: middle;\n",
              "    }\n",
              "\n",
              "    .dataframe tbody tr th {\n",
              "        vertical-align: top;\n",
              "    }\n",
              "\n",
              "    .dataframe thead th {\n",
              "        text-align: right;\n",
              "    }\n",
              "</style>\n",
              "<table border=\"1\" class=\"dataframe\">\n",
              "  <thead>\n",
              "    <tr style=\"text-align: right;\">\n",
              "      <th></th>\n",
              "      <th>listing_id</th>\n",
              "      <th>name</th>\n",
              "      <th>host_id</th>\n",
              "      <th>host_name</th>\n",
              "      <th>room_type</th>\n",
              "      <th>price</th>\n",
              "      <th>number_of_reviews</th>\n",
              "      <th>last_review</th>\n",
              "      <th>reviews_per_month</th>\n",
              "      <th>availability_365</th>\n",
              "      <th>rating</th>\n",
              "      <th>number_of_stays</th>\n",
              "      <th>5_stars</th>\n",
              "      <th>listing_added</th>\n",
              "      <th>latitude</th>\n",
              "      <th>longitude</th>\n",
              "      <th>borough</th>\n",
              "      <th>neighbourhood</th>\n",
              "      <th>is_rated</th>\n",
              "    </tr>\n",
              "  </thead>\n",
              "  <tbody>\n",
              "    <tr>\n",
              "      <th>5761</th>\n",
              "      <td>2044392</td>\n",
              "      <td>The heart of Williamsburg 2 bedroom</td>\n",
              "      <td>620218</td>\n",
              "      <td>Sarah</td>\n",
              "      <td>Entire place</td>\n",
              "      <td>250.0</td>\n",
              "      <td>0</td>\n",
              "      <td>NaT</td>\n",
              "      <td>0.00</td>\n",
              "      <td>0</td>\n",
              "      <td>NaN</td>\n",
              "      <td>0.0</td>\n",
              "      <td>0.000000</td>\n",
              "      <td>2018-05-24</td>\n",
              "      <td>40.71257</td>\n",
              "      <td>-73.96149</td>\n",
              "      <td>Brooklyn</td>\n",
              "      <td>Williamsburg</td>\n",
              "      <td>0</td>\n",
              "    </tr>\n",
              "    <tr>\n",
              "      <th>8699</th>\n",
              "      <td>2044392</td>\n",
              "      <td>The heart of Williamsburg 2 bedroom</td>\n",
              "      <td>620218</td>\n",
              "      <td>Sarah</td>\n",
              "      <td>Entire place</td>\n",
              "      <td>245.0</td>\n",
              "      <td>0</td>\n",
              "      <td>NaT</td>\n",
              "      <td>0.00</td>\n",
              "      <td>0</td>\n",
              "      <td>NaN</td>\n",
              "      <td>0.0</td>\n",
              "      <td>0.000000</td>\n",
              "      <td>2018-08-09</td>\n",
              "      <td>40.71257</td>\n",
              "      <td>-73.96149</td>\n",
              "      <td>Brooklyn</td>\n",
              "      <td>Williamsburg</td>\n",
              "      <td>0</td>\n",
              "    </tr>\n",
              "    <tr>\n",
              "      <th>2871</th>\n",
              "      <td>4244242</td>\n",
              "      <td>Best Bedroom in Bedstuy/Bushwick. Ensuite bath...</td>\n",
              "      <td>22023014</td>\n",
              "      <td>BrooklynSleeps</td>\n",
              "      <td>Private Room</td>\n",
              "      <td>70.0</td>\n",
              "      <td>110</td>\n",
              "      <td>2019-06-23</td>\n",
              "      <td>1.96</td>\n",
              "      <td>323</td>\n",
              "      <td>4.962314</td>\n",
              "      <td>132.0</td>\n",
              "      <td>0.809882</td>\n",
              "      <td>2018-12-18</td>\n",
              "      <td>40.69496</td>\n",
              "      <td>-73.93949</td>\n",
              "      <td>Brooklyn</td>\n",
              "      <td>Bedford-Stuyvesant</td>\n",
              "      <td>1</td>\n",
              "    </tr>\n",
              "    <tr>\n",
              "      <th>4187</th>\n",
              "      <td>4244242</td>\n",
              "      <td>Best Bedroom in Bedstuy/Bushwick. Ensuite bath...</td>\n",
              "      <td>22023014</td>\n",
              "      <td>BrooklynSleeps</td>\n",
              "      <td>Private Room</td>\n",
              "      <td>73.0</td>\n",
              "      <td>110</td>\n",
              "      <td>2019-06-23</td>\n",
              "      <td>1.96</td>\n",
              "      <td>323</td>\n",
              "      <td>4.962314</td>\n",
              "      <td>132.0</td>\n",
              "      <td>0.809882</td>\n",
              "      <td>2018-12-18</td>\n",
              "      <td>40.69496</td>\n",
              "      <td>-73.93949</td>\n",
              "      <td>Brooklyn</td>\n",
              "      <td>Bedford-Stuyvesant</td>\n",
              "      <td>1</td>\n",
              "    </tr>\n",
              "    <tr>\n",
              "      <th>77</th>\n",
              "      <td>7319856</td>\n",
              "      <td>450ft Square Studio in Gramercy NY</td>\n",
              "      <td>11773680</td>\n",
              "      <td>Adam</td>\n",
              "      <td>Entire place</td>\n",
              "      <td>289.0</td>\n",
              "      <td>4</td>\n",
              "      <td>2016-05-22</td>\n",
              "      <td>0.09</td>\n",
              "      <td>225</td>\n",
              "      <td>3.903764</td>\n",
              "      <td>4.8</td>\n",
              "      <td>0.756381</td>\n",
              "      <td>2015-11-17</td>\n",
              "      <td>40.73813</td>\n",
              "      <td>-73.98098</td>\n",
              "      <td>Manhattan</td>\n",
              "      <td>Kips Bay</td>\n",
              "      <td>1</td>\n",
              "    </tr>\n",
              "    <tr>\n",
              "      <th>2255</th>\n",
              "      <td>7319856</td>\n",
              "      <td>450ft Square Studio in Gramercy NY</td>\n",
              "      <td>11773680</td>\n",
              "      <td>Adam</td>\n",
              "      <td>Entire place</td>\n",
              "      <td>280.0</td>\n",
              "      <td>4</td>\n",
              "      <td>2016-05-22</td>\n",
              "      <td>0.09</td>\n",
              "      <td>225</td>\n",
              "      <td>3.903764</td>\n",
              "      <td>4.8</td>\n",
              "      <td>0.756381</td>\n",
              "      <td>2015-11-17</td>\n",
              "      <td>40.73813</td>\n",
              "      <td>-73.98098</td>\n",
              "      <td>Manhattan</td>\n",
              "      <td>Kips Bay</td>\n",
              "      <td>1</td>\n",
              "    </tr>\n",
              "    <tr>\n",
              "      <th>555</th>\n",
              "      <td>9078222</td>\n",
              "      <td>Prospect Park 3 bdrm, Sleeps 8 (#2)</td>\n",
              "      <td>47219962</td>\n",
              "      <td>Babajide</td>\n",
              "      <td>Entire place</td>\n",
              "      <td>154.0</td>\n",
              "      <td>123</td>\n",
              "      <td>2019-07-01</td>\n",
              "      <td>2.74</td>\n",
              "      <td>263</td>\n",
              "      <td>3.466881</td>\n",
              "      <td>147.6</td>\n",
              "      <td>0.738191</td>\n",
              "      <td>2018-12-26</td>\n",
              "      <td>40.66086</td>\n",
              "      <td>-73.96159</td>\n",
              "      <td>Brooklyn</td>\n",
              "      <td>Prospect-Lefferts Gardens</td>\n",
              "      <td>1</td>\n",
              "    </tr>\n",
              "    <tr>\n",
              "      <th>7933</th>\n",
              "      <td>9078222</td>\n",
              "      <td>Prospect Park 3 bdrm, Sleeps 8 (#2)</td>\n",
              "      <td>47219962</td>\n",
              "      <td>Babajide</td>\n",
              "      <td>Entire place</td>\n",
              "      <td>150.0</td>\n",
              "      <td>123</td>\n",
              "      <td>2019-07-01</td>\n",
              "      <td>2.74</td>\n",
              "      <td>263</td>\n",
              "      <td>3.466881</td>\n",
              "      <td>147.6</td>\n",
              "      <td>0.738191</td>\n",
              "      <td>2018-12-26</td>\n",
              "      <td>40.66086</td>\n",
              "      <td>-73.96159</td>\n",
              "      <td>Brooklyn</td>\n",
              "      <td>Prospect-Lefferts Gardens</td>\n",
              "      <td>1</td>\n",
              "    </tr>\n",
              "    <tr>\n",
              "      <th>1481</th>\n",
              "      <td>15027024</td>\n",
              "      <td>Newly renovated 1bd on lively &amp; historic St Marks</td>\n",
              "      <td>8344620</td>\n",
              "      <td>Ethan</td>\n",
              "      <td>Entire place</td>\n",
              "      <td>180.0</td>\n",
              "      <td>10</td>\n",
              "      <td>2018-12-31</td>\n",
              "      <td>0.30</td>\n",
              "      <td>0</td>\n",
              "      <td>3.969729</td>\n",
              "      <td>12.0</td>\n",
              "      <td>0.772513</td>\n",
              "      <td>2018-06-27</td>\n",
              "      <td>40.72693</td>\n",
              "      <td>-73.98385</td>\n",
              "      <td>Manhattan</td>\n",
              "      <td>East Village</td>\n",
              "      <td>1</td>\n",
              "    </tr>\n",
              "    <tr>\n",
              "      <th>3430</th>\n",
              "      <td>15027024</td>\n",
              "      <td>Newly renovated 1bd on lively &amp; historic St Marks</td>\n",
              "      <td>8344620</td>\n",
              "      <td>Ethan</td>\n",
              "      <td>Entire place</td>\n",
              "      <td>180.0</td>\n",
              "      <td>10</td>\n",
              "      <td>2018-12-31</td>\n",
              "      <td>0.30</td>\n",
              "      <td>0</td>\n",
              "      <td>3.869729</td>\n",
              "      <td>12.0</td>\n",
              "      <td>0.772513</td>\n",
              "      <td>2018-06-27</td>\n",
              "      <td>40.72693</td>\n",
              "      <td>-73.98385</td>\n",
              "      <td>Manhattan</td>\n",
              "      <td>East Village</td>\n",
              "      <td>1</td>\n",
              "    </tr>\n",
              "    <tr>\n",
              "      <th>7316</th>\n",
              "      <td>31470004</td>\n",
              "      <td>Private bedroom/Bathroom in a 2 bedroom apartment</td>\n",
              "      <td>71241932</td>\n",
              "      <td>Max</td>\n",
              "      <td>Private Room</td>\n",
              "      <td>2500.0</td>\n",
              "      <td>0</td>\n",
              "      <td>NaT</td>\n",
              "      <td>0.00</td>\n",
              "      <td>90</td>\n",
              "      <td>NaN</td>\n",
              "      <td>0.0</td>\n",
              "      <td>0.000000</td>\n",
              "      <td>2018-04-09</td>\n",
              "      <td>40.72544</td>\n",
              "      <td>-73.97818</td>\n",
              "      <td>Manhattan</td>\n",
              "      <td>East Village</td>\n",
              "      <td>0</td>\n",
              "    </tr>\n",
              "    <tr>\n",
              "      <th>9322</th>\n",
              "      <td>31470004</td>\n",
              "      <td>Private bedroom/Bathroom in a 2 bedroom apartment</td>\n",
              "      <td>71241932</td>\n",
              "      <td>Max</td>\n",
              "      <td>Private Room</td>\n",
              "      <td>2500.0</td>\n",
              "      <td>0</td>\n",
              "      <td>NaT</td>\n",
              "      <td>0.00</td>\n",
              "      <td>90</td>\n",
              "      <td>NaN</td>\n",
              "      <td>0.0</td>\n",
              "      <td>0.000000</td>\n",
              "      <td>2018-03-12</td>\n",
              "      <td>40.72544</td>\n",
              "      <td>-73.97818</td>\n",
              "      <td>Manhattan</td>\n",
              "      <td>East Village</td>\n",
              "      <td>0</td>\n",
              "    </tr>\n",
              "    <tr>\n",
              "      <th>7155</th>\n",
              "      <td>35801208</td>\n",
              "      <td>Comfy 2 bedroom Close To Manhattan</td>\n",
              "      <td>256911412</td>\n",
              "      <td>Taylor</td>\n",
              "      <td>Entire place</td>\n",
              "      <td>101.0</td>\n",
              "      <td>0</td>\n",
              "      <td>NaT</td>\n",
              "      <td>0.00</td>\n",
              "      <td>27</td>\n",
              "      <td>NaN</td>\n",
              "      <td>0.0</td>\n",
              "      <td>0.000000</td>\n",
              "      <td>2018-10-17</td>\n",
              "      <td>40.70469</td>\n",
              "      <td>-73.93690</td>\n",
              "      <td>Brooklyn</td>\n",
              "      <td>Williamsburg</td>\n",
              "      <td>0</td>\n",
              "    </tr>\n",
              "    <tr>\n",
              "      <th>9265</th>\n",
              "      <td>35801208</td>\n",
              "      <td>Comfy 2 bedroom Close To Manhattan</td>\n",
              "      <td>256911412</td>\n",
              "      <td>Taylor</td>\n",
              "      <td>Entire place</td>\n",
              "      <td>101.0</td>\n",
              "      <td>0</td>\n",
              "      <td>NaT</td>\n",
              "      <td>0.00</td>\n",
              "      <td>27</td>\n",
              "      <td>NaN</td>\n",
              "      <td>0.0</td>\n",
              "      <td>0.000000</td>\n",
              "      <td>2018-05-03</td>\n",
              "      <td>40.70469</td>\n",
              "      <td>-73.93690</td>\n",
              "      <td>Brooklyn</td>\n",
              "      <td>Williamsburg</td>\n",
              "      <td>0</td>\n",
              "    </tr>\n",
              "  </tbody>\n",
              "</table>\n",
              "</div>"
            ],
            "text/plain": [
              "      listing_id  ... is_rated\n",
              "5761     2044392  ...        0\n",
              "8699     2044392  ...        0\n",
              "2871     4244242  ...        1\n",
              "4187     4244242  ...        1\n",
              "77       7319856  ...        1\n",
              "2255     7319856  ...        1\n",
              "555      9078222  ...        1\n",
              "7933     9078222  ...        1\n",
              "1481    15027024  ...        1\n",
              "3430    15027024  ...        1\n",
              "7316    31470004  ...        0\n",
              "9322    31470004  ...        0\n",
              "7155    35801208  ...        0\n",
              "9265    35801208  ...        0\n",
              "\n",
              "[14 rows x 19 columns]"
            ]
          },
          "metadata": {
            "tags": []
          },
          "execution_count": 135
        }
      ]
    },
    {
      "cell_type": "markdown",
      "metadata": {
        "id": "E6_O2EYkcGoF"
      },
      "source": [
        "To treat identical duplicates across some columns, we will chain the `.groupby()` and `.agg()` methods where we group by the column used to find duplicates (`listing_id`) and aggregate across statistical measures for `price`, `rating` and `list_added`. The `.agg()` method takes in a dictionary with each column's aggregation method - we will use the following aggregations:\n",
        "\n",
        "- `mean` for `price` and `rating` columns\n",
        "- `max` for `listing_added` column\n",
        "- `first` for all remaining column\n",
        "\n",
        "*A note on dictionary comprehensions:*\n",
        "\n",
        "Dictionaries are useful data structures in Python with the following format\n",
        "`my_dictionary = {key: value}` where a `key` is mapped to a `value` and whose `value` can be returned with `my_dictionary[key]` - dictionary comprehensions allow us to programmatically create dicitonaries using the structure:\n",
        "\n",
        "```\n",
        "{x: x*2 for x in [1,2,3,4,5]} \n",
        "{1:2, 2:4, 3:6, 4:8, 5:10}\n",
        "```"
      ]
    },
    {
      "cell_type": "code",
      "metadata": {
        "id": "lYhIclpMqa_i",
        "colab": {
          "base_uri": "https://localhost:8080/",
          "height": 102
        },
        "outputId": "a9fb963d-8b7b-4db8-e8f1-a1ffc13835be"
      },
      "source": [
        "# Get column names from airbnb\n",
        "column_names = airbnb.columns\n",
        "column_names"
      ],
      "execution_count": null,
      "outputs": [
        {
          "output_type": "execute_result",
          "data": {
            "text/plain": [
              "Index(['listing_id', '5_stars', 'availability_365', 'borough', 'host_id',\n",
              "       'host_name', 'is_rated', 'last_review', 'latitude', 'longitude', 'name',\n",
              "       'neighbourhood', 'number_of_reviews', 'number_of_stays',\n",
              "       'reviews_per_month', 'room_type', 'price', 'rating', 'listing_added'],\n",
              "      dtype='object')"
            ]
          },
          "metadata": {
            "tags": []
          },
          "execution_count": 148
        }
      ]
    },
    {
      "cell_type": "code",
      "metadata": {
        "id": "CxCJ3xPbKmJg",
        "colab": {
          "base_uri": "https://localhost:8080/",
          "height": 323
        },
        "outputId": "41b354f9-6a4f-4ccc-d6ac-57b8030400ef"
      },
      "source": [
        "# Create dictionary comprehension with 'first' as value for all columns not being aggregated\n",
        "aggregations = {column_name:'first' for column_name in column_names.difference(['listing_id', 'listing_added', 'rating', 'price'])}\n",
        "aggregations['price'] = 'mean'\n",
        "aggregations['rating'] = 'mean'\n",
        "aggregations['listing_added'] = 'max'\n",
        "aggregations"
      ],
      "execution_count": null,
      "outputs": [
        {
          "output_type": "execute_result",
          "data": {
            "text/plain": [
              "{'5_stars': 'first',\n",
              " 'availability_365': 'first',\n",
              " 'borough': 'first',\n",
              " 'host_id': 'first',\n",
              " 'host_name': 'first',\n",
              " 'is_rated': 'first',\n",
              " 'last_review': 'first',\n",
              " 'latitude': 'first',\n",
              " 'listing_added': 'max',\n",
              " 'longitude': 'first',\n",
              " 'name': 'first',\n",
              " 'neighbourhood': 'first',\n",
              " 'number_of_reviews': 'first',\n",
              " 'number_of_stays': 'first',\n",
              " 'price': 'mean',\n",
              " 'rating': 'mean',\n",
              " 'reviews_per_month': 'first',\n",
              " 'room_type': 'first'}"
            ]
          },
          "metadata": {
            "tags": []
          },
          "execution_count": 143
        }
      ]
    },
    {
      "cell_type": "code",
      "metadata": {
        "id": "jaS5j-KsRUD-"
      },
      "source": [
        "# Remove non-identical duplicates\n",
        "airbnb = airbnb.groupby('listing_id').agg(aggregations).reset_index()"
      ],
      "execution_count": null,
      "outputs": []
    },
    {
      "cell_type": "code",
      "metadata": {
        "id": "q93L6waFWpTq",
        "colab": {
          "base_uri": "https://localhost:8080/",
          "height": 69
        },
        "outputId": "fc9621eb-236e-40c3-e087-f23393ec4e23"
      },
      "source": [
        "# Make sure no duplication happened\n",
        "airbnb[airbnb.duplicated('listing_id', keep = False)]"
      ],
      "execution_count": null,
      "outputs": [
        {
          "output_type": "execute_result",
          "data": {
            "text/html": [
              "<div>\n",
              "<style scoped>\n",
              "    .dataframe tbody tr th:only-of-type {\n",
              "        vertical-align: middle;\n",
              "    }\n",
              "\n",
              "    .dataframe tbody tr th {\n",
              "        vertical-align: top;\n",
              "    }\n",
              "\n",
              "    .dataframe thead th {\n",
              "        text-align: right;\n",
              "    }\n",
              "</style>\n",
              "<table border=\"1\" class=\"dataframe\">\n",
              "  <thead>\n",
              "    <tr style=\"text-align: right;\">\n",
              "      <th></th>\n",
              "      <th>listing_id</th>\n",
              "      <th>5_stars</th>\n",
              "      <th>availability_365</th>\n",
              "      <th>borough</th>\n",
              "      <th>host_id</th>\n",
              "      <th>host_name</th>\n",
              "      <th>is_rated</th>\n",
              "      <th>last_review</th>\n",
              "      <th>latitude</th>\n",
              "      <th>longitude</th>\n",
              "      <th>name</th>\n",
              "      <th>neighbourhood</th>\n",
              "      <th>number_of_reviews</th>\n",
              "      <th>number_of_stays</th>\n",
              "      <th>reviews_per_month</th>\n",
              "      <th>room_type</th>\n",
              "      <th>price</th>\n",
              "      <th>rating</th>\n",
              "      <th>listing_added</th>\n",
              "    </tr>\n",
              "  </thead>\n",
              "  <tbody>\n",
              "  </tbody>\n",
              "</table>\n",
              "</div>"
            ],
            "text/plain": [
              "Empty DataFrame\n",
              "Columns: [listing_id, 5_stars, availability_365, borough, host_id, host_name, is_rated, last_review, latitude, longitude, name, neighbourhood, number_of_reviews, number_of_stays, reviews_per_month, room_type, price, rating, listing_added]\n",
              "Index: []"
            ]
          },
          "metadata": {
            "tags": []
          },
          "execution_count": 145
        }
      ]
    },
    {
      "cell_type": "code",
      "metadata": {
        "id": "ZmIRBaZgW4q2",
        "colab": {
          "base_uri": "https://localhost:8080/",
          "height": 445
        },
        "outputId": "86fdbcff-636a-4b20-c310-a070c3857b3a"
      },
      "source": [
        "# Print header of DataFrame\n",
        "airbnb.head()"
      ],
      "execution_count": null,
      "outputs": [
        {
          "output_type": "execute_result",
          "data": {
            "text/html": [
              "<div>\n",
              "<style scoped>\n",
              "    .dataframe tbody tr th:only-of-type {\n",
              "        vertical-align: middle;\n",
              "    }\n",
              "\n",
              "    .dataframe tbody tr th {\n",
              "        vertical-align: top;\n",
              "    }\n",
              "\n",
              "    .dataframe thead th {\n",
              "        text-align: right;\n",
              "    }\n",
              "</style>\n",
              "<table border=\"1\" class=\"dataframe\">\n",
              "  <thead>\n",
              "    <tr style=\"text-align: right;\">\n",
              "      <th></th>\n",
              "      <th>listing_id</th>\n",
              "      <th>5_stars</th>\n",
              "      <th>availability_365</th>\n",
              "      <th>borough</th>\n",
              "      <th>host_id</th>\n",
              "      <th>host_name</th>\n",
              "      <th>is_rated</th>\n",
              "      <th>last_review</th>\n",
              "      <th>latitude</th>\n",
              "      <th>longitude</th>\n",
              "      <th>name</th>\n",
              "      <th>neighbourhood</th>\n",
              "      <th>number_of_reviews</th>\n",
              "      <th>number_of_stays</th>\n",
              "      <th>reviews_per_month</th>\n",
              "      <th>room_type</th>\n",
              "      <th>price</th>\n",
              "      <th>rating</th>\n",
              "      <th>listing_added</th>\n",
              "    </tr>\n",
              "  </thead>\n",
              "  <tbody>\n",
              "    <tr>\n",
              "      <th>0</th>\n",
              "      <td>3831</td>\n",
              "      <td>0.757366</td>\n",
              "      <td>194</td>\n",
              "      <td>Brooklyn</td>\n",
              "      <td>4869</td>\n",
              "      <td>LisaRoxanne</td>\n",
              "      <td>1</td>\n",
              "      <td>2019-07-05</td>\n",
              "      <td>40.68514</td>\n",
              "      <td>-73.95976</td>\n",
              "      <td>Cozy Entire Floor of Brownstone</td>\n",
              "      <td>Clinton Hill</td>\n",
              "      <td>270</td>\n",
              "      <td>324.0</td>\n",
              "      <td>4.64</td>\n",
              "      <td>Entire place</td>\n",
              "      <td>89.0</td>\n",
              "      <td>3.273935</td>\n",
              "      <td>2018-12-30</td>\n",
              "    </tr>\n",
              "    <tr>\n",
              "      <th>1</th>\n",
              "      <td>6848</td>\n",
              "      <td>0.789743</td>\n",
              "      <td>46</td>\n",
              "      <td>Brooklyn</td>\n",
              "      <td>15991</td>\n",
              "      <td>Allen &amp; Irina</td>\n",
              "      <td>1</td>\n",
              "      <td>2019-06-29</td>\n",
              "      <td>40.70837</td>\n",
              "      <td>-73.95352</td>\n",
              "      <td>Only 2 stops to Manhattan studio</td>\n",
              "      <td>Williamsburg</td>\n",
              "      <td>148</td>\n",
              "      <td>177.6</td>\n",
              "      <td>1.20</td>\n",
              "      <td>Entire place</td>\n",
              "      <td>140.0</td>\n",
              "      <td>3.495760</td>\n",
              "      <td>2018-12-24</td>\n",
              "    </tr>\n",
              "    <tr>\n",
              "      <th>2</th>\n",
              "      <td>7322</td>\n",
              "      <td>0.669873</td>\n",
              "      <td>12</td>\n",
              "      <td>Manhattan</td>\n",
              "      <td>18946</td>\n",
              "      <td>Doti</td>\n",
              "      <td>1</td>\n",
              "      <td>2019-07-01</td>\n",
              "      <td>40.74192</td>\n",
              "      <td>-73.99501</td>\n",
              "      <td>Chelsea Perfect</td>\n",
              "      <td>Chelsea</td>\n",
              "      <td>260</td>\n",
              "      <td>312.0</td>\n",
              "      <td>2.12</td>\n",
              "      <td>Private Room</td>\n",
              "      <td>140.0</td>\n",
              "      <td>4.389051</td>\n",
              "      <td>2018-12-26</td>\n",
              "    </tr>\n",
              "    <tr>\n",
              "      <th>3</th>\n",
              "      <td>7726</td>\n",
              "      <td>0.640251</td>\n",
              "      <td>21</td>\n",
              "      <td>Brooklyn</td>\n",
              "      <td>20950</td>\n",
              "      <td>Adam And Charity</td>\n",
              "      <td>1</td>\n",
              "      <td>2019-06-22</td>\n",
              "      <td>40.67592</td>\n",
              "      <td>-73.94694</td>\n",
              "      <td>Hip Historic Brownstone Apartment with Backyard</td>\n",
              "      <td>Crown Heights</td>\n",
              "      <td>53</td>\n",
              "      <td>63.6</td>\n",
              "      <td>4.44</td>\n",
              "      <td>Entire place</td>\n",
              "      <td>99.0</td>\n",
              "      <td>3.305382</td>\n",
              "      <td>2018-12-17</td>\n",
              "    </tr>\n",
              "    <tr>\n",
              "      <th>4</th>\n",
              "      <td>12303</td>\n",
              "      <td>0.918593</td>\n",
              "      <td>311</td>\n",
              "      <td>Brooklyn</td>\n",
              "      <td>47618</td>\n",
              "      <td>Yolande</td>\n",
              "      <td>1</td>\n",
              "      <td>2018-09-30</td>\n",
              "      <td>40.69673</td>\n",
              "      <td>-73.97584</td>\n",
              "      <td>1bdr w private bath. in lofty apt</td>\n",
              "      <td>Fort Greene</td>\n",
              "      <td>25</td>\n",
              "      <td>30.0</td>\n",
              "      <td>0.23</td>\n",
              "      <td>Private Room</td>\n",
              "      <td>120.0</td>\n",
              "      <td>4.568745</td>\n",
              "      <td>2018-03-27</td>\n",
              "    </tr>\n",
              "  </tbody>\n",
              "</table>\n",
              "</div>"
            ],
            "text/plain": [
              "   listing_id   5_stars  availability_365  ...  price    rating listing_added\n",
              "0        3831  0.757366               194  ...   89.0  3.273935    2018-12-30\n",
              "1        6848  0.789743                46  ...  140.0  3.495760    2018-12-24\n",
              "2        7322  0.669873                12  ...  140.0  4.389051    2018-12-26\n",
              "3        7726  0.640251                21  ...   99.0  3.305382    2018-12-17\n",
              "4       12303  0.918593               311  ...  120.0  4.568745    2018-03-27\n",
              "\n",
              "[5 rows x 19 columns]"
            ]
          },
          "metadata": {
            "tags": []
          },
          "execution_count": 153
        }
      ]
    },
    {
      "cell_type": "markdown",
      "metadata": {
        "id": "fW7anvxr0rRp"
      },
      "source": [
        "## **Q&A**"
      ]
    },
    {
      "cell_type": "markdown",
      "metadata": {
        "id": "vIhIK0Cd_hGs"
      },
      "source": [
        "### Take home question\n",
        "\n",
        "Try to answer the following questions about the dataset:\n",
        "\n",
        "- What is the average price of listings by borough? Visualize your results with a bar plot!\n",
        "- What is the average availability in days of listings by borough? Visualize your results with a bar plot!\n",
        "- What is the median price per room type in each borough? Visualize your results with a bar plot!\n",
        "- Visualize the number of listings over time.\n",
        "\n",
        "**Functions that should/could be used:**\n",
        "- `.groupby()` and `.agg(})`\n",
        "- `sns.barplot(x = , y = , hue = , data = )`\n",
        "- `sns.lineplot(x = , y = , data = )`\n",
        "- `.dt.strftime()` for extracting specific dates from a `datetime` column\n",
        "\n",
        "**Bonus points if:**\n",
        "- You finish more than one question\n",
        "\n",
        "**Submission details:**\n",
        "- Share with us a code snippet with your output on LinkedIn, Twitter or Facebook\n",
        "- Tag us on `@DataCamp` with the hashtag `#datacamplive`\n"
      ]
    },
    {
      "cell_type": "code",
      "metadata": {
        "id": "_64TRQeNA34v"
      },
      "source": [
        ""
      ],
      "execution_count": null,
      "outputs": []
    }
  ]
}