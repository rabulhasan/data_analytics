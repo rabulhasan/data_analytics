{
  "nbformat": 4,
  "nbformat_minor": 0,
  "metadata": {
    "colab": {
      "name": "Copy of Unit3_NumPy_Assignment_1.ipynb",
      "provenance": [],
      "collapsed_sections": [],
      "toc_visible": true,
      "include_colab_link": true
    },
    "kernelspec": {
      "name": "python3",
      "display_name": "Python 3"
    }
  },
  "cells": [
    {
      "cell_type": "markdown",
      "metadata": {
        "id": "view-in-github",
        "colab_type": "text"
      },
      "source": [
        "<a href=\"https://colab.research.google.com/github/rabulhasan/data_analytics_2/blob/main/Python/Copy_of_Unit3_NumPy_Assignment_1.ipynb\" target=\"_parent\"><img src=\"https://colab.research.google.com/assets/colab-badge.svg\" alt=\"Open In Colab\"/></a>"
      ]
    },
    {
      "cell_type": "markdown",
      "metadata": {
        "id": "Vgs8Kp4TidFQ"
      },
      "source": [
        "# Unit 3 - Advanced Python - NumPy - Assingment #1  "
      ]
    },
    {
      "cell_type": "markdown",
      "metadata": {
        "id": "_Hq7Ny79iwgD"
      },
      "source": [
        "## 1. Environment Set up"
      ]
    },
    {
      "cell_type": "code",
      "metadata": {
        "id": "MiB4JCOP5FdJ"
      },
      "source": [
        "import numpy as np"
      ],
      "execution_count": 2,
      "outputs": []
    },
    {
      "cell_type": "code",
      "metadata": {
        "id": "lotvpVpvlKsR"
      },
      "source": [
        "#Dataset from summer Olympic London, year 2012\n",
        "np_olympic_country = np.array(['GBR','China','RUS','US','KOR','JPN','GER'])\n",
        "np_olympic_country_Gold = np.array([29,38,24,46,13,7,11])\n",
        "np_olympic_country_Silver = np.array([17,28,25,28,8,14,11])\n",
        "np_olympic_country_Bronze = np.array([19,22,32,29,7,17,14])"
      ],
      "execution_count": 3,
      "outputs": []
    },
    {
      "cell_type": "code",
      "metadata": {
        "id": "oNXY-CfrlLbE",
        "colab": {
          "base_uri": "https://localhost:8080/"
        },
        "outputId": "64fa8b59-72d1-4666-b80a-55e5ece6a559"
      },
      "source": [
        "result = np.where(np_olympic_country_Gold == np.max(np_olympic_country_Gold))\n",
        "result[0]"
      ],
      "execution_count": 4,
      "outputs": [
        {
          "output_type": "execute_result",
          "data": {
            "text/plain": [
              "array([3])"
            ]
          },
          "metadata": {
            "tags": []
          },
          "execution_count": 4
        }
      ]
    },
    {
      "cell_type": "markdown",
      "metadata": {
        "id": "io_27RSlizno"
      },
      "source": [
        "## 2.\tFind country with maximum gold"
      ]
    },
    {
      "cell_type": "code",
      "metadata": {
        "id": "Dh1o5cAylSHB"
      },
      "source": [
        "max_gold = np_olympic_country\n"
      ],
      "execution_count": 5,
      "outputs": []
    },
    {
      "cell_type": "code",
      "metadata": {
        "id": "vs8ppR-wlSKL",
        "colab": {
          "base_uri": "https://localhost:8080/"
        },
        "outputId": "8a8f6a15-d4bd-4d86-9997-4cbd95449a58"
      },
      "source": [
        "#find country with max gold medals\n",
        "print(max_gold[result[0]])"
      ],
      "execution_count": 6,
      "outputs": [
        {
          "output_type": "stream",
          "text": [
            "['US']\n"
          ],
          "name": "stdout"
        }
      ]
    },
    {
      "cell_type": "markdown",
      "metadata": {
        "id": "DAW8m8IQjRyR"
      },
      "source": [
        "## 3.\tFind countries with more than 20 gold medals"
      ]
    },
    {
      "cell_type": "code",
      "metadata": {
        "id": "guULMEhrjYtT",
        "colab": {
          "base_uri": "https://localhost:8080/"
        },
        "outputId": "2a9d5e45-1f07-401f-8a0c-1df6cd3a5894"
      },
      "source": [
        "#find countreis with more than 20 gold medals\n",
        "more_than_20 = np.where(np_olympic_country_Gold > 20)\n",
        "print(np_olympic_country[more_than_20[0]])"
      ],
      "execution_count": 13,
      "outputs": [
        {
          "output_type": "stream",
          "text": [
            "['GBR' 'China' 'RUS' 'US']\n"
          ],
          "name": "stdout"
        }
      ]
    },
    {
      "cell_type": "code",
      "metadata": {
        "id": "cv946RaOjw-G"
      },
      "source": [
        ""
      ],
      "execution_count": null,
      "outputs": []
    },
    {
      "cell_type": "code",
      "metadata": {
        "id": "4oNKGU70llVg"
      },
      "source": [
        ""
      ],
      "execution_count": null,
      "outputs": []
    },
    {
      "cell_type": "code",
      "metadata": {
        "id": "jjh2GdktllZY"
      },
      "source": [
        ""
      ],
      "execution_count": null,
      "outputs": []
    },
    {
      "cell_type": "code",
      "metadata": {
        "id": "iHaRIrt8llcd"
      },
      "source": [
        ""
      ],
      "execution_count": null,
      "outputs": []
    }
  ]
}