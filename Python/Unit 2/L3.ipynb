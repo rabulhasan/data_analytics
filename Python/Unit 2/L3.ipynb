{
  "nbformat": 4,
  "nbformat_minor": 0,
  "metadata": {
    "colab": {
      "name": "L3.ipynb",
      "provenance": [],
      "collapsed_sections": [],
      "authorship_tag": "ABX9TyOhrdyF7GnJzoDk1n8V4iU7",
      "include_colab_link": true
    },
    "kernelspec": {
      "name": "python3",
      "display_name": "Python 3"
    },
    "language_info": {
      "name": "python"
    }
  },
  "cells": [
    {
      "cell_type": "markdown",
      "metadata": {
        "id": "view-in-github",
        "colab_type": "text"
      },
      "source": [
        "<a href=\"https://colab.research.google.com/github/rabulhasan/data_analytics_2/blob/main/Python/Unit%202/L3.ipynb\" target=\"_parent\"><img src=\"https://colab.research.google.com/assets/colab-badge.svg\" alt=\"Open In Colab\"/></a>"
      ]
    },
    {
      "cell_type": "code",
      "metadata": {
        "id": "9qpPDseumA6S"
      },
      "source": [
        "# Create a list of 5 of your favorite tv shows.  \n",
        "tv_shows = ['Malcolm in the middle', 'Loki', 'The boyz', 'Sherlock', 'Money Heist']\n"
      ],
      "execution_count": 30,
      "outputs": []
    },
    {
      "cell_type": "code",
      "metadata": {
        "colab": {
          "base_uri": "https://localhost:8080/"
        },
        "id": "EEnIgM0SnILd",
        "outputId": "4f145cc6-107c-41c5-ffe6-8b6a999235b6"
      },
      "source": [
        "# \tPrint the list in its original order.\n",
        "print(tv_shows)"
      ],
      "execution_count": 31,
      "outputs": [
        {
          "output_type": "stream",
          "text": [
            "['Malcolm in the middle', 'Loki', 'The boyz', 'Sherlock', 'Money Heist']\n"
          ],
          "name": "stdout"
        }
      ]
    },
    {
      "cell_type": "code",
      "metadata": {
        "colab": {
          "base_uri": "https://localhost:8080/"
        },
        "id": "ux7pidD-nPyS",
        "outputId": "cb0cbdaa-2dd1-4990-c074-67d5fa971f63"
      },
      "source": [
        "# Use the sorted() function to print the list in alphabetical order. \n",
        "print(sorted(tv_shows))\n"
      ],
      "execution_count": 32,
      "outputs": [
        {
          "output_type": "stream",
          "text": [
            "['Loki', 'Malcolm in the middle', 'Money Heist', 'Sherlock', 'The boyz']\n"
          ],
          "name": "stdout"
        }
      ]
    },
    {
      "cell_type": "code",
      "metadata": {
        "id": "rP-t3VVUorwd"
      },
      "source": [
        "#  How is sorted() different from sort()?"
      ],
      "execution_count": 33,
      "outputs": []
    },
    {
      "cell_type": "markdown",
      "metadata": {
        "id": "OjgxfJcHourj"
      },
      "source": [
        "Sorted() sort a list temporarily, while sort() do it parmanently."
      ]
    },
    {
      "cell_type": "code",
      "metadata": {
        "colab": {
          "base_uri": "https://localhost:8080/"
        },
        "id": "Y01e9WRqo6V9",
        "outputId": "88705c53-09c4-44fa-df33-9c850686acb7"
      },
      "source": [
        "# \tPrint out your original list.\n",
        "print(tv_shows)"
      ],
      "execution_count": 34,
      "outputs": [
        {
          "output_type": "stream",
          "text": [
            "['Malcolm in the middle', 'Loki', 'The boyz', 'Sherlock', 'Money Heist']\n"
          ],
          "name": "stdout"
        }
      ]
    },
    {
      "cell_type": "code",
      "metadata": {
        "colab": {
          "base_uri": "https://localhost:8080/"
        },
        "id": "tTgJLkWopLYO",
        "outputId": "0e5f4750-1f46-401c-9c37-6432fb62e1f9"
      },
      "source": [
        "# Used sorted() to print your list in reverse alphabetical order.\n",
        "print(sorted(tv_shows, reverse=True))"
      ],
      "execution_count": 35,
      "outputs": [
        {
          "output_type": "stream",
          "text": [
            "['The boyz', 'Sherlock', 'Money Heist', 'Malcolm in the middle', 'Loki']\n"
          ],
          "name": "stdout"
        }
      ]
    },
    {
      "cell_type": "code",
      "metadata": {
        "colab": {
          "base_uri": "https://localhost:8080/"
        },
        "id": "j0B7qL6VpQN1",
        "outputId": "02d779ab-4a09-414b-9696-c0f71e5e4f1c"
      },
      "source": [
        "# Create a message indicating how many favorite TV shows you have – use the len() function.\n",
        "print(\"I have \"+ str(len(tv_shows))+ \" tv shows in my list\")"
      ],
      "execution_count": 36,
      "outputs": [
        {
          "output_type": "stream",
          "text": [
            "I have 5 tv shows in my list\n"
          ],
          "name": "stdout"
        }
      ]
    }
  ]
}