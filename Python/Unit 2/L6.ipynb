{
  "nbformat": 4,
  "nbformat_minor": 0,
  "metadata": {
    "colab": {
      "name": "L6.ipynb",
      "provenance": [],
      "collapsed_sections": [],
      "authorship_tag": "ABX9TyPOsfJzT+0G7WqtkQivHOWe",
      "include_colab_link": true
    },
    "kernelspec": {
      "name": "python3",
      "display_name": "Python 3"
    },
    "language_info": {
      "name": "python"
    }
  },
  "cells": [
    {
      "cell_type": "markdown",
      "metadata": {
        "id": "view-in-github",
        "colab_type": "text"
      },
      "source": [
        "<a href=\"https://colab.research.google.com/github/rabulhasan/data_analytics_2/blob/main/Python/Unit%202/L6.ipynb\" target=\"_parent\"><img src=\"https://colab.research.google.com/assets/colab-badge.svg\" alt=\"Open In Colab\"/></a>"
      ]
    },
    {
      "cell_type": "markdown",
      "metadata": {
        "id": "R7gM1QYp_rAw"
      },
      "source": [
        "# Lesson 6: Unit 2 – Python Dictionaries \n",
        "## Name: Rabiul Hasan"
      ]
    },
    {
      "cell_type": "code",
      "metadata": {
        "id": "XGQfFwLr_1VJ"
      },
      "source": [
        "# Create a simple dictionary that stores 2 variables, for example: first and last name.\n",
        "full_name = {'first_name': \"Rabiul\",\n",
        "             'last_name': \"Hasan\"}"
      ],
      "execution_count": 2,
      "outputs": []
    },
    {
      "cell_type": "code",
      "metadata": {
        "colab": {
          "base_uri": "https://localhost:8080/"
        },
        "id": "VKc1EtycAWa4",
        "outputId": "7a3698bc-4e8b-4882-98cf-d11306ef6db4"
      },
      "source": [
        "# Print out those variables stored in your previous dictionary. \n",
        "print(full_name)"
      ],
      "execution_count": 3,
      "outputs": [
        {
          "output_type": "stream",
          "text": [
            "{'first_name': 'Rabiul', 'last_name': 'Hasan'}\n"
          ],
          "name": "stdout"
        }
      ]
    },
    {
      "cell_type": "code",
      "metadata": {
        "colab": {
          "base_uri": "https://localhost:8080/"
        },
        "id": "D3vCG0dVAcEP",
        "outputId": "e8fb211b-cf77-4d7b-b822-6f444b54dd4d"
      },
      "source": [
        "# Add a message to those variables on printing: for example: “Hello, firstname lastname!”\n",
        "print('Hello, '+ full_name['first_name'] +' '+ full_name['last_name'] +'!' )"
      ],
      "execution_count": 7,
      "outputs": [
        {
          "output_type": "stream",
          "text": [
            "Hello, Rabiul Hasan!\n"
          ],
          "name": "stdout"
        }
      ]
    },
    {
      "cell_type": "code",
      "metadata": {
        "colab": {
          "base_uri": "https://localhost:8080/"
        },
        "id": "DA40G6E3BakO",
        "outputId": "1c892b04-483c-4a7e-96a4-0e6d0268d41f"
      },
      "source": [
        "# Create a dictionary that holds 2 key: value pairs: Loop through your dictionary and print each pair\n",
        "pets = {\n",
        "    'pet_1':'dog',\n",
        "    'pet_2':'cat'\n",
        "}\n",
        "for key, value in pets.items():\n",
        "  print('\\n'+key, end=' ')\n",
        "  print(': '+value, end=' ')\n"
      ],
      "execution_count": 25,
      "outputs": [
        {
          "output_type": "stream",
          "text": [
            "\n",
            "pet_1 : dog \n",
            "pet_2 : cat "
          ],
          "name": "stdout"
        }
      ]
    },
    {
      "cell_type": "code",
      "metadata": {
        "colab": {
          "base_uri": "https://localhost:8080/"
        },
        "id": "MBNWLqyCHEiI",
        "outputId": "1b0e51cb-ac8b-4ff7-f87a-4b149d3f9f39"
      },
      "source": [
        "# 5.\tCreate a nested dictionary containing three dictionaries – these dictionaries could be anything (favorite pets, travel locations, etc.)\n",
        "       #a.\tLoop through the dictionaries and print a message for each.\n",
        "intro = {\"Name\":\"Lincoln.\",\"Pets\": {\"Mammal\":\"Dog\", \"Places\": {\"City\":\"NYC.\"}}}\n",
        "while True:\n",
        "  print(\"Hi, My name is\",intro[\"Name\"], \"I have a\",intro[\"Pets\"][\"Mammal\"],\"and I live in\",intro[\"Pets\"][\"Places\"][\"City\"])\n",
        "  break"
      ],
      "execution_count": 39,
      "outputs": [
        {
          "output_type": "stream",
          "text": [
            "Hi, My name is Lincoln. I have a Dog and I live in NYC.\n"
          ],
          "name": "stdout"
        }
      ]
    }
  ]
}