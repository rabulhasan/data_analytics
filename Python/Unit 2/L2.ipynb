{
  "nbformat": 4,
  "nbformat_minor": 0,
  "metadata": {
    "colab": {
      "name": "L2.ipynb",
      "provenance": [],
      "authorship_tag": "ABX9TyNw1P2HgWqjuqbj3Z3Z5pGj",
      "include_colab_link": true
    },
    "kernelspec": {
      "name": "python3",
      "display_name": "Python 3"
    },
    "language_info": {
      "name": "python"
    }
  },
  "cells": [
    {
      "cell_type": "markdown",
      "metadata": {
        "id": "view-in-github",
        "colab_type": "text"
      },
      "source": [
        "<a href=\"https://colab.research.google.com/github/rabulhasan/data_analytics_2/blob/main/Python/Unit%202/L2.ipynb\" target=\"_parent\"><img src=\"https://colab.research.google.com/assets/colab-badge.svg\" alt=\"Open In Colab\"/></a>"
      ]
    },
    {
      "cell_type": "markdown",
      "metadata": {
        "id": "2afArzJxaBnN"
      },
      "source": [
        "# **Python for Data Analytics**\n",
        "# Name: Rabiul Hasan\n"
      ]
    },
    {
      "cell_type": "markdown",
      "metadata": {
        "id": "eU27KCeLZ6-F"
      },
      "source": [
        "\n",
        "\n",
        "*1.\tWhat is Python and why is it useful?*\n",
        "\n",
        "\n",
        "> Python is a programming langauge. It's a very powerful tools for machine leraning, web programming, data analytics.\n",
        "\n"
      ]
    },
    {
      "cell_type": "markdown",
      "metadata": {
        "id": "CstN4cJDa-KS"
      },
      "source": [
        "*2.\tAre the following variable names allowed in python?*\n",
        "\n",
        "\n",
        "> *  \t~~1_message~~ <-- not a valid name\n",
        "* Greeting_message\n",
        "* Message_1\n",
        "* ~~First name~~ <-- not a valid name\n",
        "* Full_name\n"
      ]
    },
    {
      "cell_type": "markdown",
      "metadata": {
        "id": "jFsPSjopdRWc"
      },
      "source": [
        "*3.\tCreate a variable that holds the string “hello there!”*"
      ]
    },
    {
      "cell_type": "code",
      "metadata": {
        "colab": {
          "base_uri": "https://localhost:8080/"
        },
        "id": "P-JndEaka6HP",
        "outputId": "2328313b-fc26-4a33-c75a-352b56e63b15"
      },
      "source": [
        "name = \"Hello world!\"\n",
        "print(name)"
      ],
      "execution_count": 1,
      "outputs": [
        {
          "output_type": "stream",
          "text": [
            "Hello world!\n"
          ],
          "name": "stdout"
        }
      ]
    },
    {
      "cell_type": "markdown",
      "metadata": {
        "id": "MjQdRrbWdrE7"
      },
      "source": [
        "*4.\tCreate a variable for first name, last name and an email extension.  Concatenating all three together to form an email address.  For example: firstnamelastname@gmail.com*"
      ]
    },
    {
      "cell_type": "code",
      "metadata": {
        "colab": {
          "base_uri": "https://localhost:8080/"
        },
        "id": "DgWkt7zudux1",
        "outputId": "0f31d7e2-702c-41a7-8841-04ca09784fe9"
      },
      "source": [
        "first_name = \"rabiul\"\n",
        "last_name = 'hasan'\n",
        "email = '@gmail.com'\n",
        "address = first_name + last_name + email\n",
        "print(address)"
      ],
      "execution_count": 2,
      "outputs": [
        {
          "output_type": "stream",
          "text": [
            "rabiulhasan@gmail.com\n"
          ],
          "name": "stdout"
        }
      ]
    },
    {
      "cell_type": "markdown",
      "metadata": {
        "id": "-QDRORi8dvZ9"
      },
      "source": [
        "*5.\tStore someone you know name in a variable called name.  Print their name in lower and uppercase using a method.*"
      ]
    },
    {
      "cell_type": "code",
      "metadata": {
        "colab": {
          "base_uri": "https://localhost:8080/"
        },
        "id": "EYwN8HrReaXB",
        "outputId": "edf7d942-c8a1-4fb1-bbb2-adf6b2f61449"
      },
      "source": [
        "name = 'monika'\n",
        "print(name.upper())\n",
        "print(name.lower())"
      ],
      "execution_count": 3,
      "outputs": [
        {
          "output_type": "stream",
          "text": [
            "MONIKA\n",
            "monika\n"
          ],
          "name": "stdout"
        }
      ]
    },
    {
      "cell_type": "markdown",
      "metadata": {
        "id": "zxXgTJ69ebBB"
      },
      "source": [
        "*6.\tUsing a variable, ask your friend if they want to hang out on the 15th of the month.  For example, “Do you want to hang out on the 15th of this month?”  You should have to convert the number to a string.*"
      ]
    },
    {
      "cell_type": "code",
      "metadata": {
        "colab": {
          "base_uri": "https://localhost:8080/"
        },
        "id": "R664FSJIeeOJ",
        "outputId": "38e45310-723a-4f0f-9589-69c02ca4542b"
      },
      "source": [
        "number = 15\n",
        "print(\"Do you want to hang out on the \"+str(number)+ \"th of this month?\")"
      ],
      "execution_count": 11,
      "outputs": [
        {
          "output_type": "stream",
          "text": [
            "Do you want to hang out on the 15th of this month?\n"
          ],
          "name": "stdout"
        }
      ]
    }
  ]
}