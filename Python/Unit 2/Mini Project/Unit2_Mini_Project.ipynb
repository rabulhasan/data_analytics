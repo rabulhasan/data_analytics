{
  "nbformat": 4,
  "nbformat_minor": 0,
  "metadata": {
    "colab": {
      "name": "Unit2_Mini_Project.ipynb",
      "provenance": [],
      "collapsed_sections": [],
      "toc_visible": true,
      "include_colab_link": true
    },
    "kernelspec": {
      "name": "python3",
      "display_name": "Python 3"
    }
  },
  "cells": [
    {
      "cell_type": "markdown",
      "metadata": {
        "id": "view-in-github",
        "colab_type": "text"
      },
      "source": [
        "<a href=\"https://colab.research.google.com/github/rabulhasan/data_analytics_2/blob/main/Python/Unit%202/Mini%20Project/Unit2_Mini_Project.ipynb\" target=\"_parent\"><img src=\"https://colab.research.google.com/assets/colab-badge.svg\" alt=\"Open In Colab\"/></a>"
      ]
    },
    {
      "cell_type": "markdown",
      "metadata": {
        "id": "Vgs8Kp4TidFQ"
      },
      "source": [
        "# Intrdouction to Python - Mini Project"
      ]
    },
    {
      "cell_type": "markdown",
      "metadata": {
        "id": "_Hq7Ny79iwgD"
      },
      "source": [
        "#Python Project – Odd or Even\n",
        "\n",
        "Ask the user for a number. Depending on whether the number is even or odd, print out an appropriate message to the user. Hint: how does an even / odd number react differently when divided by 2?\n"
      ]
    },
    {
      "cell_type": "code",
      "metadata": {
        "id": "lotvpVpvlKsR",
        "outputId": "b6431e1f-67ea-4acb-f634-bf7791abd261",
        "colab": {
          "base_uri": "https://localhost:8080/"
        }
      },
      "source": [
        "number = eval(input('Enter a number: '))\n",
        "if number%2==0:\n",
        "  print('{} is a even number'.format(number))\n",
        "elif number%2==1:\n",
        "  print( '{} is a odd number'.format(number))\n"
      ],
      "execution_count": 54,
      "outputs": [
        {
          "output_type": "stream",
          "text": [
            "Enter a number: 44\n",
            "44 is a even number\n"
          ],
          "name": "stdout"
        }
      ]
    },
    {
      "cell_type": "markdown",
      "metadata": {
        "id": "io_27RSlizno"
      },
      "source": [
        "# Bonus:\n",
        "\n",
        "1.\tIf the number is a multiple of 4, print out a different message.\n",
        "\n",
        "2.\tAsk the user for two numbers: one number to check (call it num) and one number to divide by (check). If check divides evenly into num, tell that to the user. If not, print a different appropriate message.\n"
      ]
    },
    {
      "cell_type": "code",
      "metadata": {
        "id": "Dh1o5cAylSHB",
        "outputId": "0caf053f-56a9-411a-a91b-bff95a47970b",
        "colab": {
          "base_uri": "https://localhost:8080/"
        }
      },
      "source": [
        "if number%4 == 0:\n",
        "  print('{} can be divided by 4'.format(number))\n",
        "else:\n",
        "  print('{} can not be divided by 4'.format(number))"
      ],
      "execution_count": 55,
      "outputs": [
        {
          "output_type": "stream",
          "text": [
            "44 can be divided by 4\n"
          ],
          "name": "stdout"
        }
      ]
    },
    {
      "cell_type": "code",
      "metadata": {
        "id": "vs8ppR-wlSKL",
        "outputId": "f3fed209-41f2-4622-ad80-0b35016c3f08",
        "colab": {
          "base_uri": "https://localhost:8080/"
        }
      },
      "source": [
        "num = eval(input('Enter any number: '))\n",
        "div_by = eval(input(\"Enter another number: \"))\n",
        "ans = num/div_by\n",
        "if num%div_by==0:\n",
        "  print('Your input {} is divided evenly by {} and the solution is {}'.format(num,div_by,ans))\n",
        "else:\n",
        "  print('Your input {} is not divided evenly by {} and the solution is {:.3f}'.format(num,div_by,ans))"
      ],
      "execution_count": 56,
      "outputs": [
        {
          "output_type": "stream",
          "text": [
            "Enter any number: 11\n",
            "Enter another number: 3\n",
            "Your input 11 is not divided evenly by 3 and the solution is 3.667\n"
          ],
          "name": "stdout"
        }
      ]
    }
  ]
}