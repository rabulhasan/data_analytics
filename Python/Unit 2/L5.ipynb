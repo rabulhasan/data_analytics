{
  "nbformat": 4,
  "nbformat_minor": 0,
  "metadata": {
    "colab": {
      "name": "L5.ipynb",
      "provenance": [],
      "collapsed_sections": [],
      "authorship_tag": "ABX9TyMmDcSRj1LoJVUokbc99DKS",
      "include_colab_link": true
    },
    "kernelspec": {
      "name": "python3",
      "display_name": "Python 3"
    },
    "language_info": {
      "name": "python"
    }
  },
  "cells": [
    {
      "cell_type": "markdown",
      "metadata": {
        "id": "view-in-github",
        "colab_type": "text"
      },
      "source": [
        "<a href=\"https://colab.research.google.com/github/rabulhasan/data_analytics_2/blob/main/Python/Unit%202/L5.ipynb\" target=\"_parent\"><img src=\"https://colab.research.google.com/assets/colab-badge.svg\" alt=\"Open In Colab\"/></a>"
      ]
    },
    {
      "cell_type": "markdown",
      "metadata": {
        "id": "b9rlDWVr0_jJ"
      },
      "source": [
        "# Lesson 5: If-elif-else Statements \n",
        "## Name: Rabiul Hasan"
      ]
    },
    {
      "cell_type": "markdown",
      "metadata": {
        "id": "_Rnq6jqT1l20"
      },
      "source": [
        "Make a list of 5 or more usernames, including an admin account.  Imagine you are writing code that will welcome people to your application on login. Loop through the list and print your greeting.\n",
        "\n",
        "\n",
        "> *  If the admin account logs in, give them a special greeting.  They’re the admin, after all!\n",
        "*   Other users can get the generic greeting"
      ]
    },
    {
      "cell_type": "code",
      "metadata": {
        "colab": {
          "base_uri": "https://localhost:8080/"
        },
        "id": "zZXSHRTwzzz3",
        "outputId": "f8da13ca-067a-489c-bc3c-7354c6541e77"
      },
      "source": [
        "usr_account= ['usr_1','usr_2','usr_3','usr_4','usr_5','admin']\n",
        "for user in usr_account:\n",
        "  if user is not \"admin\":\n",
        "    print(\"Welcome \" +user+ \", What is in your mind?\")\n",
        "print(\"Welcome \"+user+\"! This is your website!\")\n",
        "  "
      ],
      "execution_count": 25,
      "outputs": [
        {
          "output_type": "stream",
          "text": [
            "Welcome usr_1, What is in your mind?\n",
            "Welcome usr_2, What is in your mind?\n",
            "Welcome usr_3, What is in your mind?\n",
            "Welcome usr_4, What is in your mind?\n",
            "Welcome usr_5, What is in your mind?\n",
            "Welcome admin! This is your website!\n"
          ],
          "name": "stdout"
        }
      ]
    },
    {
      "cell_type": "markdown",
      "metadata": {
        "id": "jg84xNBP7PTW"
      },
      "source": [
        "Store numbers 1-10 in a list\n",
        "\n",
        "> *   Loop through the list\n",
        "*   Use an if-elif-else chain inside your loop to print the ordinal ending for each number – for example – 1st, 2nd, 3rd … etc."
      ]
    },
    {
      "cell_type": "code",
      "metadata": {
        "colab": {
          "base_uri": "https://localhost:8080/"
        },
        "id": "q2OImQxt7Fk2",
        "outputId": "9838b82d-35df-464e-df2b-01f96ec10c20"
      },
      "source": [
        "numbers = list(range(1,11))\n",
        "for number in numbers:\n",
        "  if number is 1:\n",
        "    print(str(number)+'st')\n",
        "  elif number is 2:\n",
        "    print(str(number)+'nd')\n",
        "  elif number is 3:\n",
        "    print(str(number)+'rd')\n",
        "  else:\n",
        "    print(str(number)+'th')"
      ],
      "execution_count": 33,
      "outputs": [
        {
          "output_type": "stream",
          "text": [
            "1st\n",
            "2nd\n",
            "3rd\n",
            "4th\n",
            "5th\n",
            "6th\n",
            "7th\n",
            "8th\n",
            "9th\n",
            "10th\n"
          ],
          "name": "stdout"
        }
      ]
    }
  ]
}