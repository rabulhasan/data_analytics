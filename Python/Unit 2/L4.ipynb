{
  "nbformat": 4,
  "nbformat_minor": 0,
  "metadata": {
    "colab": {
      "name": "L4.ipynb",
      "provenance": [],
      "collapsed_sections": [],
      "authorship_tag": "ABX9TyN6JdBLULu27OrcaKPxUwYs",
      "include_colab_link": true
    },
    "kernelspec": {
      "name": "python3",
      "display_name": "Python 3"
    },
    "language_info": {
      "name": "python"
    }
  },
  "cells": [
    {
      "cell_type": "markdown",
      "metadata": {
        "id": "view-in-github",
        "colab_type": "text"
      },
      "source": [
        "<a href=\"https://colab.research.google.com/github/rabulhasan/data_analytics_2/blob/main/Python/Unit%202/L4.ipynb\" target=\"_parent\"><img src=\"https://colab.research.google.com/assets/colab-badge.svg\" alt=\"Open In Colab\"/></a>"
      ]
    },
    {
      "cell_type": "markdown",
      "metadata": {
        "id": "glcsvNLXvUaV"
      },
      "source": [
        "# Lesson 4 – Looping\n",
        "## Name: Rabiul Hasan\n",
        "\n",
        "\n"
      ]
    },
    {
      "cell_type": "code",
      "metadata": {
        "id": "X0GWfgTiqqFP"
      },
      "source": [
        "# Create a list that holds 5 data variables. \n",
        "fruits = ['Banana','Orange','Apple','Strawbarry','Blueberries']"
      ],
      "execution_count": 30,
      "outputs": []
    },
    {
      "cell_type": "code",
      "metadata": {
        "colab": {
          "base_uri": "https://localhost:8080/"
        },
        "id": "_7IxIA5swTPh",
        "outputId": "a8d65f74-1b96-4d9c-daba-8df60c971e44"
      },
      "source": [
        "# Print out those variables by using a for loop.\n",
        "for fruit in fruits:\n",
        "  print(fruit) "
      ],
      "execution_count": 31,
      "outputs": [
        {
          "output_type": "stream",
          "text": [
            "Banana\n",
            "Orange\n",
            "Apple\n",
            "Strawbarry\n",
            "Blueberries\n"
          ],
          "name": "stdout"
        }
      ]
    },
    {
      "cell_type": "code",
      "metadata": {
        "colab": {
          "base_uri": "https://localhost:8080/"
        },
        "id": "3N0i6z82wjGf",
        "outputId": "a329be73-6bff-48d2-d25e-271bd76e09e3"
      },
      "source": [
        "# Modify your for loop to add a message to your for loop.\n",
        "for fruit in fruits:\n",
        "  print(fruit +\"is my fevorite food.\")"
      ],
      "execution_count": 32,
      "outputs": [
        {
          "output_type": "stream",
          "text": [
            "Bananais my fevorite food.\n",
            "Orangeis my fevorite food.\n",
            "Appleis my fevorite food.\n",
            "Strawbarryis my fevorite food.\n",
            "Blueberriesis my fevorite food.\n"
          ],
          "name": "stdout"
        }
      ]
    },
    {
      "cell_type": "code",
      "metadata": {
        "colab": {
          "base_uri": "https://localhost:8080/"
        },
        "id": "sE3RIqGTw_YX",
        "outputId": "a13ee979-1aca-4929-f938-4655d4681d35"
      },
      "source": [
        "# Use a for loop to print even numbers from 1-20.\n",
        "for i in range(2,20,2):\n",
        "  print(i)"
      ],
      "execution_count": 33,
      "outputs": [
        {
          "output_type": "stream",
          "text": [
            "2\n",
            "4\n",
            "6\n",
            "8\n",
            "10\n",
            "12\n",
            "14\n",
            "16\n",
            "18\n"
          ],
          "name": "stdout"
        }
      ]
    },
    {
      "cell_type": "code",
      "metadata": {
        "colab": {
          "base_uri": "https://localhost:8080/"
        },
        "id": "XqhRSPlxxLp7",
        "outputId": "192c397e-f4f8-492d-c465-20a4a1d9fa9e"
      },
      "source": [
        "# Sort your list in alphabetic order.\n",
        "fruits.sort()\n",
        "print(fruits)"
      ],
      "execution_count": 34,
      "outputs": [
        {
          "output_type": "stream",
          "text": [
            "['Apple', 'Banana', 'Blueberries', 'Orange', 'Strawbarry']\n"
          ],
          "name": "stdout"
        }
      ]
    },
    {
      "cell_type": "code",
      "metadata": {
        "colab": {
          "base_uri": "https://localhost:8080/"
        },
        "id": "YOXYqrPixfmK",
        "outputId": "f335abbf-3429-4609-bd41-806f063c0301"
      },
      "source": [
        "# Print out the first three elements of your list.\n",
        "print(fruits[0:3])"
      ],
      "execution_count": 35,
      "outputs": [
        {
          "output_type": "stream",
          "text": [
            "['Apple', 'Banana', 'Blueberries']\n"
          ],
          "name": "stdout"
        }
      ]
    },
    {
      "cell_type": "code",
      "metadata": {
        "colab": {
          "base_uri": "https://localhost:8080/"
        },
        "id": "PC-VOWPEx2Mh",
        "outputId": "d1ede51b-ecdf-41c8-9371-fbb1b81a7846"
      },
      "source": [
        "# Create a loop to print the last 2 elements of your list.\n",
        "for last_two in fruits[-2:]:\n",
        "  print(last_two)"
      ],
      "execution_count": 36,
      "outputs": [
        {
          "output_type": "stream",
          "text": [
            "Orange\n",
            "Strawbarry\n"
          ],
          "name": "stdout"
        }
      ]
    }
  ]
}