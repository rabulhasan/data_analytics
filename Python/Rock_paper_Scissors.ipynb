{
  "nbformat": 4,
  "nbformat_minor": 0,
  "metadata": {
    "colab": {
      "name": "Rock_paper_Scissors.ipynb",
      "provenance": []
    },
    "kernelspec": {
      "name": "python3",
      "display_name": "Python 3"
    },
    "language_info": {
      "name": "python"
    }
  },
  "cells": [
    {
      "cell_type": "markdown",
      "metadata": {
        "id": "j8nGr0_VGDqs"
      },
      "source": [
        "# **Rock-Paper-Scissors game**\n",
        "\n",
        "---\n",
        "\n"
      ]
    },
    {
      "cell_type": "markdown",
      "metadata": {
        "id": "F2xJCrqSGheT"
      },
      "source": [
        "Make a two-player Rock-Paper-Scissors game.\n",
        " (Hint: Ask for player plays (using input), compare them, print out a message of congratulations to the winner, and ask if the players want to start a new game)\n",
        "Remember the rules:\n",
        "•\tRock beats scissors\n",
        "•\tScissors beats paper\n",
        "•\tPaper beats rock\n"
      ]
    },
    {
      "cell_type": "code",
      "metadata": {
        "colab": {
          "base_uri": "https://localhost:8080/"
        },
        "id": "tpH4JWdmGBc0",
        "outputId": "73b94231-2f0f-4606-dc15-81d5b48f37f6"
      },
      "source": [
        "while True:\n",
        "    usr_command = input(\"You wants to Play or quit the game? Enter Play or quit: \")\n",
        "    usr_command = usr_command.lower()\n",
        "    if usr_command == \"quit\":\n",
        "      break\n",
        "    else:\n",
        "      player_1 = input(\"Enter Rock, paper or Scissors: \")\n",
        "      player_1 = player_1.lower()\n",
        "      player_2 = input(\"Enter Rock, paper or Scissors: \")\n",
        "      player_2 = player_2.lower()\n",
        "      if player_1 == \"rock\" and player_2 == \"rock\":\n",
        "        print(\"It's a tie\")\n",
        "      elif player_1 == \"rock\" and player_2 == \"paper\":\n",
        "        print(\"paper beats rock, Congratulations Player 2 wins!\")\n",
        "      elif player_1 == \"rock\" and player_2 == \"scissors\":\n",
        "        print(\"rock beats scissors, Congratulations Player 1 wins!\")\n",
        "      elif player_1 == \"paper\" and player_2 == \"rock\":\n",
        "        print(\"paper beats rock, Congratulations Player 1 wins!\")\n",
        "      elif player_1 == \"paper\" and player_2 == \"paper\":\n",
        "        print(\"It's a tie\")         \n",
        "      elif player_1 == \"paper\" and player_2 == \"scissors\":\n",
        "        print(\"Scissors beats paper, Congratulations Player 2 wins!\")\n",
        "      elif player_1 == \"scissors\" and player_2 == \"rock\":\n",
        "        print(' Rock beats Scissors, Congratulations Player 2 wins!')\n",
        "      elif player_1 == \"scissors\" and player_2 == \"paper\":\n",
        "        print(\"scissors beats paper, Congratulations Player 1 wins!\")\n",
        "      elif player_1 == \"scissors\" and player_2 == \"scissors\":\n",
        "        print(\" It's a tie\")   \n",
        "    "
      ],
      "execution_count": 72,
      "outputs": [
        {
          "output_type": "stream",
          "text": [
            "You wants to Play or quit the game? Enter Play or quit: play\n",
            "Enter Rock, paper or Scissors: rock\n",
            "Enter Rock, paper or Scissors: Rock\n",
            "It's a tie\n",
            "You wants to Play or quit the game? Enter Play or quit: quit\n"
          ],
          "name": "stdout"
        }
      ]
    }
  ]
}