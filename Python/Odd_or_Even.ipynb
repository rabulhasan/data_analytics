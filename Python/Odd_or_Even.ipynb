{
  "nbformat": 4,
  "nbformat_minor": 0,
  "metadata": {
    "colab": {
      "name": "Odd_or_Even.ipynb",
      "provenance": [],
      "collapsed_sections": [],
      "authorship_tag": "ABX9TyNLYhM6bsaV7tPwKV20p8pJ",
      "include_colab_link": true
    },
    "kernelspec": {
      "name": "python3",
      "display_name": "Python 3"
    },
    "language_info": {
      "name": "python"
    }
  },
  "cells": [
    {
      "cell_type": "markdown",
      "metadata": {
        "id": "view-in-github",
        "colab_type": "text"
      },
      "source": [
        "<a href=\https://colab.research.google.com/github/rabulhasan/data_analytics_2/blob/main/Python/Odd_or_Even.ipynb\" target=\"_parent\"><img src=\"https://colab.research.google.com/assets/colab-badge.svg\" alt=\"Open In Colab\"/></a>"
      ]
    },
    {
      "cell_type": "markdown",
      "metadata": {
        "id": "OXhHVLotfAOD"
      },
      "source": [
        "# Python Project – Odd or Even"
      ]
    },
    {
      "cell_type": "code",
      "metadata": {
        "colab": {
          "base_uri": "https://localhost:8080/"
        },
        "id": "hMvQmoj3fEy7",
        "outputId": "f4c96983-62c5-4529-cc20-3258b1d75f55"
      },
      "source": [
        "number = int(input('Enter a number: '))\n",
        "if number%2==0:\n",
        "  print('{} is even'.format(number))\n",
        "else:\n",
        "    print('{} is odd'.format(number))"
      ],
      "execution_count": 7,
      "outputs": [
        {
          "output_type": "stream",
          "text": [
            "Enter a number: 1\n",
            "1 is odd\n"
          ],
          "name": "stdout"
        }
      ]
    }
  ]
}
