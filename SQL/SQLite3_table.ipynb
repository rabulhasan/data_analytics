{
  "nbformat": 4,
  "nbformat_minor": 0,
  "metadata": {
    "colab": {
      "name": "SQLite3 table.ipynb",
      "provenance": [],
      "collapsed_sections": [],
      "authorship_tag": "ABX9TyOj/pEruiPgxnMm1CXwQEYC",
      "include_colab_link": true
    },
    "kernelspec": {
      "name": "python3",
      "display_name": "Python 3"
    },
    "language_info": {
      "name": "python"
    }
  },
  "cells": [
    {
      "cell_type": "markdown",
      "metadata": {
        "id": "view-in-github",
        "colab_type": "text"
      },
      "source": [
        "<a href=\"https://colab.research.google.com/github/rabulhasan/data_analytics_2/blob/main/SQL/SQLite3_table.ipynb\" target=\"_parent\"><img src=\"https://colab.research.google.com/assets/colab-badge.svg\" alt=\"Open In Colab\"/></a>"
      ]
    },
    {
      "cell_type": "code",
      "metadata": {
        "colab": {
          "base_uri": "https://localhost:8080/"
        },
        "id": "K6lHe-79Awdx",
        "outputId": "66566f1a-46ba-4386-f6d8-cffa0c5a7ad2"
      },
      "source": [
        "import sqlite3\n",
        "con = sqlite3.connect('Videos.db')\n",
        "cur = con.cursor()\n",
        "cur.execute(\"DROP TABLE IF EXISTS video;\")\n",
        "cur.execute(\"CREATE TABLE video ('id serial primary key', 'title taxt','len_vid' float, 'url taxt')\")\n",
        "cur.execute(\"INSERT INTO video VALUES(1,'Nainowale Ne Full Video Song | Padmaavat | Deepika Padukone | Shahid Kapoor | Ranveer Singh',2.32,'https://youtu.be/xE9FBL7jUGA')\")\n",
        "cur.execute(\"INSERT INTO video VALUES(2,'Bol Na Halke Halke | Full Song | Jhoom Barabar Jhoom | Abhishek, Preity | Shankar-Ehsaan-Loy, Gulzar',7.41,'https://youtu.be/jXwg9l9D51A')\")\n",
        "cur.execute(\"INSERT INTO video VALUES(3, 'Jon Batiste - I NEED YOU',3.50,'https://youtu.be/AXT00sWwuTQ')\")\n",
        "cur.execute(\"INSERT INTO video VALUES(4, 'Pharrell Williams - Happy (Video)', 4.00,'https://youtu.be/ZbZSe6N_BXs')\")\n",
        "\n",
        "cur.execute(\"SELECT * FROM video\")\n",
        "for video in cur:\n",
        "    print(video)"
      ],
      "execution_count": 33,
      "outputs": [
        {
          "output_type": "stream",
          "text": [
            "(1, 'Nainowale Ne Full Video Song | Padmaavat | Deepika Padukone | Shahid Kapoor | Ranveer Singh', 2.32, 'https://youtu.be/xE9FBL7jUGA')\n",
            "(2, 'Bol Na Halke Halke | Full Song | Jhoom Barabar Jhoom | Abhishek, Preity | Shankar-Ehsaan-Loy, Gulzar', 7.41, 'https://youtu.be/jXwg9l9D51A')\n",
            "(3, 'Jon Batiste - I NEED YOU', 3.5, 'https://youtu.be/AXT00sWwuTQ')\n",
            "(4, 'Pharrell Williams - Happy (Video)', 4.0, 'https://youtu.be/ZbZSe6N_BXs')\n"
          ],
          "name": "stdout"
        }
      ]
    },
    {
      "cell_type": "code",
      "metadata": {
        "id": "x0XHgbvOGTfc"
      },
      "source": [
        ""
      ],
      "execution_count": null,
      "outputs": []
    }
  ]
}